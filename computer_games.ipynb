{
 "cells": [
  {
   "cell_type": "markdown",
   "metadata": {},
   "source": [
    "# Анализ рынка компьютерных игр"
   ]
  },
  {
   "cell_type": "markdown",
   "metadata": {},
   "source": [
    "**Описание исследования.**\n",
    "    \n",
    "Интернет-магазин продаёт компьютерные игры. Доступны исторические данные о продажах игр, оценки пользователей и экспертов, жанры и платформы (например, Xbox или PlayStation). Необходимо выявить определяющие успешность игры закономерности. Это позволит сделать ставку на потенциально популярный продукт и спланировать рекламные кампании.\n",
    "\n",
    "**Цель исследования.**\n",
    " \n",
    "Определить потенциально популярный продукт\n",
    "    \n",
    "**Суть исследования**: \n",
    "\n",
    "Выявить определяющие успешность игры закономерности.\n",
    "    \n",
    "_____\n",
    "**Задачи исследования.**\n",
    "\n",
    "1. Выбрать данные за актуальный период.\n",
    "2. Определить потенциально прибыльные платформы.\n",
    "3. Определить зависимость продаж от отзывов.\n",
    "4. Определить потенциально прибыльные жанры.\n",
    "5. Составить портрет пользователя кажлного региона.\n",
    "6. Проверить гипотезы.\n",
    "_____\n",
    "**Исходные данные.**\n",
    "    \n",
    "Доступны исторические данные о продажах игр, оценки пользователей и экспертов, жанры и платформы (например, Xbox или PlayStation). \n",
    "* Name — название игры\n",
    "* Platform — платформа\n",
    "* Year_of_Release — год выпуска\n",
    "* Genre — жанр игры\n",
    "* NA_sales — продажи в Северной Америке (миллионы проданных копий)\n",
    "* EU_sales — продажи в Европе (миллионы проданных копий)\n",
    "* JP_sales — продажи в Японии (миллионы проданных копий)\n",
    "* Other_sales — продажи в других странах (миллионы проданных копий)\n",
    "* Critic_Score — оценка критиков (максимум 100)\n",
    "* User_Score — оценка пользователей (максимум 10)\n",
    "* Rating — рейтинг от организации ESRB (англ. Entertainment Software Rating Board). Эта ассоциация определяет рейтинг компьютерных игр и присваивает им подходящую возрастную категорию.           \n",
    "    \n",
    "Данные за 2016 год могут быть неполными."
   ]
  },
  {
   "cell_type": "code",
   "execution_count": 1,
   "metadata": {},
   "outputs": [],
   "source": [
    "import pandas as pd\n",
    "from matplotlib import pyplot as plt\n",
    "from scipy import stats as st"
   ]
  },
  {
   "cell_type": "code",
   "execution_count": 2,
   "metadata": {},
   "outputs": [],
   "source": [
    "data = pd.read_csv('/datasets/games.csv') #Открываем файл с даннымии"
   ]
  },
  {
   "cell_type": "code",
   "execution_count": 3,
   "metadata": {},
   "outputs": [
    {
     "name": "stdout",
     "output_type": "stream",
     "text": [
      "<class 'pandas.core.frame.DataFrame'>\n",
      "RangeIndex: 16715 entries, 0 to 16714\n",
      "Data columns (total 11 columns):\n",
      " #   Column           Non-Null Count  Dtype  \n",
      "---  ------           --------------  -----  \n",
      " 0   Name             16713 non-null  object \n",
      " 1   Platform         16715 non-null  object \n",
      " 2   Year_of_Release  16446 non-null  float64\n",
      " 3   Genre            16713 non-null  object \n",
      " 4   NA_sales         16715 non-null  float64\n",
      " 5   EU_sales         16715 non-null  float64\n",
      " 6   JP_sales         16715 non-null  float64\n",
      " 7   Other_sales      16715 non-null  float64\n",
      " 8   Critic_Score     8137 non-null   float64\n",
      " 9   User_Score       10014 non-null  object \n",
      " 10  Rating           9949 non-null   object \n",
      "dtypes: float64(6), object(5)\n",
      "memory usage: 1.4+ MB\n"
     ]
    }
   ],
   "source": [
    "data.info()"
   ]
  },
  {
   "cell_type": "code",
   "execution_count": 4,
   "metadata": {},
   "outputs": [
    {
     "data": {
      "text/html": [
       "<div>\n",
       "<style scoped>\n",
       "    .dataframe tbody tr th:only-of-type {\n",
       "        vertical-align: middle;\n",
       "    }\n",
       "\n",
       "    .dataframe tbody tr th {\n",
       "        vertical-align: top;\n",
       "    }\n",
       "\n",
       "    .dataframe thead th {\n",
       "        text-align: right;\n",
       "    }\n",
       "</style>\n",
       "<table border=\"1\" class=\"dataframe\">\n",
       "  <thead>\n",
       "    <tr style=\"text-align: right;\">\n",
       "      <th></th>\n",
       "      <th>Name</th>\n",
       "      <th>Platform</th>\n",
       "      <th>Year_of_Release</th>\n",
       "      <th>Genre</th>\n",
       "      <th>NA_sales</th>\n",
       "      <th>EU_sales</th>\n",
       "      <th>JP_sales</th>\n",
       "      <th>Other_sales</th>\n",
       "      <th>Critic_Score</th>\n",
       "      <th>User_Score</th>\n",
       "      <th>Rating</th>\n",
       "    </tr>\n",
       "  </thead>\n",
       "  <tbody>\n",
       "    <tr>\n",
       "      <th>0</th>\n",
       "      <td>Wii Sports</td>\n",
       "      <td>Wii</td>\n",
       "      <td>2006.0</td>\n",
       "      <td>Sports</td>\n",
       "      <td>41.36</td>\n",
       "      <td>28.96</td>\n",
       "      <td>3.77</td>\n",
       "      <td>8.45</td>\n",
       "      <td>76.0</td>\n",
       "      <td>8</td>\n",
       "      <td>E</td>\n",
       "    </tr>\n",
       "    <tr>\n",
       "      <th>1</th>\n",
       "      <td>Super Mario Bros.</td>\n",
       "      <td>NES</td>\n",
       "      <td>1985.0</td>\n",
       "      <td>Platform</td>\n",
       "      <td>29.08</td>\n",
       "      <td>3.58</td>\n",
       "      <td>6.81</td>\n",
       "      <td>0.77</td>\n",
       "      <td>NaN</td>\n",
       "      <td>NaN</td>\n",
       "      <td>NaN</td>\n",
       "    </tr>\n",
       "    <tr>\n",
       "      <th>2</th>\n",
       "      <td>Mario Kart Wii</td>\n",
       "      <td>Wii</td>\n",
       "      <td>2008.0</td>\n",
       "      <td>Racing</td>\n",
       "      <td>15.68</td>\n",
       "      <td>12.76</td>\n",
       "      <td>3.79</td>\n",
       "      <td>3.29</td>\n",
       "      <td>82.0</td>\n",
       "      <td>8.3</td>\n",
       "      <td>E</td>\n",
       "    </tr>\n",
       "    <tr>\n",
       "      <th>3</th>\n",
       "      <td>Wii Sports Resort</td>\n",
       "      <td>Wii</td>\n",
       "      <td>2009.0</td>\n",
       "      <td>Sports</td>\n",
       "      <td>15.61</td>\n",
       "      <td>10.93</td>\n",
       "      <td>3.28</td>\n",
       "      <td>2.95</td>\n",
       "      <td>80.0</td>\n",
       "      <td>8</td>\n",
       "      <td>E</td>\n",
       "    </tr>\n",
       "    <tr>\n",
       "      <th>4</th>\n",
       "      <td>Pokemon Red/Pokemon Blue</td>\n",
       "      <td>GB</td>\n",
       "      <td>1996.0</td>\n",
       "      <td>Role-Playing</td>\n",
       "      <td>11.27</td>\n",
       "      <td>8.89</td>\n",
       "      <td>10.22</td>\n",
       "      <td>1.00</td>\n",
       "      <td>NaN</td>\n",
       "      <td>NaN</td>\n",
       "      <td>NaN</td>\n",
       "    </tr>\n",
       "  </tbody>\n",
       "</table>\n",
       "</div>"
      ],
      "text/plain": [
       "                       Name Platform  Year_of_Release         Genre  NA_sales  \\\n",
       "0                Wii Sports      Wii           2006.0        Sports     41.36   \n",
       "1         Super Mario Bros.      NES           1985.0      Platform     29.08   \n",
       "2            Mario Kart Wii      Wii           2008.0        Racing     15.68   \n",
       "3         Wii Sports Resort      Wii           2009.0        Sports     15.61   \n",
       "4  Pokemon Red/Pokemon Blue       GB           1996.0  Role-Playing     11.27   \n",
       "\n",
       "   EU_sales  JP_sales  Other_sales  Critic_Score User_Score Rating  \n",
       "0     28.96      3.77         8.45          76.0          8      E  \n",
       "1      3.58      6.81         0.77           NaN        NaN    NaN  \n",
       "2     12.76      3.79         3.29          82.0        8.3      E  \n",
       "3     10.93      3.28         2.95          80.0          8      E  \n",
       "4      8.89     10.22         1.00           NaN        NaN    NaN  "
      ]
     },
     "execution_count": 4,
     "metadata": {},
     "output_type": "execute_result"
    }
   ],
   "source": [
    "data.head()"
   ]
  },
  {
   "cell_type": "markdown",
   "metadata": {},
   "source": [
    "Приведем названия столбцов к нижнему регистру"
   ]
  },
  {
   "cell_type": "code",
   "execution_count": 5,
   "metadata": {},
   "outputs": [],
   "source": [
    "data.columns = data.columns.str.lower()"
   ]
  },
  {
   "cell_type": "code",
   "execution_count": 6,
   "metadata": {},
   "outputs": [
    {
     "data": {
      "text/html": [
       "<div>\n",
       "<style scoped>\n",
       "    .dataframe tbody tr th:only-of-type {\n",
       "        vertical-align: middle;\n",
       "    }\n",
       "\n",
       "    .dataframe tbody tr th {\n",
       "        vertical-align: top;\n",
       "    }\n",
       "\n",
       "    .dataframe thead th {\n",
       "        text-align: right;\n",
       "    }\n",
       "</style>\n",
       "<table border=\"1\" class=\"dataframe\">\n",
       "  <thead>\n",
       "    <tr style=\"text-align: right;\">\n",
       "      <th></th>\n",
       "      <th>name</th>\n",
       "      <th>platform</th>\n",
       "      <th>year_of_release</th>\n",
       "      <th>genre</th>\n",
       "      <th>na_sales</th>\n",
       "      <th>eu_sales</th>\n",
       "      <th>jp_sales</th>\n",
       "      <th>other_sales</th>\n",
       "      <th>critic_score</th>\n",
       "      <th>user_score</th>\n",
       "      <th>rating</th>\n",
       "    </tr>\n",
       "  </thead>\n",
       "  <tbody>\n",
       "    <tr>\n",
       "      <th>0</th>\n",
       "      <td>Wii Sports</td>\n",
       "      <td>Wii</td>\n",
       "      <td>2006.0</td>\n",
       "      <td>Sports</td>\n",
       "      <td>41.36</td>\n",
       "      <td>28.96</td>\n",
       "      <td>3.77</td>\n",
       "      <td>8.45</td>\n",
       "      <td>76.0</td>\n",
       "      <td>8</td>\n",
       "      <td>E</td>\n",
       "    </tr>\n",
       "    <tr>\n",
       "      <th>1</th>\n",
       "      <td>Super Mario Bros.</td>\n",
       "      <td>NES</td>\n",
       "      <td>1985.0</td>\n",
       "      <td>Platform</td>\n",
       "      <td>29.08</td>\n",
       "      <td>3.58</td>\n",
       "      <td>6.81</td>\n",
       "      <td>0.77</td>\n",
       "      <td>NaN</td>\n",
       "      <td>NaN</td>\n",
       "      <td>NaN</td>\n",
       "    </tr>\n",
       "    <tr>\n",
       "      <th>2</th>\n",
       "      <td>Mario Kart Wii</td>\n",
       "      <td>Wii</td>\n",
       "      <td>2008.0</td>\n",
       "      <td>Racing</td>\n",
       "      <td>15.68</td>\n",
       "      <td>12.76</td>\n",
       "      <td>3.79</td>\n",
       "      <td>3.29</td>\n",
       "      <td>82.0</td>\n",
       "      <td>8.3</td>\n",
       "      <td>E</td>\n",
       "    </tr>\n",
       "    <tr>\n",
       "      <th>3</th>\n",
       "      <td>Wii Sports Resort</td>\n",
       "      <td>Wii</td>\n",
       "      <td>2009.0</td>\n",
       "      <td>Sports</td>\n",
       "      <td>15.61</td>\n",
       "      <td>10.93</td>\n",
       "      <td>3.28</td>\n",
       "      <td>2.95</td>\n",
       "      <td>80.0</td>\n",
       "      <td>8</td>\n",
       "      <td>E</td>\n",
       "    </tr>\n",
       "    <tr>\n",
       "      <th>4</th>\n",
       "      <td>Pokemon Red/Pokemon Blue</td>\n",
       "      <td>GB</td>\n",
       "      <td>1996.0</td>\n",
       "      <td>Role-Playing</td>\n",
       "      <td>11.27</td>\n",
       "      <td>8.89</td>\n",
       "      <td>10.22</td>\n",
       "      <td>1.00</td>\n",
       "      <td>NaN</td>\n",
       "      <td>NaN</td>\n",
       "      <td>NaN</td>\n",
       "    </tr>\n",
       "  </tbody>\n",
       "</table>\n",
       "</div>"
      ],
      "text/plain": [
       "                       name platform  year_of_release         genre  na_sales  \\\n",
       "0                Wii Sports      Wii           2006.0        Sports     41.36   \n",
       "1         Super Mario Bros.      NES           1985.0      Platform     29.08   \n",
       "2            Mario Kart Wii      Wii           2008.0        Racing     15.68   \n",
       "3         Wii Sports Resort      Wii           2009.0        Sports     15.61   \n",
       "4  Pokemon Red/Pokemon Blue       GB           1996.0  Role-Playing     11.27   \n",
       "\n",
       "   eu_sales  jp_sales  other_sales  critic_score user_score rating  \n",
       "0     28.96      3.77         8.45          76.0          8      E  \n",
       "1      3.58      6.81         0.77           NaN        NaN    NaN  \n",
       "2     12.76      3.79         3.29          82.0        8.3      E  \n",
       "3     10.93      3.28         2.95          80.0          8      E  \n",
       "4      8.89     10.22         1.00           NaN        NaN    NaN  "
      ]
     },
     "execution_count": 6,
     "metadata": {},
     "output_type": "execute_result"
    }
   ],
   "source": [
    "data.head()"
   ]
  },
  {
   "cell_type": "markdown",
   "metadata": {},
   "source": [
    "Преобразуем данные в нужные типы"
   ]
  },
  {
   "cell_type": "code",
   "execution_count": 7,
   "metadata": {},
   "outputs": [
    {
     "data": {
      "text/plain": [
       "0          8\n",
       "1        NaN\n",
       "2        8.3\n",
       "3          8\n",
       "4        NaN\n",
       "        ... \n",
       "16710    NaN\n",
       "16711    NaN\n",
       "16712    NaN\n",
       "16713    NaN\n",
       "16714    NaN\n",
       "Name: user_score, Length: 16715, dtype: object"
      ]
     },
     "execution_count": 7,
     "metadata": {},
     "output_type": "execute_result"
    }
   ],
   "source": [
    "data['user_score'] #Видим странное значение tbd"
   ]
  },
  {
   "cell_type": "code",
   "execution_count": 8,
   "metadata": {},
   "outputs": [
    {
     "data": {
      "text/plain": [
       "array(['8', nan, '8.3', '8.5', '6.6', '8.4', '8.6', '7.7', '6.3', '7.4',\n",
       "       '8.2', '9', '7.9', '8.1', '8.7', '7.1', '3.4', '5.3', '4.8', '3.2',\n",
       "       '8.9', '6.4', '7.8', '7.5', '2.6', '7.2', '9.2', '7', '7.3', '4.3',\n",
       "       '7.6', '5.7', '5', '9.1', '6.5', 'tbd', '8.8', '6.9', '9.4', '6.8',\n",
       "       '6.1', '6.7', '5.4', '4', '4.9', '4.5', '9.3', '6.2', '4.2', '6',\n",
       "       '3.7', '4.1', '5.8', '5.6', '5.5', '4.4', '4.6', '5.9', '3.9',\n",
       "       '3.1', '2.9', '5.2', '3.3', '4.7', '5.1', '3.5', '2.5', '1.9', '3',\n",
       "       '2.7', '2.2', '2', '9.5', '2.1', '3.6', '2.8', '1.8', '3.8', '0',\n",
       "       '1.6', '9.6', '2.4', '1.7', '1.1', '0.3', '1.5', '0.7', '1.2',\n",
       "       '2.3', '0.5', '1.3', '0.2', '0.6', '1.4', '0.9', '1', '9.7'],\n",
       "      dtype=object)"
      ]
     },
     "execution_count": 8,
     "metadata": {},
     "output_type": "execute_result"
    }
   ],
   "source": [
    "data['user_score'].unique()"
   ]
  },
  {
   "cell_type": "code",
   "execution_count": 9,
   "metadata": {},
   "outputs": [],
   "source": [
    "#data['user_score'] = data['user_score'].replace('tbd', float('nan')) #удалим его"
   ]
  },
  {
   "cell_type": "code",
   "execution_count": 10,
   "metadata": {},
   "outputs": [
    {
     "data": {
      "text/plain": [
       "6701"
      ]
     },
     "execution_count": 10,
     "metadata": {},
     "output_type": "execute_result"
    }
   ],
   "source": [
    "sum(data['user_score'].isna())"
   ]
  },
  {
   "cell_type": "code",
   "execution_count": 11,
   "metadata": {},
   "outputs": [
    {
     "data": {
      "text/plain": [
       "2424"
      ]
     },
     "execution_count": 11,
     "metadata": {},
     "output_type": "execute_result"
    }
   ],
   "source": [
    "data[data['user_score'] == 'tbd'].shape[0]"
   ]
  },
  {
   "cell_type": "code",
   "execution_count": 12,
   "metadata": {},
   "outputs": [
    {
     "data": {
      "text/plain": [
       "8578"
      ]
     },
     "execution_count": 12,
     "metadata": {},
     "output_type": "execute_result"
    }
   ],
   "source": [
    "sum(data['critic_score'].isna())"
   ]
  },
  {
   "cell_type": "code",
   "execution_count": 13,
   "metadata": {},
   "outputs": [
    {
     "data": {
      "text/plain": [
       "0"
      ]
     },
     "execution_count": 13,
     "metadata": {},
     "output_type": "execute_result"
    }
   ],
   "source": [
    "data[data['critic_score'] == 'tbd'].shape[0]"
   ]
  },
  {
   "cell_type": "code",
   "execution_count": 14,
   "metadata": {},
   "outputs": [],
   "source": [
    "data['user_score'] = data['user_score'].replace('tbd', float('nan'))"
   ]
  },
  {
   "cell_type": "code",
   "execution_count": 15,
   "metadata": {},
   "outputs": [
    {
     "data": {
      "text/plain": [
       "6766"
      ]
     },
     "execution_count": 15,
     "metadata": {},
     "output_type": "execute_result"
    }
   ],
   "source": [
    "sum(data['rating'].isna())"
   ]
  },
  {
   "cell_type": "markdown",
   "metadata": {},
   "source": [
    "Больше половины данных в столбах с рейтингом и отзывами недоступны для анализа (NaN или \"tbd\"). Заполнить пропуски в столбцах рейтинга и отзывов средним и медианой нельзя, т.к это исказит результаты исследования. Tbd означает \"to be determined\", т.е. \"пока не определено\", что означает, что отзыва на данный продукт нет. Заменим 'tbd' на NaN, для удобства работы с численными значениями столбца. К пропускам в столбцах с рейтингом могли привести нежелание пользвователей оставить отзыв или отсутствие оценки от критиков. Пропускив в столбце с отзывами пользователей больше, но незначительно."
   ]
  },
  {
   "cell_type": "code",
   "execution_count": 16,
   "metadata": {},
   "outputs": [],
   "source": [
    "data['user_score'] = data['user_score'].astype(float) #изменим тип данных на float"
   ]
  },
  {
   "cell_type": "code",
   "execution_count": 17,
   "metadata": {},
   "outputs": [
    {
     "data": {
      "text/plain": [
       "array(['E', nan, 'M', 'T', 'E10+', 'K-A', 'AO', 'EC', 'RP'], dtype=object)"
      ]
     },
     "execution_count": 17,
     "metadata": {},
     "output_type": "execute_result"
    }
   ],
   "source": [
    "data['rating'].unique() #Видим здесь категориальные значения: everyone, mature, adults only, teen и т.д."
   ]
  },
  {
   "cell_type": "markdown",
   "metadata": {},
   "source": [
    "Заполнить пропуски не представляется возможным. Получить название игры неоткуда, как и год выпуска, и жанр. Заполнить пропуски в столбцах рейтинга средним и медианой нельзя, т.к это исказит результаты исследования. К пропускам в столбцах с рейтингом могли привести нежелание пользвователей оставить отзыв или отсутствие оценки от критиков"
   ]
  },
  {
   "cell_type": "code",
   "execution_count": 18,
   "metadata": {},
   "outputs": [],
   "source": [
    "data['rating'] = data['rating'].replace(float('nan'), 'unknown')"
   ]
  },
  {
   "cell_type": "markdown",
   "metadata": {},
   "source": [
    "Заполнил пропуски значением \"Unknown\", чтобы не потерять данные при построении графика для игр в соответствии с их рейтингами.\n"
   ]
  },
  {
   "cell_type": "markdown",
   "metadata": {},
   "source": [
    "Посчитаем суммарные продажи во всех регионах и запишем их в отдельный столбец"
   ]
  },
  {
   "cell_type": "code",
   "execution_count": 19,
   "metadata": {},
   "outputs": [
    {
     "data": {
      "text/html": [
       "<div>\n",
       "<style scoped>\n",
       "    .dataframe tbody tr th:only-of-type {\n",
       "        vertical-align: middle;\n",
       "    }\n",
       "\n",
       "    .dataframe tbody tr th {\n",
       "        vertical-align: top;\n",
       "    }\n",
       "\n",
       "    .dataframe thead th {\n",
       "        text-align: right;\n",
       "    }\n",
       "</style>\n",
       "<table border=\"1\" class=\"dataframe\">\n",
       "  <thead>\n",
       "    <tr style=\"text-align: right;\">\n",
       "      <th></th>\n",
       "      <th>name</th>\n",
       "      <th>platform</th>\n",
       "      <th>year_of_release</th>\n",
       "      <th>genre</th>\n",
       "      <th>na_sales</th>\n",
       "      <th>eu_sales</th>\n",
       "      <th>jp_sales</th>\n",
       "      <th>other_sales</th>\n",
       "      <th>critic_score</th>\n",
       "      <th>user_score</th>\n",
       "      <th>rating</th>\n",
       "    </tr>\n",
       "  </thead>\n",
       "  <tbody>\n",
       "    <tr>\n",
       "      <th>0</th>\n",
       "      <td>Wii Sports</td>\n",
       "      <td>Wii</td>\n",
       "      <td>2006.0</td>\n",
       "      <td>Sports</td>\n",
       "      <td>41.36</td>\n",
       "      <td>28.96</td>\n",
       "      <td>3.77</td>\n",
       "      <td>8.45</td>\n",
       "      <td>76.0</td>\n",
       "      <td>8.0</td>\n",
       "      <td>E</td>\n",
       "    </tr>\n",
       "    <tr>\n",
       "      <th>1</th>\n",
       "      <td>Super Mario Bros.</td>\n",
       "      <td>NES</td>\n",
       "      <td>1985.0</td>\n",
       "      <td>Platform</td>\n",
       "      <td>29.08</td>\n",
       "      <td>3.58</td>\n",
       "      <td>6.81</td>\n",
       "      <td>0.77</td>\n",
       "      <td>NaN</td>\n",
       "      <td>NaN</td>\n",
       "      <td>unknown</td>\n",
       "    </tr>\n",
       "    <tr>\n",
       "      <th>2</th>\n",
       "      <td>Mario Kart Wii</td>\n",
       "      <td>Wii</td>\n",
       "      <td>2008.0</td>\n",
       "      <td>Racing</td>\n",
       "      <td>15.68</td>\n",
       "      <td>12.76</td>\n",
       "      <td>3.79</td>\n",
       "      <td>3.29</td>\n",
       "      <td>82.0</td>\n",
       "      <td>8.3</td>\n",
       "      <td>E</td>\n",
       "    </tr>\n",
       "    <tr>\n",
       "      <th>3</th>\n",
       "      <td>Wii Sports Resort</td>\n",
       "      <td>Wii</td>\n",
       "      <td>2009.0</td>\n",
       "      <td>Sports</td>\n",
       "      <td>15.61</td>\n",
       "      <td>10.93</td>\n",
       "      <td>3.28</td>\n",
       "      <td>2.95</td>\n",
       "      <td>80.0</td>\n",
       "      <td>8.0</td>\n",
       "      <td>E</td>\n",
       "    </tr>\n",
       "    <tr>\n",
       "      <th>4</th>\n",
       "      <td>Pokemon Red/Pokemon Blue</td>\n",
       "      <td>GB</td>\n",
       "      <td>1996.0</td>\n",
       "      <td>Role-Playing</td>\n",
       "      <td>11.27</td>\n",
       "      <td>8.89</td>\n",
       "      <td>10.22</td>\n",
       "      <td>1.00</td>\n",
       "      <td>NaN</td>\n",
       "      <td>NaN</td>\n",
       "      <td>unknown</td>\n",
       "    </tr>\n",
       "  </tbody>\n",
       "</table>\n",
       "</div>"
      ],
      "text/plain": [
       "                       name platform  year_of_release         genre  na_sales  \\\n",
       "0                Wii Sports      Wii           2006.0        Sports     41.36   \n",
       "1         Super Mario Bros.      NES           1985.0      Platform     29.08   \n",
       "2            Mario Kart Wii      Wii           2008.0        Racing     15.68   \n",
       "3         Wii Sports Resort      Wii           2009.0        Sports     15.61   \n",
       "4  Pokemon Red/Pokemon Blue       GB           1996.0  Role-Playing     11.27   \n",
       "\n",
       "   eu_sales  jp_sales  other_sales  critic_score  user_score   rating  \n",
       "0     28.96      3.77         8.45          76.0         8.0        E  \n",
       "1      3.58      6.81         0.77           NaN         NaN  unknown  \n",
       "2     12.76      3.79         3.29          82.0         8.3        E  \n",
       "3     10.93      3.28         2.95          80.0         8.0        E  \n",
       "4      8.89     10.22         1.00           NaN         NaN  unknown  "
      ]
     },
     "execution_count": 19,
     "metadata": {},
     "output_type": "execute_result"
    }
   ],
   "source": [
    "data.head()"
   ]
  },
  {
   "cell_type": "code",
   "execution_count": 20,
   "metadata": {},
   "outputs": [],
   "source": [
    "data['total_sales'] = data['na_sales'] + data['eu_sales'] + data['jp_sales'] + data['other_sales']"
   ]
  },
  {
   "cell_type": "code",
   "execution_count": 21,
   "metadata": {},
   "outputs": [],
   "source": [
    "data['total_sales'] = data[['na_sales', 'eu_sales', 'jp_sales']].sum(axis='columns')"
   ]
  },
  {
   "cell_type": "code",
   "execution_count": 22,
   "metadata": {},
   "outputs": [
    {
     "data": {
      "text/html": [
       "<div>\n",
       "<style scoped>\n",
       "    .dataframe tbody tr th:only-of-type {\n",
       "        vertical-align: middle;\n",
       "    }\n",
       "\n",
       "    .dataframe tbody tr th {\n",
       "        vertical-align: top;\n",
       "    }\n",
       "\n",
       "    .dataframe thead th {\n",
       "        text-align: right;\n",
       "    }\n",
       "</style>\n",
       "<table border=\"1\" class=\"dataframe\">\n",
       "  <thead>\n",
       "    <tr style=\"text-align: right;\">\n",
       "      <th></th>\n",
       "      <th>name</th>\n",
       "      <th>platform</th>\n",
       "      <th>year_of_release</th>\n",
       "      <th>genre</th>\n",
       "      <th>na_sales</th>\n",
       "      <th>eu_sales</th>\n",
       "      <th>jp_sales</th>\n",
       "      <th>other_sales</th>\n",
       "      <th>critic_score</th>\n",
       "      <th>user_score</th>\n",
       "      <th>rating</th>\n",
       "      <th>total_sales</th>\n",
       "    </tr>\n",
       "  </thead>\n",
       "  <tbody>\n",
       "    <tr>\n",
       "      <th>0</th>\n",
       "      <td>Wii Sports</td>\n",
       "      <td>Wii</td>\n",
       "      <td>2006.0</td>\n",
       "      <td>Sports</td>\n",
       "      <td>41.36</td>\n",
       "      <td>28.96</td>\n",
       "      <td>3.77</td>\n",
       "      <td>8.45</td>\n",
       "      <td>76.0</td>\n",
       "      <td>8.0</td>\n",
       "      <td>E</td>\n",
       "      <td>74.09</td>\n",
       "    </tr>\n",
       "    <tr>\n",
       "      <th>1</th>\n",
       "      <td>Super Mario Bros.</td>\n",
       "      <td>NES</td>\n",
       "      <td>1985.0</td>\n",
       "      <td>Platform</td>\n",
       "      <td>29.08</td>\n",
       "      <td>3.58</td>\n",
       "      <td>6.81</td>\n",
       "      <td>0.77</td>\n",
       "      <td>NaN</td>\n",
       "      <td>NaN</td>\n",
       "      <td>unknown</td>\n",
       "      <td>39.47</td>\n",
       "    </tr>\n",
       "    <tr>\n",
       "      <th>2</th>\n",
       "      <td>Mario Kart Wii</td>\n",
       "      <td>Wii</td>\n",
       "      <td>2008.0</td>\n",
       "      <td>Racing</td>\n",
       "      <td>15.68</td>\n",
       "      <td>12.76</td>\n",
       "      <td>3.79</td>\n",
       "      <td>3.29</td>\n",
       "      <td>82.0</td>\n",
       "      <td>8.3</td>\n",
       "      <td>E</td>\n",
       "      <td>32.23</td>\n",
       "    </tr>\n",
       "    <tr>\n",
       "      <th>3</th>\n",
       "      <td>Wii Sports Resort</td>\n",
       "      <td>Wii</td>\n",
       "      <td>2009.0</td>\n",
       "      <td>Sports</td>\n",
       "      <td>15.61</td>\n",
       "      <td>10.93</td>\n",
       "      <td>3.28</td>\n",
       "      <td>2.95</td>\n",
       "      <td>80.0</td>\n",
       "      <td>8.0</td>\n",
       "      <td>E</td>\n",
       "      <td>29.82</td>\n",
       "    </tr>\n",
       "    <tr>\n",
       "      <th>4</th>\n",
       "      <td>Pokemon Red/Pokemon Blue</td>\n",
       "      <td>GB</td>\n",
       "      <td>1996.0</td>\n",
       "      <td>Role-Playing</td>\n",
       "      <td>11.27</td>\n",
       "      <td>8.89</td>\n",
       "      <td>10.22</td>\n",
       "      <td>1.00</td>\n",
       "      <td>NaN</td>\n",
       "      <td>NaN</td>\n",
       "      <td>unknown</td>\n",
       "      <td>30.38</td>\n",
       "    </tr>\n",
       "  </tbody>\n",
       "</table>\n",
       "</div>"
      ],
      "text/plain": [
       "                       name platform  year_of_release         genre  na_sales  \\\n",
       "0                Wii Sports      Wii           2006.0        Sports     41.36   \n",
       "1         Super Mario Bros.      NES           1985.0      Platform     29.08   \n",
       "2            Mario Kart Wii      Wii           2008.0        Racing     15.68   \n",
       "3         Wii Sports Resort      Wii           2009.0        Sports     15.61   \n",
       "4  Pokemon Red/Pokemon Blue       GB           1996.0  Role-Playing     11.27   \n",
       "\n",
       "   eu_sales  jp_sales  other_sales  critic_score  user_score   rating  \\\n",
       "0     28.96      3.77         8.45          76.0         8.0        E   \n",
       "1      3.58      6.81         0.77           NaN         NaN  unknown   \n",
       "2     12.76      3.79         3.29          82.0         8.3        E   \n",
       "3     10.93      3.28         2.95          80.0         8.0        E   \n",
       "4      8.89     10.22         1.00           NaN         NaN  unknown   \n",
       "\n",
       "   total_sales  \n",
       "0        74.09  \n",
       "1        39.47  \n",
       "2        32.23  \n",
       "3        29.82  \n",
       "4        30.38  "
      ]
     },
     "execution_count": 22,
     "metadata": {},
     "output_type": "execute_result"
    }
   ],
   "source": [
    "data.head()"
   ]
  },
  {
   "cell_type": "markdown",
   "metadata": {},
   "source": [
    "Для поиска дубликатов приведем столбцы с названиями, консолями и жанрами к нижнему регистру."
   ]
  },
  {
   "cell_type": "code",
   "execution_count": 23,
   "metadata": {},
   "outputs": [],
   "source": [
    "data['name'] = data['name'].str.lower() "
   ]
  },
  {
   "cell_type": "code",
   "execution_count": 24,
   "metadata": {},
   "outputs": [],
   "source": [
    "data['platform'] = data['platform'].str.lower()"
   ]
  },
  {
   "cell_type": "code",
   "execution_count": 25,
   "metadata": {},
   "outputs": [],
   "source": [
    "data['genre'] = data['genre'].str.lower()"
   ]
  },
  {
   "cell_type": "code",
   "execution_count": 26,
   "metadata": {},
   "outputs": [
    {
     "data": {
      "text/plain": [
       "array(['wii', 'nes', 'gb', 'ds', 'x360', 'ps3', 'ps2', 'snes', 'gba',\n",
       "       'ps4', '3ds', 'n64', 'ps', 'xb', 'pc', '2600', 'psp', 'xone',\n",
       "       'wiiu', 'gc', 'gen', 'dc', 'psv', 'sat', 'scd', 'ws', 'ng', 'tg16',\n",
       "       '3do', 'gg', 'pcfx'], dtype=object)"
      ]
     },
     "execution_count": 26,
     "metadata": {},
     "output_type": "execute_result"
    }
   ],
   "source": [
    "data['platform'].unique()"
   ]
  },
  {
   "cell_type": "code",
   "execution_count": 27,
   "metadata": {
    "scrolled": true
   },
   "outputs": [
    {
     "data": {
      "text/plain": [
       "0"
      ]
     },
     "execution_count": 27,
     "metadata": {},
     "output_type": "execute_result"
    }
   ],
   "source": [
    "data.duplicated().sum()"
   ]
  },
  {
   "cell_type": "markdown",
   "metadata": {},
   "source": [
    "Полностью повторяющихся строк нет"
   ]
  },
  {
   "cell_type": "code",
   "execution_count": 31,
   "metadata": {
    "scrolled": true
   },
   "outputs": [
    {
     "data": {
      "text/html": [
       "<div>\n",
       "<style scoped>\n",
       "    .dataframe tbody tr th:only-of-type {\n",
       "        vertical-align: middle;\n",
       "    }\n",
       "\n",
       "    .dataframe tbody tr th {\n",
       "        vertical-align: top;\n",
       "    }\n",
       "\n",
       "    .dataframe thead th {\n",
       "        text-align: right;\n",
       "    }\n",
       "</style>\n",
       "<table border=\"1\" class=\"dataframe\">\n",
       "  <thead>\n",
       "    <tr style=\"text-align: right;\">\n",
       "      <th></th>\n",
       "      <th>name</th>\n",
       "      <th>platform</th>\n",
       "      <th>year_of_release</th>\n",
       "      <th>genre</th>\n",
       "      <th>na_sales</th>\n",
       "      <th>eu_sales</th>\n",
       "      <th>jp_sales</th>\n",
       "      <th>other_sales</th>\n",
       "      <th>critic_score</th>\n",
       "      <th>user_score</th>\n",
       "      <th>rating</th>\n",
       "      <th>total_sales</th>\n",
       "    </tr>\n",
       "  </thead>\n",
       "  <tbody>\n",
       "    <tr>\n",
       "      <th>1591</th>\n",
       "      <td>need for speed: most wanted</td>\n",
       "      <td>x360</td>\n",
       "      <td>2005.0</td>\n",
       "      <td>racing</td>\n",
       "      <td>1.0</td>\n",
       "      <td>0.13</td>\n",
       "      <td>0.02</td>\n",
       "      <td>0.10</td>\n",
       "      <td>83.0</td>\n",
       "      <td>8.5</td>\n",
       "      <td>T</td>\n",
       "      <td>1.15</td>\n",
       "    </tr>\n",
       "    <tr>\n",
       "      <th>4127</th>\n",
       "      <td>sonic the hedgehog</td>\n",
       "      <td>ps3</td>\n",
       "      <td>NaN</td>\n",
       "      <td>platform</td>\n",
       "      <td>0.0</td>\n",
       "      <td>0.48</td>\n",
       "      <td>0.00</td>\n",
       "      <td>0.00</td>\n",
       "      <td>43.0</td>\n",
       "      <td>4.1</td>\n",
       "      <td>E10+</td>\n",
       "      <td>0.48</td>\n",
       "    </tr>\n",
       "    <tr>\n",
       "      <th>11715</th>\n",
       "      <td>need for speed: most wanted</td>\n",
       "      <td>pc</td>\n",
       "      <td>2012.0</td>\n",
       "      <td>racing</td>\n",
       "      <td>0.0</td>\n",
       "      <td>0.06</td>\n",
       "      <td>0.00</td>\n",
       "      <td>0.02</td>\n",
       "      <td>82.0</td>\n",
       "      <td>8.5</td>\n",
       "      <td>T</td>\n",
       "      <td>0.06</td>\n",
       "    </tr>\n",
       "    <tr>\n",
       "      <th>14244</th>\n",
       "      <td>NaN</td>\n",
       "      <td>gen</td>\n",
       "      <td>1993.0</td>\n",
       "      <td>NaN</td>\n",
       "      <td>0.0</td>\n",
       "      <td>0.00</td>\n",
       "      <td>0.03</td>\n",
       "      <td>0.00</td>\n",
       "      <td>NaN</td>\n",
       "      <td>NaN</td>\n",
       "      <td>unknown</td>\n",
       "      <td>0.03</td>\n",
       "    </tr>\n",
       "    <tr>\n",
       "      <th>16230</th>\n",
       "      <td>madden nfl 13</td>\n",
       "      <td>ps3</td>\n",
       "      <td>2012.0</td>\n",
       "      <td>sports</td>\n",
       "      <td>0.0</td>\n",
       "      <td>0.01</td>\n",
       "      <td>0.00</td>\n",
       "      <td>0.00</td>\n",
       "      <td>83.0</td>\n",
       "      <td>5.5</td>\n",
       "      <td>E</td>\n",
       "      <td>0.01</td>\n",
       "    </tr>\n",
       "  </tbody>\n",
       "</table>\n",
       "</div>"
      ],
      "text/plain": [
       "                              name platform  year_of_release     genre  \\\n",
       "1591   need for speed: most wanted     x360           2005.0    racing   \n",
       "4127            sonic the hedgehog      ps3              NaN  platform   \n",
       "11715  need for speed: most wanted       pc           2012.0    racing   \n",
       "14244                          NaN      gen           1993.0       NaN   \n",
       "16230                madden nfl 13      ps3           2012.0    sports   \n",
       "\n",
       "       na_sales  eu_sales  jp_sales  other_sales  critic_score  user_score  \\\n",
       "1591        1.0      0.13      0.02         0.10          83.0         8.5   \n",
       "4127        0.0      0.48      0.00         0.00          43.0         4.1   \n",
       "11715       0.0      0.06      0.00         0.02          82.0         8.5   \n",
       "14244       0.0      0.00      0.03         0.00           NaN         NaN   \n",
       "16230       0.0      0.01      0.00         0.00          83.0         5.5   \n",
       "\n",
       "        rating  total_sales  \n",
       "1591         T         1.15  \n",
       "4127      E10+         0.48  \n",
       "11715        T         0.06  \n",
       "14244  unknown         0.03  \n",
       "16230        E         0.01  "
      ]
     },
     "execution_count": 31,
     "metadata": {},
     "output_type": "execute_result"
    }
   ],
   "source": [
    "data[data.duplicated(subset=['name', 'platform'])]"
   ]
  },
  {
   "cell_type": "code",
   "execution_count": 29,
   "metadata": {},
   "outputs": [
    {
     "data": {
      "text/html": [
       "<div>\n",
       "<style scoped>\n",
       "    .dataframe tbody tr th:only-of-type {\n",
       "        vertical-align: middle;\n",
       "    }\n",
       "\n",
       "    .dataframe tbody tr th {\n",
       "        vertical-align: top;\n",
       "    }\n",
       "\n",
       "    .dataframe thead th {\n",
       "        text-align: right;\n",
       "    }\n",
       "</style>\n",
       "<table border=\"1\" class=\"dataframe\">\n",
       "  <thead>\n",
       "    <tr style=\"text-align: right;\">\n",
       "      <th></th>\n",
       "      <th>name</th>\n",
       "      <th>platform</th>\n",
       "      <th>year_of_release</th>\n",
       "      <th>genre</th>\n",
       "      <th>na_sales</th>\n",
       "      <th>eu_sales</th>\n",
       "      <th>jp_sales</th>\n",
       "      <th>other_sales</th>\n",
       "      <th>critic_score</th>\n",
       "      <th>user_score</th>\n",
       "      <th>rating</th>\n",
       "      <th>total_sales</th>\n",
       "    </tr>\n",
       "  </thead>\n",
       "  <tbody>\n",
       "    <tr>\n",
       "      <th>1190</th>\n",
       "      <td>need for speed: most wanted</td>\n",
       "      <td>x360</td>\n",
       "      <td>2012.0</td>\n",
       "      <td>racing</td>\n",
       "      <td>0.62</td>\n",
       "      <td>0.78</td>\n",
       "      <td>0.01</td>\n",
       "      <td>0.15</td>\n",
       "      <td>83.0</td>\n",
       "      <td>8.5</td>\n",
       "      <td>T</td>\n",
       "      <td>1.41</td>\n",
       "    </tr>\n",
       "    <tr>\n",
       "      <th>1591</th>\n",
       "      <td>need for speed: most wanted</td>\n",
       "      <td>x360</td>\n",
       "      <td>2005.0</td>\n",
       "      <td>racing</td>\n",
       "      <td>1.00</td>\n",
       "      <td>0.13</td>\n",
       "      <td>0.02</td>\n",
       "      <td>0.10</td>\n",
       "      <td>83.0</td>\n",
       "      <td>8.5</td>\n",
       "      <td>T</td>\n",
       "      <td>1.15</td>\n",
       "    </tr>\n",
       "  </tbody>\n",
       "</table>\n",
       "</div>"
      ],
      "text/plain": [
       "                             name platform  year_of_release   genre  na_sales  \\\n",
       "1190  need for speed: most wanted     x360           2012.0  racing      0.62   \n",
       "1591  need for speed: most wanted     x360           2005.0  racing      1.00   \n",
       "\n",
       "      eu_sales  jp_sales  other_sales  critic_score  user_score rating  \\\n",
       "1190      0.78      0.01         0.15          83.0         8.5      T   \n",
       "1591      0.13      0.02         0.10          83.0         8.5      T   \n",
       "\n",
       "      total_sales  \n",
       "1190         1.41  \n",
       "1591         1.15  "
      ]
     },
     "execution_count": 29,
     "metadata": {},
     "output_type": "execute_result"
    }
   ],
   "source": [
    "data[(data['name'] == 'need for speed: most wanted') & (data['platform'] == 'x360')]"
   ]
  },
  {
   "cell_type": "markdown",
   "metadata": {},
   "source": [
    "Судя по годам выхода игры, втрое значение не дуюликат, а перевыпуск, т.е. полноценная новая игра, поэтому удалять его не будем."
   ]
  },
  {
   "cell_type": "markdown",
   "metadata": {},
   "source": [
    "Скорее всего, это дубликат, поскольку год выхода не указан. Возможно, продажи по этой игре были почему-то разбиты на две чати. Тогда можно было бы объединить продажи. Однако возможно это просто ошибка в данных, поэтому надежнее удалить эти значения."
   ]
  },
  {
   "cell_type": "code",
   "execution_count": 30,
   "metadata": {},
   "outputs": [],
   "source": [
    "data = data[(data.index != 1745) & (data.index != 4127)]"
   ]
  },
  {
   "cell_type": "code",
   "execution_count": 31,
   "metadata": {
    "scrolled": true
   },
   "outputs": [
    {
     "data": {
      "text/html": [
       "<div>\n",
       "<style scoped>\n",
       "    .dataframe tbody tr th:only-of-type {\n",
       "        vertical-align: middle;\n",
       "    }\n",
       "\n",
       "    .dataframe tbody tr th {\n",
       "        vertical-align: top;\n",
       "    }\n",
       "\n",
       "    .dataframe thead th {\n",
       "        text-align: right;\n",
       "    }\n",
       "</style>\n",
       "<table border=\"1\" class=\"dataframe\">\n",
       "  <thead>\n",
       "    <tr style=\"text-align: right;\">\n",
       "      <th></th>\n",
       "      <th>name</th>\n",
       "      <th>platform</th>\n",
       "      <th>year_of_release</th>\n",
       "      <th>genre</th>\n",
       "      <th>na_sales</th>\n",
       "      <th>eu_sales</th>\n",
       "      <th>jp_sales</th>\n",
       "      <th>other_sales</th>\n",
       "      <th>critic_score</th>\n",
       "      <th>user_score</th>\n",
       "      <th>rating</th>\n",
       "      <th>total_sales</th>\n",
       "    </tr>\n",
       "  </thead>\n",
       "  <tbody>\n",
       "    <tr>\n",
       "      <th>604</th>\n",
       "      <td>madden nfl 13</td>\n",
       "      <td>ps3</td>\n",
       "      <td>2012.0</td>\n",
       "      <td>sports</td>\n",
       "      <td>2.11</td>\n",
       "      <td>0.22</td>\n",
       "      <td>0.0</td>\n",
       "      <td>0.23</td>\n",
       "      <td>83.0</td>\n",
       "      <td>5.5</td>\n",
       "      <td>E</td>\n",
       "      <td>2.33</td>\n",
       "    </tr>\n",
       "    <tr>\n",
       "      <th>16230</th>\n",
       "      <td>madden nfl 13</td>\n",
       "      <td>ps3</td>\n",
       "      <td>2012.0</td>\n",
       "      <td>sports</td>\n",
       "      <td>0.00</td>\n",
       "      <td>0.01</td>\n",
       "      <td>0.0</td>\n",
       "      <td>0.00</td>\n",
       "      <td>83.0</td>\n",
       "      <td>5.5</td>\n",
       "      <td>E</td>\n",
       "      <td>0.01</td>\n",
       "    </tr>\n",
       "  </tbody>\n",
       "</table>\n",
       "</div>"
      ],
      "text/plain": [
       "                name platform  year_of_release   genre  na_sales  eu_sales  \\\n",
       "604    madden nfl 13      ps3           2012.0  sports      2.11      0.22   \n",
       "16230  madden nfl 13      ps3           2012.0  sports      0.00      0.01   \n",
       "\n",
       "       jp_sales  other_sales  critic_score  user_score rating  total_sales  \n",
       "604         0.0         0.23          83.0         5.5      E         2.33  \n",
       "16230       0.0         0.00          83.0         5.5      E         0.01  "
      ]
     },
     "execution_count": 31,
     "metadata": {},
     "output_type": "execute_result"
    }
   ],
   "source": [
    "data[(data['name'] == \"madden nfl 13\") & (data['platform'] == 'ps3')]"
   ]
  },
  {
   "cell_type": "markdown",
   "metadata": {},
   "source": [
    "Аналогичная ситуация. Удалим эти строки"
   ]
  },
  {
   "cell_type": "code",
   "execution_count": 32,
   "metadata": {},
   "outputs": [],
   "source": [
    "data = data[(data.index != 604) & (data.index != 16230)]"
   ]
  },
  {
   "cell_type": "code",
   "execution_count": 33,
   "metadata": {},
   "outputs": [
    {
     "data": {
      "text/html": [
       "<div>\n",
       "<style scoped>\n",
       "    .dataframe tbody tr th:only-of-type {\n",
       "        vertical-align: middle;\n",
       "    }\n",
       "\n",
       "    .dataframe tbody tr th {\n",
       "        vertical-align: top;\n",
       "    }\n",
       "\n",
       "    .dataframe thead th {\n",
       "        text-align: right;\n",
       "    }\n",
       "</style>\n",
       "<table border=\"1\" class=\"dataframe\">\n",
       "  <thead>\n",
       "    <tr style=\"text-align: right;\">\n",
       "      <th></th>\n",
       "      <th>name</th>\n",
       "      <th>platform</th>\n",
       "      <th>year_of_release</th>\n",
       "      <th>genre</th>\n",
       "      <th>na_sales</th>\n",
       "      <th>eu_sales</th>\n",
       "      <th>jp_sales</th>\n",
       "      <th>other_sales</th>\n",
       "      <th>critic_score</th>\n",
       "      <th>user_score</th>\n",
       "      <th>rating</th>\n",
       "      <th>total_sales</th>\n",
       "    </tr>\n",
       "  </thead>\n",
       "  <tbody>\n",
       "    <tr>\n",
       "      <th>659</th>\n",
       "      <td>NaN</td>\n",
       "      <td>gen</td>\n",
       "      <td>1993.0</td>\n",
       "      <td>NaN</td>\n",
       "      <td>1.78</td>\n",
       "      <td>0.53</td>\n",
       "      <td>0.00</td>\n",
       "      <td>0.08</td>\n",
       "      <td>NaN</td>\n",
       "      <td>NaN</td>\n",
       "      <td>unknown</td>\n",
       "      <td>2.31</td>\n",
       "    </tr>\n",
       "    <tr>\n",
       "      <th>14244</th>\n",
       "      <td>NaN</td>\n",
       "      <td>gen</td>\n",
       "      <td>1993.0</td>\n",
       "      <td>NaN</td>\n",
       "      <td>0.00</td>\n",
       "      <td>0.00</td>\n",
       "      <td>0.03</td>\n",
       "      <td>0.00</td>\n",
       "      <td>NaN</td>\n",
       "      <td>NaN</td>\n",
       "      <td>unknown</td>\n",
       "      <td>0.03</td>\n",
       "    </tr>\n",
       "  </tbody>\n",
       "</table>\n",
       "</div>"
      ],
      "text/plain": [
       "      name platform  year_of_release genre  na_sales  eu_sales  jp_sales  \\\n",
       "659    NaN      gen           1993.0   NaN      1.78      0.53      0.00   \n",
       "14244  NaN      gen           1993.0   NaN      0.00      0.00      0.03   \n",
       "\n",
       "       other_sales  critic_score  user_score   rating  total_sales  \n",
       "659           0.08           NaN         NaN  unknown         2.31  \n",
       "14244         0.00           NaN         NaN  unknown         0.03  "
      ]
     },
     "execution_count": 33,
     "metadata": {},
     "output_type": "execute_result"
    }
   ],
   "source": [
    "data[(data['name'].isna()) & (data['platform'] == 'gen')]"
   ]
  },
  {
   "cell_type": "markdown",
   "metadata": {},
   "source": [
    "Для этих строк почти полностью отсутствуют необходимые для анализа данные. Можем их удалить."
   ]
  },
  {
   "cell_type": "code",
   "execution_count": 34,
   "metadata": {},
   "outputs": [],
   "source": [
    "data = data[(data.index != 659) & (data.index != 14244)]"
   ]
  },
  {
   "cell_type": "markdown",
   "metadata": {},
   "source": [
    "Обработал дубликаты."
   ]
  },
  {
   "cell_type": "markdown",
   "metadata": {},
   "source": [
    "В ходе первочного знакомства с данными были выполнены следующие действия. Данные были преобразованы в нужные типы. В столбцах с рейтингами и отзывами было обнаружено большое количество пропусков. Эти пропуски были заполнены \"заглушкой\" \"unknown\", чтобы не потерять эти данные при дальнейшем анализе. Также был проведен поиск дубликатов. Их было мало, каждый случай был рассмотрен отдельно. Теперь данные очищены от дубликатов, пропуски заполнены. Все готово для анализа.   "
   ]
  },
  {
   "cell_type": "markdown",
   "metadata": {},
   "source": [
    "**Исследовательский анализ данных**"
   ]
  },
  {
   "cell_type": "code",
   "execution_count": 35,
   "metadata": {},
   "outputs": [
    {
     "data": {
      "text/html": [
       "<div>\n",
       "<style scoped>\n",
       "    .dataframe tbody tr th:only-of-type {\n",
       "        vertical-align: middle;\n",
       "    }\n",
       "\n",
       "    .dataframe tbody tr th {\n",
       "        vertical-align: top;\n",
       "    }\n",
       "\n",
       "    .dataframe thead th {\n",
       "        text-align: right;\n",
       "    }\n",
       "</style>\n",
       "<table border=\"1\" class=\"dataframe\">\n",
       "  <thead>\n",
       "    <tr style=\"text-align: right;\">\n",
       "      <th></th>\n",
       "      <th>platform</th>\n",
       "    </tr>\n",
       "    <tr>\n",
       "      <th>year_of_release</th>\n",
       "      <th></th>\n",
       "    </tr>\n",
       "  </thead>\n",
       "  <tbody>\n",
       "    <tr>\n",
       "      <th>2008.0</th>\n",
       "      <td>1427</td>\n",
       "    </tr>\n",
       "    <tr>\n",
       "      <th>2009.0</th>\n",
       "      <td>1426</td>\n",
       "    </tr>\n",
       "    <tr>\n",
       "      <th>2010.0</th>\n",
       "      <td>1255</td>\n",
       "    </tr>\n",
       "    <tr>\n",
       "      <th>2007.0</th>\n",
       "      <td>1197</td>\n",
       "    </tr>\n",
       "    <tr>\n",
       "      <th>2011.0</th>\n",
       "      <td>1136</td>\n",
       "    </tr>\n",
       "    <tr>\n",
       "      <th>2006.0</th>\n",
       "      <td>1005</td>\n",
       "    </tr>\n",
       "    <tr>\n",
       "      <th>2005.0</th>\n",
       "      <td>939</td>\n",
       "    </tr>\n",
       "    <tr>\n",
       "      <th>2002.0</th>\n",
       "      <td>829</td>\n",
       "    </tr>\n",
       "    <tr>\n",
       "      <th>2003.0</th>\n",
       "      <td>775</td>\n",
       "    </tr>\n",
       "    <tr>\n",
       "      <th>2004.0</th>\n",
       "      <td>762</td>\n",
       "    </tr>\n",
       "    <tr>\n",
       "      <th>2012.0</th>\n",
       "      <td>651</td>\n",
       "    </tr>\n",
       "    <tr>\n",
       "      <th>2015.0</th>\n",
       "      <td>606</td>\n",
       "    </tr>\n",
       "    <tr>\n",
       "      <th>2014.0</th>\n",
       "      <td>581</td>\n",
       "    </tr>\n",
       "    <tr>\n",
       "      <th>2013.0</th>\n",
       "      <td>544</td>\n",
       "    </tr>\n",
       "    <tr>\n",
       "      <th>2016.0</th>\n",
       "      <td>502</td>\n",
       "    </tr>\n",
       "    <tr>\n",
       "      <th>2001.0</th>\n",
       "      <td>482</td>\n",
       "    </tr>\n",
       "    <tr>\n",
       "      <th>1998.0</th>\n",
       "      <td>379</td>\n",
       "    </tr>\n",
       "    <tr>\n",
       "      <th>2000.0</th>\n",
       "      <td>350</td>\n",
       "    </tr>\n",
       "    <tr>\n",
       "      <th>1999.0</th>\n",
       "      <td>338</td>\n",
       "    </tr>\n",
       "    <tr>\n",
       "      <th>1997.0</th>\n",
       "      <td>289</td>\n",
       "    </tr>\n",
       "    <tr>\n",
       "      <th>1996.0</th>\n",
       "      <td>263</td>\n",
       "    </tr>\n",
       "    <tr>\n",
       "      <th>1995.0</th>\n",
       "      <td>219</td>\n",
       "    </tr>\n",
       "    <tr>\n",
       "      <th>1994.0</th>\n",
       "      <td>121</td>\n",
       "    </tr>\n",
       "    <tr>\n",
       "      <th>1993.0</th>\n",
       "      <td>60</td>\n",
       "    </tr>\n",
       "    <tr>\n",
       "      <th>1981.0</th>\n",
       "      <td>46</td>\n",
       "    </tr>\n",
       "    <tr>\n",
       "      <th>1992.0</th>\n",
       "      <td>43</td>\n",
       "    </tr>\n",
       "    <tr>\n",
       "      <th>1991.0</th>\n",
       "      <td>41</td>\n",
       "    </tr>\n",
       "    <tr>\n",
       "      <th>1982.0</th>\n",
       "      <td>36</td>\n",
       "    </tr>\n",
       "    <tr>\n",
       "      <th>1986.0</th>\n",
       "      <td>21</td>\n",
       "    </tr>\n",
       "    <tr>\n",
       "      <th>1989.0</th>\n",
       "      <td>17</td>\n",
       "    </tr>\n",
       "    <tr>\n",
       "      <th>1983.0</th>\n",
       "      <td>17</td>\n",
       "    </tr>\n",
       "    <tr>\n",
       "      <th>1990.0</th>\n",
       "      <td>16</td>\n",
       "    </tr>\n",
       "    <tr>\n",
       "      <th>1987.0</th>\n",
       "      <td>16</td>\n",
       "    </tr>\n",
       "    <tr>\n",
       "      <th>1988.0</th>\n",
       "      <td>15</td>\n",
       "    </tr>\n",
       "    <tr>\n",
       "      <th>1985.0</th>\n",
       "      <td>14</td>\n",
       "    </tr>\n",
       "    <tr>\n",
       "      <th>1984.0</th>\n",
       "      <td>14</td>\n",
       "    </tr>\n",
       "    <tr>\n",
       "      <th>1980.0</th>\n",
       "      <td>9</td>\n",
       "    </tr>\n",
       "  </tbody>\n",
       "</table>\n",
       "</div>"
      ],
      "text/plain": [
       "                 platform\n",
       "year_of_release          \n",
       "2008.0               1427\n",
       "2009.0               1426\n",
       "2010.0               1255\n",
       "2007.0               1197\n",
       "2011.0               1136\n",
       "2006.0               1005\n",
       "2005.0                939\n",
       "2002.0                829\n",
       "2003.0                775\n",
       "2004.0                762\n",
       "2012.0                651\n",
       "2015.0                606\n",
       "2014.0                581\n",
       "2013.0                544\n",
       "2016.0                502\n",
       "2001.0                482\n",
       "1998.0                379\n",
       "2000.0                350\n",
       "1999.0                338\n",
       "1997.0                289\n",
       "1996.0                263\n",
       "1995.0                219\n",
       "1994.0                121\n",
       "1993.0                 60\n",
       "1981.0                 46\n",
       "1992.0                 43\n",
       "1991.0                 41\n",
       "1982.0                 36\n",
       "1986.0                 21\n",
       "1989.0                 17\n",
       "1983.0                 17\n",
       "1990.0                 16\n",
       "1987.0                 16\n",
       "1988.0                 15\n",
       "1985.0                 14\n",
       "1984.0                 14\n",
       "1980.0                  9"
      ]
     },
     "execution_count": 35,
     "metadata": {},
     "output_type": "execute_result"
    }
   ],
   "source": [
    "data.pivot_table(index = 'year_of_release', values='platform', \n",
    "                 aggfunc='count').sort_values(by='platform', ascending=False)"
   ]
  },
  {
   "cell_type": "code",
   "execution_count": 36,
   "metadata": {},
   "outputs": [
    {
     "data": {
      "text/plain": [
       "4283"
      ]
     },
     "execution_count": 36,
     "metadata": {},
     "output_type": "execute_result"
    }
   ],
   "source": [
    "data.duplicated(subset = ['name', 'year_of_release']).sum()"
   ]
  },
  {
   "cell_type": "markdown",
   "metadata": {},
   "source": [
    "Имеем 4383 игры. которые были учтены более 1 раза. Исправим это, посчитав их только по 1 разу."
   ]
  },
  {
   "cell_type": "code",
   "execution_count": 37,
   "metadata": {},
   "outputs": [
    {
     "data": {
      "text/html": [
       "<div>\n",
       "<style scoped>\n",
       "    .dataframe tbody tr th:only-of-type {\n",
       "        vertical-align: middle;\n",
       "    }\n",
       "\n",
       "    .dataframe tbody tr th {\n",
       "        vertical-align: top;\n",
       "    }\n",
       "\n",
       "    .dataframe thead th {\n",
       "        text-align: right;\n",
       "    }\n",
       "</style>\n",
       "<table border=\"1\" class=\"dataframe\">\n",
       "  <thead>\n",
       "    <tr style=\"text-align: right;\">\n",
       "      <th></th>\n",
       "      <th>name</th>\n",
       "    </tr>\n",
       "    <tr>\n",
       "      <th>year_of_release</th>\n",
       "      <th></th>\n",
       "    </tr>\n",
       "  </thead>\n",
       "  <tbody>\n",
       "    <tr>\n",
       "      <th>2008.0</th>\n",
       "      <td>1039</td>\n",
       "    </tr>\n",
       "    <tr>\n",
       "      <th>2009.0</th>\n",
       "      <td>1001</td>\n",
       "    </tr>\n",
       "    <tr>\n",
       "      <th>2010.0</th>\n",
       "      <td>900</td>\n",
       "    </tr>\n",
       "    <tr>\n",
       "      <th>2007.0</th>\n",
       "      <td>884</td>\n",
       "    </tr>\n",
       "    <tr>\n",
       "      <th>2011.0</th>\n",
       "      <td>779</td>\n",
       "    </tr>\n",
       "    <tr>\n",
       "      <th>2006.0</th>\n",
       "      <td>773</td>\n",
       "    </tr>\n",
       "    <tr>\n",
       "      <th>2005.0</th>\n",
       "      <td>657</td>\n",
       "    </tr>\n",
       "    <tr>\n",
       "      <th>2002.0</th>\n",
       "      <td>631</td>\n",
       "    </tr>\n",
       "    <tr>\n",
       "      <th>2004.0</th>\n",
       "      <td>550</td>\n",
       "    </tr>\n",
       "    <tr>\n",
       "      <th>2003.0</th>\n",
       "      <td>546</td>\n",
       "    </tr>\n",
       "    <tr>\n",
       "      <th>2012.0</th>\n",
       "      <td>446</td>\n",
       "    </tr>\n",
       "    <tr>\n",
       "      <th>2001.0</th>\n",
       "      <td>428</td>\n",
       "    </tr>\n",
       "    <tr>\n",
       "      <th>1998.0</th>\n",
       "      <td>364</td>\n",
       "    </tr>\n",
       "    <tr>\n",
       "      <th>2015.0</th>\n",
       "      <td>362</td>\n",
       "    </tr>\n",
       "    <tr>\n",
       "      <th>2013.0</th>\n",
       "      <td>335</td>\n",
       "    </tr>\n",
       "    <tr>\n",
       "      <th>1999.0</th>\n",
       "      <td>326</td>\n",
       "    </tr>\n",
       "    <tr>\n",
       "      <th>2000.0</th>\n",
       "      <td>325</td>\n",
       "    </tr>\n",
       "    <tr>\n",
       "      <th>2014.0</th>\n",
       "      <td>319</td>\n",
       "    </tr>\n",
       "    <tr>\n",
       "      <th>2016.0</th>\n",
       "      <td>297</td>\n",
       "    </tr>\n",
       "    <tr>\n",
       "      <th>1997.0</th>\n",
       "      <td>282</td>\n",
       "    </tr>\n",
       "    <tr>\n",
       "      <th>1996.0</th>\n",
       "      <td>258</td>\n",
       "    </tr>\n",
       "    <tr>\n",
       "      <th>1995.0</th>\n",
       "      <td>215</td>\n",
       "    </tr>\n",
       "    <tr>\n",
       "      <th>1994.0</th>\n",
       "      <td>117</td>\n",
       "    </tr>\n",
       "    <tr>\n",
       "      <th>1993.0</th>\n",
       "      <td>59</td>\n",
       "    </tr>\n",
       "    <tr>\n",
       "      <th>1981.0</th>\n",
       "      <td>46</td>\n",
       "    </tr>\n",
       "    <tr>\n",
       "      <th>1992.0</th>\n",
       "      <td>41</td>\n",
       "    </tr>\n",
       "    <tr>\n",
       "      <th>1991.0</th>\n",
       "      <td>40</td>\n",
       "    </tr>\n",
       "    <tr>\n",
       "      <th>1982.0</th>\n",
       "      <td>36</td>\n",
       "    </tr>\n",
       "    <tr>\n",
       "      <th>1986.0</th>\n",
       "      <td>21</td>\n",
       "    </tr>\n",
       "    <tr>\n",
       "      <th>1983.0</th>\n",
       "      <td>17</td>\n",
       "    </tr>\n",
       "    <tr>\n",
       "      <th>1989.0</th>\n",
       "      <td>17</td>\n",
       "    </tr>\n",
       "    <tr>\n",
       "      <th>1987.0</th>\n",
       "      <td>16</td>\n",
       "    </tr>\n",
       "    <tr>\n",
       "      <th>1990.0</th>\n",
       "      <td>16</td>\n",
       "    </tr>\n",
       "    <tr>\n",
       "      <th>1988.0</th>\n",
       "      <td>15</td>\n",
       "    </tr>\n",
       "    <tr>\n",
       "      <th>1985.0</th>\n",
       "      <td>14</td>\n",
       "    </tr>\n",
       "    <tr>\n",
       "      <th>1984.0</th>\n",
       "      <td>14</td>\n",
       "    </tr>\n",
       "    <tr>\n",
       "      <th>1980.0</th>\n",
       "      <td>9</td>\n",
       "    </tr>\n",
       "  </tbody>\n",
       "</table>\n",
       "</div>"
      ],
      "text/plain": [
       "                 name\n",
       "year_of_release      \n",
       "2008.0           1039\n",
       "2009.0           1001\n",
       "2010.0            900\n",
       "2007.0            884\n",
       "2011.0            779\n",
       "2006.0            773\n",
       "2005.0            657\n",
       "2002.0            631\n",
       "2004.0            550\n",
       "2003.0            546\n",
       "2012.0            446\n",
       "2001.0            428\n",
       "1998.0            364\n",
       "2015.0            362\n",
       "2013.0            335\n",
       "1999.0            326\n",
       "2000.0            325\n",
       "2014.0            319\n",
       "2016.0            297\n",
       "1997.0            282\n",
       "1996.0            258\n",
       "1995.0            215\n",
       "1994.0            117\n",
       "1993.0             59\n",
       "1981.0             46\n",
       "1992.0             41\n",
       "1991.0             40\n",
       "1982.0             36\n",
       "1986.0             21\n",
       "1983.0             17\n",
       "1989.0             17\n",
       "1987.0             16\n",
       "1990.0             16\n",
       "1988.0             15\n",
       "1985.0             14\n",
       "1984.0             14\n",
       "1980.0              9"
      ]
     },
     "execution_count": 37,
     "metadata": {},
     "output_type": "execute_result"
    }
   ],
   "source": [
    "data.drop_duplicates(subset=['name', 'year_of_release'], keep='first').pivot_table(\n",
    "    index = 'year_of_release', values='name', aggfunc='count').sort_values(by='name', ascending=False)"
   ]
  },
  {
   "cell_type": "markdown",
   "metadata": {},
   "source": [
    "Видим, что с каждым годом число выпускаемых игр росло. До 1994 года игр выпускалось мало, затем началось резкое увеличение числа выпускаемых игр"
   ]
  },
  {
   "cell_type": "markdown",
   "metadata": {},
   "source": [
    "\n",
    "Построим график"
   ]
  },
  {
   "cell_type": "code",
   "execution_count": 38,
   "metadata": {},
   "outputs": [
    {
     "data": {
      "text/plain": [
       "<AxesSubplot:xlabel='year_of_release'>"
      ]
     },
     "execution_count": 38,
     "metadata": {},
     "output_type": "execute_result"
    },
    {
     "data": {
      "image/png": "[encoded data removed]",
      "text/plain": [
       "<Figure size 432x288 with 1 Axes>"
      ]
     },
     "metadata": {
      "needs_background": "light"
     },
     "output_type": "display_data"
    }
   ],
   "source": [
    "data.drop_duplicates(subset=['name', 'year_of_release'], keep='first').pivot_table(\n",
    "    index = 'year_of_release', values='name', aggfunc='count').sort_values(by='name', ascending=True).plot(kind='bar')"
   ]
  },
  {
   "cell_type": "markdown",
   "metadata": {},
   "source": [
    "Рассмотрим продажи по платформам"
   ]
  },
  {
   "cell_type": "code",
   "execution_count": 39,
   "metadata": {},
   "outputs": [
    {
     "data": {
      "text/html": [
       "<div>\n",
       "<style scoped>\n",
       "    .dataframe tbody tr th:only-of-type {\n",
       "        vertical-align: middle;\n",
       "    }\n",
       "\n",
       "    .dataframe tbody tr th {\n",
       "        vertical-align: top;\n",
       "    }\n",
       "\n",
       "    .dataframe thead th {\n",
       "        text-align: right;\n",
       "    }\n",
       "</style>\n",
       "<table border=\"1\" class=\"dataframe\">\n",
       "  <thead>\n",
       "    <tr style=\"text-align: right;\">\n",
       "      <th></th>\n",
       "      <th>total_sales</th>\n",
       "    </tr>\n",
       "    <tr>\n",
       "      <th>platform</th>\n",
       "      <th></th>\n",
       "    </tr>\n",
       "  </thead>\n",
       "  <tbody>\n",
       "    <tr>\n",
       "      <th>ps2</th>\n",
       "      <td>2161</td>\n",
       "    </tr>\n",
       "    <tr>\n",
       "      <th>ds</th>\n",
       "      <td>2151</td>\n",
       "    </tr>\n",
       "    <tr>\n",
       "      <th>ps3</th>\n",
       "      <td>1327</td>\n",
       "    </tr>\n",
       "    <tr>\n",
       "      <th>wii</th>\n",
       "      <td>1320</td>\n",
       "    </tr>\n",
       "    <tr>\n",
       "      <th>x360</th>\n",
       "      <td>1262</td>\n",
       "    </tr>\n",
       "    <tr>\n",
       "      <th>psp</th>\n",
       "      <td>1209</td>\n",
       "    </tr>\n",
       "    <tr>\n",
       "      <th>ps</th>\n",
       "      <td>1197</td>\n",
       "    </tr>\n",
       "    <tr>\n",
       "      <th>pc</th>\n",
       "      <td>974</td>\n",
       "    </tr>\n",
       "    <tr>\n",
       "      <th>xb</th>\n",
       "      <td>824</td>\n",
       "    </tr>\n",
       "    <tr>\n",
       "      <th>gba</th>\n",
       "      <td>822</td>\n",
       "    </tr>\n",
       "    <tr>\n",
       "      <th>gc</th>\n",
       "      <td>556</td>\n",
       "    </tr>\n",
       "    <tr>\n",
       "      <th>3ds</th>\n",
       "      <td>520</td>\n",
       "    </tr>\n",
       "    <tr>\n",
       "      <th>psv</th>\n",
       "      <td>430</td>\n",
       "    </tr>\n",
       "    <tr>\n",
       "      <th>ps4</th>\n",
       "      <td>392</td>\n",
       "    </tr>\n",
       "    <tr>\n",
       "      <th>n64</th>\n",
       "      <td>319</td>\n",
       "    </tr>\n",
       "    <tr>\n",
       "      <th>xone</th>\n",
       "      <td>247</td>\n",
       "    </tr>\n",
       "    <tr>\n",
       "      <th>snes</th>\n",
       "      <td>239</td>\n",
       "    </tr>\n",
       "    <tr>\n",
       "      <th>sat</th>\n",
       "      <td>173</td>\n",
       "    </tr>\n",
       "    <tr>\n",
       "      <th>wiiu</th>\n",
       "      <td>147</td>\n",
       "    </tr>\n",
       "    <tr>\n",
       "      <th>2600</th>\n",
       "      <td>133</td>\n",
       "    </tr>\n",
       "    <tr>\n",
       "      <th>nes</th>\n",
       "      <td>98</td>\n",
       "    </tr>\n",
       "    <tr>\n",
       "      <th>gb</th>\n",
       "      <td>98</td>\n",
       "    </tr>\n",
       "    <tr>\n",
       "      <th>dc</th>\n",
       "      <td>52</td>\n",
       "    </tr>\n",
       "    <tr>\n",
       "      <th>gen</th>\n",
       "      <td>27</td>\n",
       "    </tr>\n",
       "    <tr>\n",
       "      <th>ng</th>\n",
       "      <td>12</td>\n",
       "    </tr>\n",
       "    <tr>\n",
       "      <th>scd</th>\n",
       "      <td>6</td>\n",
       "    </tr>\n",
       "    <tr>\n",
       "      <th>ws</th>\n",
       "      <td>6</td>\n",
       "    </tr>\n",
       "    <tr>\n",
       "      <th>3do</th>\n",
       "      <td>3</td>\n",
       "    </tr>\n",
       "    <tr>\n",
       "      <th>tg16</th>\n",
       "      <td>2</td>\n",
       "    </tr>\n",
       "    <tr>\n",
       "      <th>pcfx</th>\n",
       "      <td>1</td>\n",
       "    </tr>\n",
       "    <tr>\n",
       "      <th>gg</th>\n",
       "      <td>1</td>\n",
       "    </tr>\n",
       "  </tbody>\n",
       "</table>\n",
       "</div>"
      ],
      "text/plain": [
       "          total_sales\n",
       "platform             \n",
       "ps2              2161\n",
       "ds               2151\n",
       "ps3              1327\n",
       "wii              1320\n",
       "x360             1262\n",
       "psp              1209\n",
       "ps               1197\n",
       "pc                974\n",
       "xb                824\n",
       "gba               822\n",
       "gc                556\n",
       "3ds               520\n",
       "psv               430\n",
       "ps4               392\n",
       "n64               319\n",
       "xone              247\n",
       "snes              239\n",
       "sat               173\n",
       "wiiu              147\n",
       "2600              133\n",
       "nes                98\n",
       "gb                 98\n",
       "dc                 52\n",
       "gen                27\n",
       "ng                 12\n",
       "scd                 6\n",
       "ws                  6\n",
       "3do                 3\n",
       "tg16                2\n",
       "pcfx                1\n",
       "gg                  1"
      ]
     },
     "execution_count": 39,
     "metadata": {},
     "output_type": "execute_result"
    }
   ],
   "source": [
    "data.pivot_table(index='platform', values='total_sales', aggfunc='count').sort_values(by='total_sales', ascending=False)"
   ]
  },
  {
   "cell_type": "markdown",
   "metadata": {},
   "source": [
    "Видим, что больше всего игр выходило на PS2 и DS"
   ]
  },
  {
   "cell_type": "markdown",
   "metadata": {},
   "source": [
    "Что касается суммарных продаж по платформам"
   ]
  },
  {
   "cell_type": "code",
   "execution_count": 40,
   "metadata": {},
   "outputs": [
    {
     "data": {
      "text/html": [
       "<div>\n",
       "<style scoped>\n",
       "    .dataframe tbody tr th:only-of-type {\n",
       "        vertical-align: middle;\n",
       "    }\n",
       "\n",
       "    .dataframe tbody tr th {\n",
       "        vertical-align: top;\n",
       "    }\n",
       "\n",
       "    .dataframe thead th {\n",
       "        text-align: right;\n",
       "    }\n",
       "</style>\n",
       "<table border=\"1\" class=\"dataframe\">\n",
       "  <thead>\n",
       "    <tr style=\"text-align: right;\">\n",
       "      <th></th>\n",
       "      <th>total_sales</th>\n",
       "    </tr>\n",
       "    <tr>\n",
       "      <th>platform</th>\n",
       "      <th></th>\n",
       "    </tr>\n",
       "  </thead>\n",
       "  <tbody>\n",
       "    <tr>\n",
       "      <th>ps2</th>\n",
       "      <td>1062.33</td>\n",
       "    </tr>\n",
       "    <tr>\n",
       "      <th>x360</th>\n",
       "      <td>885.66</td>\n",
       "    </tr>\n",
       "    <tr>\n",
       "      <th>wii</th>\n",
       "      <td>828.44</td>\n",
       "    </tr>\n",
       "    <tr>\n",
       "      <th>ps3</th>\n",
       "      <td>800.64</td>\n",
       "    </tr>\n",
       "    <tr>\n",
       "      <th>ds</th>\n",
       "      <td>746.86</td>\n",
       "    </tr>\n",
       "    <tr>\n",
       "      <th>ps</th>\n",
       "      <td>689.95</td>\n",
       "    </tr>\n",
       "    <tr>\n",
       "      <th>gba</th>\n",
       "      <td>310.12</td>\n",
       "    </tr>\n",
       "    <tr>\n",
       "      <th>ps4</th>\n",
       "      <td>265.79</td>\n",
       "    </tr>\n",
       "    <tr>\n",
       "      <th>psp</th>\n",
       "      <td>252.63</td>\n",
       "    </tr>\n",
       "    <tr>\n",
       "      <th>xb</th>\n",
       "      <td>249.02</td>\n",
       "    </tr>\n",
       "    <tr>\n",
       "      <th>gb</th>\n",
       "      <td>247.26</td>\n",
       "    </tr>\n",
       "    <tr>\n",
       "      <th>nes</th>\n",
       "      <td>245.74</td>\n",
       "    </tr>\n",
       "    <tr>\n",
       "      <th>3ds</th>\n",
       "      <td>245.64</td>\n",
       "    </tr>\n",
       "    <tr>\n",
       "      <th>pc</th>\n",
       "      <td>237.14</td>\n",
       "    </tr>\n",
       "    <tr>\n",
       "      <th>n64</th>\n",
       "      <td>214.30</td>\n",
       "    </tr>\n",
       "    <tr>\n",
       "      <th>snes</th>\n",
       "      <td>196.82</td>\n",
       "    </tr>\n",
       "    <tr>\n",
       "      <th>gc</th>\n",
       "      <td>193.75</td>\n",
       "    </tr>\n",
       "    <tr>\n",
       "      <th>xone</th>\n",
       "      <td>145.05</td>\n",
       "    </tr>\n",
       "    <tr>\n",
       "      <th>2600</th>\n",
       "      <td>96.07</td>\n",
       "    </tr>\n",
       "    <tr>\n",
       "      <th>wiiu</th>\n",
       "      <td>76.24</td>\n",
       "    </tr>\n",
       "    <tr>\n",
       "      <th>psv</th>\n",
       "      <td>47.61</td>\n",
       "    </tr>\n",
       "    <tr>\n",
       "      <th>sat</th>\n",
       "      <td>33.52</td>\n",
       "    </tr>\n",
       "    <tr>\n",
       "      <th>gen</th>\n",
       "      <td>27.46</td>\n",
       "    </tr>\n",
       "    <tr>\n",
       "      <th>dc</th>\n",
       "      <td>15.68</td>\n",
       "    </tr>\n",
       "    <tr>\n",
       "      <th>scd</th>\n",
       "      <td>1.81</td>\n",
       "    </tr>\n",
       "    <tr>\n",
       "      <th>ng</th>\n",
       "      <td>1.44</td>\n",
       "    </tr>\n",
       "    <tr>\n",
       "      <th>ws</th>\n",
       "      <td>1.42</td>\n",
       "    </tr>\n",
       "    <tr>\n",
       "      <th>tg16</th>\n",
       "      <td>0.16</td>\n",
       "    </tr>\n",
       "    <tr>\n",
       "      <th>3do</th>\n",
       "      <td>0.10</td>\n",
       "    </tr>\n",
       "    <tr>\n",
       "      <th>gg</th>\n",
       "      <td>0.04</td>\n",
       "    </tr>\n",
       "    <tr>\n",
       "      <th>pcfx</th>\n",
       "      <td>0.03</td>\n",
       "    </tr>\n",
       "  </tbody>\n",
       "</table>\n",
       "</div>"
      ],
      "text/plain": [
       "          total_sales\n",
       "platform             \n",
       "ps2           1062.33\n",
       "x360           885.66\n",
       "wii            828.44\n",
       "ps3            800.64\n",
       "ds             746.86\n",
       "ps             689.95\n",
       "gba            310.12\n",
       "ps4            265.79\n",
       "psp            252.63\n",
       "xb             249.02\n",
       "gb             247.26\n",
       "nes            245.74\n",
       "3ds            245.64\n",
       "pc             237.14\n",
       "n64            214.30\n",
       "snes           196.82\n",
       "gc             193.75\n",
       "xone           145.05\n",
       "2600            96.07\n",
       "wiiu            76.24\n",
       "psv             47.61\n",
       "sat             33.52\n",
       "gen             27.46\n",
       "dc              15.68\n",
       "scd              1.81\n",
       "ng               1.44\n",
       "ws               1.42\n",
       "tg16             0.16\n",
       "3do              0.10\n",
       "gg               0.04\n",
       "pcfx             0.03"
      ]
     },
     "execution_count": 40,
     "metadata": {},
     "output_type": "execute_result"
    }
   ],
   "source": [
    "data.pivot_table(index='platform', values='total_sales', aggfunc='sum').sort_values(by='total_sales', ascending=False)"
   ]
  },
  {
   "cell_type": "markdown",
   "metadata": {},
   "source": [
    "PS2 - единоличный лидер, за ним идут X360, PS3 и Wii"
   ]
  },
  {
   "cell_type": "markdown",
   "metadata": {},
   "source": [
    "Построим распределение по годам для платформ с наибольшими суммарными продажами"
   ]
  },
  {
   "cell_type": "code",
   "execution_count": 41,
   "metadata": {},
   "outputs": [
    {
     "data": {
      "text/plain": [
       "<AxesSubplot:>"
      ]
     },
     "execution_count": 41,
     "metadata": {},
     "output_type": "execute_result"
    },
    {
     "data": {
      "image/png": "[encoded data removed]",
      "text/plain": [
       "<Figure size 432x288 with 1 Axes>"
      ]
     },
     "metadata": {
      "needs_background": "light"
     },
     "output_type": "display_data"
    }
   ],
   "source": [
    "data.query('platform == \"ps2\"')['year_of_release'].hist(bins=11)"
   ]
  },
  {
   "cell_type": "code",
   "execution_count": 42,
   "metadata": {},
   "outputs": [
    {
     "data": {
      "text/plain": [
       "<AxesSubplot:>"
      ]
     },
     "execution_count": 42,
     "metadata": {},
     "output_type": "execute_result"
    },
    {
     "data": {
      "image/png": "[encoded data removed]",
      "text/plain": [
       "<Figure size 432x288 with 1 Axes>"
      ]
     },
     "metadata": {
      "needs_background": "light"
     },
     "output_type": "display_data"
    }
   ],
   "source": [
    "data.query('platform == \"x360\"')['year_of_release'].hist(bins=11)"
   ]
  },
  {
   "cell_type": "code",
   "execution_count": 43,
   "metadata": {},
   "outputs": [
    {
     "data": {
      "text/plain": [
       "<AxesSubplot:>"
      ]
     },
     "execution_count": 43,
     "metadata": {},
     "output_type": "execute_result"
    },
    {
     "data": {
      "image/png": "[encoded data removed]",
      "text/plain": [
       "<Figure size 432x288 with 1 Axes>"
      ]
     },
     "metadata": {
      "needs_background": "light"
     },
     "output_type": "display_data"
    }
   ],
   "source": [
    "data.query('platform == \"ps3\"')['year_of_release'].hist(bins=11)"
   ]
  },
  {
   "cell_type": "code",
   "execution_count": 44,
   "metadata": {},
   "outputs": [
    {
     "data": {
      "text/plain": [
       "<AxesSubplot:>"
      ]
     },
     "execution_count": 44,
     "metadata": {},
     "output_type": "execute_result"
    },
    {
     "data": {
      "image/png": "[encoded data removed]",
      "text/plain": [
       "<Figure size 432x288 with 1 Axes>"
      ]
     },
     "metadata": {
      "needs_background": "light"
     },
     "output_type": "display_data"
    }
   ],
   "source": [
    "data.query('platform == \"wii\"')['year_of_release'].hist(bins=11)"
   ]
  },
  {
   "cell_type": "code",
   "execution_count": 45,
   "metadata": {},
   "outputs": [
    {
     "data": {
      "text/plain": [
       "<AxesSubplot:>"
      ]
     },
     "execution_count": 45,
     "metadata": {},
     "output_type": "execute_result"
    },
    {
     "data": {
      "image/png": "[encoded data removed]",
      "text/plain": [
       "<Figure size 432x288 with 1 Axes>"
      ]
     },
     "metadata": {
      "needs_background": "light"
     },
     "output_type": "display_data"
    }
   ],
   "source": [
    "data.query('platform == \"ds\"')['year_of_release'].hist(bins=50, range=(2003, 2014))"
   ]
  },
  {
   "cell_type": "code",
   "execution_count": 46,
   "metadata": {},
   "outputs": [
    {
     "data": {
      "text/plain": [
       "<AxesSubplot:>"
      ]
     },
     "execution_count": 46,
     "metadata": {},
     "output_type": "execute_result"
    },
    {
     "data": {
      "image/png": "[encoded data removed]",
      "text/plain": [
       "<Figure size 432x288 with 1 Axes>"
      ]
     },
     "metadata": {
      "needs_background": "light"
     },
     "output_type": "display_data"
    }
   ],
   "source": [
    "data.query('platform == \"ps\"')['year_of_release'].hist(bins=9)"
   ]
  },
  {
   "cell_type": "code",
   "execution_count": 47,
   "metadata": {},
   "outputs": [],
   "source": [
    "platforms = data.pivot_table(index='platform', values='total_sales', aggfunc='sum').sort_values(\n",
    "    by='total_sales', ascending=False).reset_index()['platform'].loc[:6].tolist()"
   ]
  },
  {
   "cell_type": "code",
   "execution_count": 48,
   "metadata": {},
   "outputs": [
    {
     "data": {
      "text/plain": [
       "['ps2', 'x360', 'wii', 'ps3', 'ds', 'ps', 'gba']"
      ]
     },
     "execution_count": 48,
     "metadata": {},
     "output_type": "execute_result"
    }
   ],
   "source": [
    "platforms #топ-6 платформ по продажам за все время"
   ]
  },
  {
   "cell_type": "code",
   "execution_count": 49,
   "metadata": {},
   "outputs": [
    {
     "data": {
      "image/png": "[encoded data removed]",
      "text/plain": [
       "<Figure size 288x216 with 1 Axes>"
      ]
     },
     "metadata": {
      "needs_background": "light"
     },
     "output_type": "display_data"
    },
    {
     "data": {
      "image/png": "[encoded data removed]",
      "text/plain": [
       "<Figure size 288x216 with 1 Axes>"
      ]
     },
     "metadata": {
      "needs_background": "light"
     },
     "output_type": "display_data"
    },
    {
     "data": {
      "image/png": "[encoded data removed]",
      "text/plain": [
       "<Figure size 288x216 with 1 Axes>"
      ]
     },
     "metadata": {
      "needs_background": "light"
     },
     "output_type": "display_data"
    },
    {
     "data": {
      "image/png": "[encoded data removed]",
      "text/plain": [
       "<Figure size 288x216 with 1 Axes>"
      ]
     },
     "metadata": {
      "needs_background": "light"
     },
     "output_type": "display_data"
    },
    {
     "data": {
      "image/png": "[encoded data removed]",
      "text/plain": [
       "<Figure size 288x216 with 1 Axes>"
      ]
     },
     "metadata": {
      "needs_background": "light"
     },
     "output_type": "display_data"
    },
    {
     "data": {
      "image/png": "[encoded data removed]",
      "text/plain": [
       "<Figure size 288x216 with 1 Axes>"
      ]
     },
     "metadata": {
      "needs_background": "light"
     },
     "output_type": "display_data"
    },
    {
     "data": {
      "image/png": "[encoded data removed]",
      "text/plain": [
       "<Figure size 288x216 with 1 Axes>"
      ]
     },
     "metadata": {
      "needs_background": "light"
     },
     "output_type": "display_data"
    }
   ],
   "source": [
    "for p in platforms:\n",
    "    data.query(f'platform == \"{p}\"').pivot_table(\n",
    "        index='year_of_release', values='total_sales', aggfunc='count').reset_index().plot(\n",
    "        x = 'year_of_release', y = 'total_sales', kind='line', title= p, figsize=(4,3))\n",
    "        "
   ]
  },
  {
   "cell_type": "markdown",
   "metadata": {},
   "source": [
    "По графикам видим, что для наиболее популярных платформ жизненный цикл составляет около 10 лет"
   ]
  },
  {
   "cell_type": "markdown",
   "metadata": {},
   "source": [
    "Учитывая этот  факт отфильтруем данные за период до 2005, поскольку они вряд ли помогут сделать точный прогноз на 2017 год."
   ]
  },
  {
   "cell_type": "code",
   "execution_count": 50,
   "metadata": {},
   "outputs": [],
   "source": [
    "data_2014 = data.query('year_of_release >= 2014')"
   ]
  },
  {
   "cell_type": "markdown",
   "metadata": {},
   "source": [
    "Рассмотрим, какие платформы лиддируют по продажам, растут или падают"
   ]
  },
  {
   "cell_type": "code",
   "execution_count": 51,
   "metadata": {},
   "outputs": [
    {
     "data": {
      "text/html": [
       "<div>\n",
       "<style scoped>\n",
       "    .dataframe tbody tr th:only-of-type {\n",
       "        vertical-align: middle;\n",
       "    }\n",
       "\n",
       "    .dataframe tbody tr th {\n",
       "        vertical-align: top;\n",
       "    }\n",
       "\n",
       "    .dataframe thead th {\n",
       "        text-align: right;\n",
       "    }\n",
       "</style>\n",
       "<table border=\"1\" class=\"dataframe\">\n",
       "  <thead>\n",
       "    <tr style=\"text-align: right;\">\n",
       "      <th></th>\n",
       "      <th>platform</th>\n",
       "      <th>total_sales</th>\n",
       "    </tr>\n",
       "  </thead>\n",
       "  <tbody>\n",
       "    <tr>\n",
       "      <th>0</th>\n",
       "      <td>ps4</td>\n",
       "      <td>243.67</td>\n",
       "    </tr>\n",
       "    <tr>\n",
       "      <th>1</th>\n",
       "      <td>xone</td>\n",
       "      <td>127.84</td>\n",
       "    </tr>\n",
       "    <tr>\n",
       "      <th>2</th>\n",
       "      <td>3ds</td>\n",
       "      <td>83.00</td>\n",
       "    </tr>\n",
       "    <tr>\n",
       "      <th>3</th>\n",
       "      <td>ps3</td>\n",
       "      <td>58.81</td>\n",
       "    </tr>\n",
       "    <tr>\n",
       "      <th>4</th>\n",
       "      <td>x360</td>\n",
       "      <td>43.87</td>\n",
       "    </tr>\n",
       "    <tr>\n",
       "      <th>5</th>\n",
       "      <td>wiiu</td>\n",
       "      <td>39.82</td>\n",
       "    </tr>\n",
       "    <tr>\n",
       "      <th>6</th>\n",
       "      <td>pc</td>\n",
       "      <td>25.20</td>\n",
       "    </tr>\n",
       "    <tr>\n",
       "      <th>7</th>\n",
       "      <td>psv</td>\n",
       "      <td>20.59</td>\n",
       "    </tr>\n",
       "    <tr>\n",
       "      <th>8</th>\n",
       "      <td>wii</td>\n",
       "      <td>4.67</td>\n",
       "    </tr>\n",
       "    <tr>\n",
       "      <th>9</th>\n",
       "      <td>psp</td>\n",
       "      <td>0.36</td>\n",
       "    </tr>\n",
       "  </tbody>\n",
       "</table>\n",
       "</div>"
      ],
      "text/plain": [
       "  platform  total_sales\n",
       "0      ps4       243.67\n",
       "1     xone       127.84\n",
       "2      3ds        83.00\n",
       "3      ps3        58.81\n",
       "4     x360        43.87\n",
       "5     wiiu        39.82\n",
       "6       pc        25.20\n",
       "7      psv        20.59\n",
       "8      wii         4.67\n",
       "9      psp         0.36"
      ]
     },
     "execution_count": 51,
     "metadata": {},
     "output_type": "execute_result"
    }
   ],
   "source": [
    "data_2014.groupby(by='platform', as_index=False)['total_sales'].sum().sort_values(\n",
    "    by='total_sales', ascending=False).reset_index(drop=True)"
   ]
  },
  {
   "cell_type": "markdown",
   "metadata": {},
   "source": [
    "За последние 3 года лидерами по общим продажам были ps4, xone, ds3."
   ]
  },
  {
   "cell_type": "markdown",
   "metadata": {},
   "source": [
    "Теперь рассмотрим изменение продаж за последние 3 года для разных платформ, чтобы выявить наиболее перспективные"
   ]
  },
  {
   "cell_type": "code",
   "execution_count": 52,
   "metadata": {
    "scrolled": false
   },
   "outputs": [
    {
     "data": {
      "image/png": "[encoded data removed]",
      "text/plain": [
       "<Figure size 288x216 with 1 Axes>"
      ]
     },
     "metadata": {
      "needs_background": "light"
     },
     "output_type": "display_data"
    },
    {
     "data": {
      "image/png": "[encoded data removed]",
      "text/plain": [
       "<Figure size 288x216 with 1 Axes>"
      ]
     },
     "metadata": {
      "needs_background": "light"
     },
     "output_type": "display_data"
    },
    {
     "data": {
      "image/png": "[encoded data removed]",
      "text/plain": [
       "<Figure size 288x216 with 1 Axes>"
      ]
     },
     "metadata": {
      "needs_background": "light"
     },
     "output_type": "display_data"
    },
    {
     "data": {
      "image/png": "[encoded data removed]",
      "text/plain": [
       "<Figure size 288x216 with 1 Axes>"
      ]
     },
     "metadata": {
      "needs_background": "light"
     },
     "output_type": "display_data"
    },
    {
     "data": {
      "image/png": "[encoded data removed]",
      "text/plain": [
       "<Figure size 288x216 with 1 Axes>"
      ]
     },
     "metadata": {
      "needs_background": "light"
     },
     "output_type": "display_data"
    },
    {
     "data": {
      "image/png": "[encoded data removed]",
      "text/plain": [
       "<Figure size 288x216 with 1 Axes>"
      ]
     },
     "metadata": {
      "needs_background": "light"
     },
     "output_type": "display_data"
    },
    {
     "data": {
      "image/png": "[encoded data removed]",
      "text/plain": [
       "<Figure size 288x216 with 1 Axes>"
      ]
     },
     "metadata": {
      "needs_background": "light"
     },
     "output_type": "display_data"
    },
    {
     "data": {
      "image/png": "[encoded data removed]",
      "text/plain": [
       "<Figure size 288x216 with 1 Axes>"
      ]
     },
     "metadata": {
      "needs_background": "light"
     },
     "output_type": "display_data"
    },
    {
     "data": {
      "image/png": "[encoded data removed]",
      "text/plain": [
       "<Figure size 288x216 with 1 Axes>"
      ]
     },
     "metadata": {
      "needs_background": "light"
     },
     "output_type": "display_data"
    },
    {
     "data": {
      "image/png": "[encoded data removed]",
      "text/plain": [
       "<Figure size 288x216 with 1 Axes>"
      ]
     },
     "metadata": {
      "needs_background": "light"
     },
     "output_type": "display_data"
    }
   ],
   "source": [
    "for platform in data_2014['platform'].unique():\n",
    "    data_2014.query(f'platform == \"{platform}\"').pivot_table(index='year_of_release',\n",
    "    values='total_sales', aggfunc='sum').reset_index().plot(x = 'year_of_release', y='total_sales',\n",
    "    kind='line', title= platform, figsize=(4,3), ylim=(0,200))"
   ]
  },
  {
   "cell_type": "markdown",
   "metadata": {},
   "source": [
    "К потенциально прибыльным можно отнести PS4, 3DS и XOne, поскольку, судя по графикам, эти платформы останутся востребованы в 2017."
   ]
  },
  {
   "cell_type": "code",
   "execution_count": 53,
   "metadata": {},
   "outputs": [
    {
     "data": {
      "text/plain": [
       "<AxesSubplot:title={'center':'total_sales'}, xlabel='platform'>"
      ]
     },
     "execution_count": 53,
     "metadata": {},
     "output_type": "execute_result"
    },
    {
     "data": {
      "image/png": "[encoded data removed]",
      "text/plain": [
       "<Figure size 1440x720 with 1 Axes>"
      ]
     },
     "metadata": {
      "needs_background": "light"
     },
     "output_type": "display_data"
    }
   ],
   "source": [
    "data_2014.pivot_table(\n",
    "    index=['platform', 'year_of_release'], values='total_sales', aggfunc='sum').boxplot(\n",
    "    column='total_sales', by='platform', figsize = (20,10))"
   ]
  },
  {
   "cell_type": "code",
   "execution_count": 54,
   "metadata": {},
   "outputs": [
    {
     "data": {
      "text/plain": [
       "(0.0, 1.0)"
      ]
     },
     "execution_count": 54,
     "metadata": {},
     "output_type": "execute_result"
    },
    {
     "data": {
      "image/png": "[encoded data removed]",
      "text/plain": [
       "<Figure size 432x288 with 1 Axes>"
      ]
     },
     "metadata": {
      "needs_background": "light"
     },
     "output_type": "display_data"
    }
   ],
   "source": [
    "ax = data_2014.pivot_table(\n",
    "    index=['platform', 'year_of_release'], values='total_sales', aggfunc='sum').boxplot(\n",
    "    column='total_sales', by='platform')\n",
    "ax.set_ylim(0, 1)"
   ]
  },
  {
   "cell_type": "markdown",
   "metadata": {},
   "source": [
    "Незачем рассматривать ящики с усами для платформ, которые уже не актуальны, поэтому ниже работаю только с тремя перспективными"
   ]
  },
  {
   "cell_type": "markdown",
   "metadata": {},
   "source": [
    "Рассмотрим только перспективные платформы"
   ]
  },
  {
   "cell_type": "code",
   "execution_count": 55,
   "metadata": {},
   "outputs": [
    {
     "data": {
      "text/plain": [
       "<AxesSubplot:title={'center':'total_sales'}, xlabel='platform'>"
      ]
     },
     "execution_count": 55,
     "metadata": {},
     "output_type": "execute_result"
    },
    {
     "data": {
      "image/png": "[encoded data removed]",
      "text/plain": [
       "<Figure size 1440x720 with 1 Axes>"
      ]
     },
     "metadata": {
      "needs_background": "light"
     },
     "output_type": "display_data"
    }
   ],
   "source": [
    "data_2014.query('platform in [\"ps4\", \"xone\", \"3ds\"]').pivot_table(\n",
    "    index=['platform', 'year_of_release'], values='total_sales', aggfunc='sum').boxplot(\n",
    "        column='total_sales', by='platform', figsize=(20,10))"
   ]
  },
  {
   "cell_type": "markdown",
   "metadata": {},
   "source": [
    "На графике отображены медианные значения продаж для данных платформ, 2 и 3 квартили, минимальные и максимальные значения, совпадающие с концами усов, поскольку выбросов ни для одной платформы нет.\n"
   ]
  },
  {
   "cell_type": "code",
   "execution_count": 56,
   "metadata": {},
   "outputs": [
    {
     "data": {
      "text/html": [
       "<div>\n",
       "<style scoped>\n",
       "    .dataframe tbody tr th:only-of-type {\n",
       "        vertical-align: middle;\n",
       "    }\n",
       "\n",
       "    .dataframe tbody tr th {\n",
       "        vertical-align: top;\n",
       "    }\n",
       "\n",
       "    .dataframe thead th {\n",
       "        text-align: right;\n",
       "    }\n",
       "</style>\n",
       "<table border=\"1\" class=\"dataframe\">\n",
       "  <thead>\n",
       "    <tr style=\"text-align: right;\">\n",
       "      <th></th>\n",
       "      <th>total_sales</th>\n",
       "    </tr>\n",
       "  </thead>\n",
       "  <tbody>\n",
       "    <tr>\n",
       "      <th>count</th>\n",
       "      <td>3.000000</td>\n",
       "    </tr>\n",
       "    <tr>\n",
       "      <th>mean</th>\n",
       "      <td>42.613333</td>\n",
       "    </tr>\n",
       "    <tr>\n",
       "      <th>std</th>\n",
       "      <td>16.421877</td>\n",
       "    </tr>\n",
       "    <tr>\n",
       "      <th>min</th>\n",
       "      <td>23.910000</td>\n",
       "    </tr>\n",
       "    <tr>\n",
       "      <th>25%</th>\n",
       "      <td>36.585000</td>\n",
       "    </tr>\n",
       "    <tr>\n",
       "      <th>50%</th>\n",
       "      <td>49.260000</td>\n",
       "    </tr>\n",
       "    <tr>\n",
       "      <th>75%</th>\n",
       "      <td>51.965000</td>\n",
       "    </tr>\n",
       "    <tr>\n",
       "      <th>max</th>\n",
       "      <td>54.670000</td>\n",
       "    </tr>\n",
       "  </tbody>\n",
       "</table>\n",
       "</div>"
      ],
      "text/plain": [
       "       total_sales\n",
       "count     3.000000\n",
       "mean     42.613333\n",
       "std      16.421877\n",
       "min      23.910000\n",
       "25%      36.585000\n",
       "50%      49.260000\n",
       "75%      51.965000\n",
       "max      54.670000"
      ]
     },
     "execution_count": 56,
     "metadata": {},
     "output_type": "execute_result"
    }
   ],
   "source": [
    "data_2014.query('platform == \"xone\"').pivot_table(\n",
    "    index=['platform', 'year_of_release'], values='total_sales', aggfunc='sum').describe()"
   ]
  },
  {
   "cell_type": "code",
   "execution_count": 57,
   "metadata": {},
   "outputs": [
    {
     "data": {
      "text/html": [
       "<div>\n",
       "<style scoped>\n",
       "    .dataframe tbody tr th:only-of-type {\n",
       "        vertical-align: middle;\n",
       "    }\n",
       "\n",
       "    .dataframe tbody tr th {\n",
       "        vertical-align: top;\n",
       "    }\n",
       "\n",
       "    .dataframe thead th {\n",
       "        text-align: right;\n",
       "    }\n",
       "</style>\n",
       "<table border=\"1\" class=\"dataframe\">\n",
       "  <thead>\n",
       "    <tr style=\"text-align: right;\">\n",
       "      <th></th>\n",
       "      <th>total_sales</th>\n",
       "    </tr>\n",
       "  </thead>\n",
       "  <tbody>\n",
       "    <tr>\n",
       "      <th>count</th>\n",
       "      <td>3.000000</td>\n",
       "    </tr>\n",
       "    <tr>\n",
       "      <th>mean</th>\n",
       "      <td>81.223333</td>\n",
       "    </tr>\n",
       "    <tr>\n",
       "      <th>std</th>\n",
       "      <td>20.876931</td>\n",
       "    </tr>\n",
       "    <tr>\n",
       "      <th>min</th>\n",
       "      <td>59.010000</td>\n",
       "    </tr>\n",
       "    <tr>\n",
       "      <th>25%</th>\n",
       "      <td>71.615000</td>\n",
       "    </tr>\n",
       "    <tr>\n",
       "      <th>50%</th>\n",
       "      <td>84.220000</td>\n",
       "    </tr>\n",
       "    <tr>\n",
       "      <th>75%</th>\n",
       "      <td>92.330000</td>\n",
       "    </tr>\n",
       "    <tr>\n",
       "      <th>max</th>\n",
       "      <td>100.440000</td>\n",
       "    </tr>\n",
       "  </tbody>\n",
       "</table>\n",
       "</div>"
      ],
      "text/plain": [
       "       total_sales\n",
       "count     3.000000\n",
       "mean     81.223333\n",
       "std      20.876931\n",
       "min      59.010000\n",
       "25%      71.615000\n",
       "50%      84.220000\n",
       "75%      92.330000\n",
       "max     100.440000"
      ]
     },
     "execution_count": 57,
     "metadata": {},
     "output_type": "execute_result"
    }
   ],
   "source": [
    "data_2014.query('platform == \"ps4\"').pivot_table(\n",
    "    index=['platform', 'year_of_release'], values='total_sales', aggfunc='sum').describe()"
   ]
  },
  {
   "cell_type": "code",
   "execution_count": 58,
   "metadata": {},
   "outputs": [
    {
     "data": {
      "text/html": [
       "<div>\n",
       "<style scoped>\n",
       "    .dataframe tbody tr th:only-of-type {\n",
       "        vertical-align: middle;\n",
       "    }\n",
       "\n",
       "    .dataframe tbody tr th {\n",
       "        vertical-align: top;\n",
       "    }\n",
       "\n",
       "    .dataframe thead th {\n",
       "        text-align: right;\n",
       "    }\n",
       "</style>\n",
       "<table border=\"1\" class=\"dataframe\">\n",
       "  <thead>\n",
       "    <tr style=\"text-align: right;\">\n",
       "      <th></th>\n",
       "      <th>total_sales</th>\n",
       "    </tr>\n",
       "  </thead>\n",
       "  <tbody>\n",
       "    <tr>\n",
       "      <th>count</th>\n",
       "      <td>3.000000</td>\n",
       "    </tr>\n",
       "    <tr>\n",
       "      <th>mean</th>\n",
       "      <td>27.666667</td>\n",
       "    </tr>\n",
       "    <tr>\n",
       "      <th>std</th>\n",
       "      <td>13.648107</td>\n",
       "    </tr>\n",
       "    <tr>\n",
       "      <th>min</th>\n",
       "      <td>14.500000</td>\n",
       "    </tr>\n",
       "    <tr>\n",
       "      <th>25%</th>\n",
       "      <td>20.625000</td>\n",
       "    </tr>\n",
       "    <tr>\n",
       "      <th>50%</th>\n",
       "      <td>26.750000</td>\n",
       "    </tr>\n",
       "    <tr>\n",
       "      <th>75%</th>\n",
       "      <td>34.250000</td>\n",
       "    </tr>\n",
       "    <tr>\n",
       "      <th>max</th>\n",
       "      <td>41.750000</td>\n",
       "    </tr>\n",
       "  </tbody>\n",
       "</table>\n",
       "</div>"
      ],
      "text/plain": [
       "       total_sales\n",
       "count     3.000000\n",
       "mean     27.666667\n",
       "std      13.648107\n",
       "min      14.500000\n",
       "25%      20.625000\n",
       "50%      26.750000\n",
       "75%      34.250000\n",
       "max      41.750000"
      ]
     },
     "execution_count": 58,
     "metadata": {},
     "output_type": "execute_result"
    }
   ],
   "source": [
    "data_2014.query('platform == \"3ds\"').pivot_table(\n",
    "    index=['platform', 'year_of_release'], values='total_sales', aggfunc='sum').describe()"
   ]
  },
  {
   "cell_type": "markdown",
   "metadata": {},
   "source": [
    "По графику и таблицам можем сказать, что ps4 серьезно опережает конкурентов: даже минимальное значение продаж ps4 превосходит максимальны продажи конкурентов. Для каждой платформы среднее значение почти совпадает с медианным, что еще раз подтверждает отсутствие выбросов, уже замеченное нами на графике.  В целом можем отметить, что продажи для ps4 намного больше продаж xone и 3ds"
   ]
  },
  {
   "cell_type": "markdown",
   "metadata": {},
   "source": [
    "Посмотрим, как влияют на продажи PS4 отзывы пользователей и критиков"
   ]
  },
  {
   "cell_type": "code",
   "execution_count": 59,
   "metadata": {},
   "outputs": [
    {
     "data": {
      "text/html": [
       "<div>\n",
       "<style scoped>\n",
       "    .dataframe tbody tr th:only-of-type {\n",
       "        vertical-align: middle;\n",
       "    }\n",
       "\n",
       "    .dataframe tbody tr th {\n",
       "        vertical-align: top;\n",
       "    }\n",
       "\n",
       "    .dataframe thead th {\n",
       "        text-align: right;\n",
       "    }\n",
       "</style>\n",
       "<table border=\"1\" class=\"dataframe\">\n",
       "  <thead>\n",
       "    <tr style=\"text-align: right;\">\n",
       "      <th></th>\n",
       "      <th>name</th>\n",
       "      <th>platform</th>\n",
       "      <th>year_of_release</th>\n",
       "      <th>genre</th>\n",
       "      <th>na_sales</th>\n",
       "      <th>eu_sales</th>\n",
       "      <th>jp_sales</th>\n",
       "      <th>other_sales</th>\n",
       "      <th>critic_score</th>\n",
       "      <th>user_score</th>\n",
       "      <th>rating</th>\n",
       "      <th>total_sales</th>\n",
       "    </tr>\n",
       "  </thead>\n",
       "  <tbody>\n",
       "    <tr>\n",
       "      <th>31</th>\n",
       "      <td>call of duty: black ops 3</td>\n",
       "      <td>ps4</td>\n",
       "      <td>2015.0</td>\n",
       "      <td>shooter</td>\n",
       "      <td>6.03</td>\n",
       "      <td>5.86</td>\n",
       "      <td>0.36</td>\n",
       "      <td>2.38</td>\n",
       "      <td>NaN</td>\n",
       "      <td>NaN</td>\n",
       "      <td>unknown</td>\n",
       "      <td>12.25</td>\n",
       "    </tr>\n",
       "    <tr>\n",
       "      <th>42</th>\n",
       "      <td>grand theft auto v</td>\n",
       "      <td>ps4</td>\n",
       "      <td>2014.0</td>\n",
       "      <td>action</td>\n",
       "      <td>3.96</td>\n",
       "      <td>6.31</td>\n",
       "      <td>0.38</td>\n",
       "      <td>1.97</td>\n",
       "      <td>97.0</td>\n",
       "      <td>8.3</td>\n",
       "      <td>M</td>\n",
       "      <td>10.65</td>\n",
       "    </tr>\n",
       "    <tr>\n",
       "      <th>47</th>\n",
       "      <td>pokemon omega ruby/pokemon alpha sapphire</td>\n",
       "      <td>3ds</td>\n",
       "      <td>2014.0</td>\n",
       "      <td>role-playing</td>\n",
       "      <td>4.35</td>\n",
       "      <td>3.49</td>\n",
       "      <td>3.10</td>\n",
       "      <td>0.74</td>\n",
       "      <td>NaN</td>\n",
       "      <td>NaN</td>\n",
       "      <td>unknown</td>\n",
       "      <td>10.94</td>\n",
       "    </tr>\n",
       "    <tr>\n",
       "      <th>77</th>\n",
       "      <td>fifa 16</td>\n",
       "      <td>ps4</td>\n",
       "      <td>2015.0</td>\n",
       "      <td>sports</td>\n",
       "      <td>1.12</td>\n",
       "      <td>6.12</td>\n",
       "      <td>0.06</td>\n",
       "      <td>1.28</td>\n",
       "      <td>82.0</td>\n",
       "      <td>4.3</td>\n",
       "      <td>E</td>\n",
       "      <td>7.30</td>\n",
       "    </tr>\n",
       "    <tr>\n",
       "      <th>87</th>\n",
       "      <td>star wars battlefront (2015)</td>\n",
       "      <td>ps4</td>\n",
       "      <td>2015.0</td>\n",
       "      <td>shooter</td>\n",
       "      <td>2.99</td>\n",
       "      <td>3.49</td>\n",
       "      <td>0.22</td>\n",
       "      <td>1.28</td>\n",
       "      <td>NaN</td>\n",
       "      <td>NaN</td>\n",
       "      <td>unknown</td>\n",
       "      <td>6.70</td>\n",
       "    </tr>\n",
       "  </tbody>\n",
       "</table>\n",
       "</div>"
      ],
      "text/plain": [
       "                                         name platform  year_of_release  \\\n",
       "31                  call of duty: black ops 3      ps4           2015.0   \n",
       "42                         grand theft auto v      ps4           2014.0   \n",
       "47  pokemon omega ruby/pokemon alpha sapphire      3ds           2014.0   \n",
       "77                                    fifa 16      ps4           2015.0   \n",
       "87               star wars battlefront (2015)      ps4           2015.0   \n",
       "\n",
       "           genre  na_sales  eu_sales  jp_sales  other_sales  critic_score  \\\n",
       "31       shooter      6.03      5.86      0.36         2.38           NaN   \n",
       "42        action      3.96      6.31      0.38         1.97          97.0   \n",
       "47  role-playing      4.35      3.49      3.10         0.74           NaN   \n",
       "77        sports      1.12      6.12      0.06         1.28          82.0   \n",
       "87       shooter      2.99      3.49      0.22         1.28           NaN   \n",
       "\n",
       "    user_score   rating  total_sales  \n",
       "31         NaN  unknown        12.25  \n",
       "42         8.3        M        10.65  \n",
       "47         NaN  unknown        10.94  \n",
       "77         4.3        E         7.30  \n",
       "87         NaN  unknown         6.70  "
      ]
     },
     "execution_count": 59,
     "metadata": {},
     "output_type": "execute_result"
    }
   ],
   "source": [
    "data_2014.head()"
   ]
  },
  {
   "cell_type": "code",
   "execution_count": 60,
   "metadata": {},
   "outputs": [
    {
     "data": {
      "text/plain": [
       "Text(0, 0.5, 'total_sales')"
      ]
     },
     "execution_count": 60,
     "metadata": {},
     "output_type": "execute_result"
    },
    {
     "data": {
      "image/png": "[encoded data removed]",
      "text/plain": [
       "<Figure size 720x360 with 2 Axes>"
      ]
     },
     "metadata": {
      "needs_background": "light"
     },
     "output_type": "display_data"
    }
   ],
   "source": [
    "figure = plt.figure(figsize=(10,5))\n",
    "ax1 = figure.add_subplot(1,2,1)\n",
    "ax2 = figure.add_subplot(1,2,2)\n",
    "ax1.scatter(x=data_2014[data_2014['platform'] == 'ps4']['critic_score'], \n",
    "            y=data_2014[data_2014['platform'] == 'ps4']['total_sales'], \n",
    "            c= 'Slateblue', alpha = 0.4, marker = 'o')\n",
    "ax2.scatter(x=data_2014[data_2014['platform'] == 'ps4']['user_score'], \n",
    "            y=data_2014[data_2014['platform'] == 'ps4']['total_sales'], \n",
    "            c= 'red', alpha = 0.4, marker = 'o')\n",
    "ax1.set_xlabel('critic_score')\n",
    "ax1.set_ylabel('total_sales')\n",
    "ax2.set_xlabel('user_score')\n",
    "ax2.set_ylabel('total_sales')"
   ]
  },
  {
   "cell_type": "code",
   "execution_count": 61,
   "metadata": {},
   "outputs": [
    {
     "data": {
      "text/plain": [
       "0.4021203477635433"
      ]
     },
     "execution_count": 61,
     "metadata": {},
     "output_type": "execute_result"
    }
   ],
   "source": [
    "data_2014[data_2014['platform'] == 'ps4']['total_sales'].corr(\n",
    "    data_2014[data_2014['platform'] == 'ps4']['critic_score'])"
   ]
  },
  {
   "cell_type": "code",
   "execution_count": 62,
   "metadata": {},
   "outputs": [
    {
     "data": {
      "text/plain": [
       "-0.039364345213287334"
      ]
     },
     "execution_count": 62,
     "metadata": {},
     "output_type": "execute_result"
    }
   ],
   "source": [
    "data_2014[data_2014['platform'] == 'ps4']['total_sales'].corr(\n",
    "    data_2014[data_2014['platform'] == 'ps4']['user_score'])"
   ]
  },
  {
   "cell_type": "markdown",
   "metadata": {},
   "source": [
    "Судя по коэффициентам корреляции, прямой зависимости между общими продажами и отзывами пользователей нет. Зависимость между между общими продажами и отзывами критиков слабая."
   ]
  },
  {
   "cell_type": "markdown",
   "metadata": {},
   "source": [
    "Для двух других перспективных платформ имеем следующее:"
   ]
  },
  {
   "cell_type": "code",
   "execution_count": 63,
   "metadata": {},
   "outputs": [
    {
     "data": {
      "text/plain": [
       "0.4286498963779636"
      ]
     },
     "execution_count": 63,
     "metadata": {},
     "output_type": "execute_result"
    }
   ],
   "source": [
    "data_2014[data_2014['platform'] == 'xone']['total_sales'].corr(\n",
    "    data_2014[data_2014['platform'] == 'xone']['critic_score'])"
   ]
  },
  {
   "cell_type": "code",
   "execution_count": 64,
   "metadata": {},
   "outputs": [
    {
     "data": {
      "text/plain": [
       "-0.07039252638189664"
      ]
     },
     "execution_count": 64,
     "metadata": {},
     "output_type": "execute_result"
    }
   ],
   "source": [
    "data_2014[data_2014['platform'] == 'xone']['total_sales'].corr(\n",
    "    data_2014[data_2014['platform'] == 'xone']['user_score'])"
   ]
  },
  {
   "cell_type": "code",
   "execution_count": 65,
   "metadata": {},
   "outputs": [
    {
     "data": {
      "text/plain": [
       "0.3117520311601232"
      ]
     },
     "execution_count": 65,
     "metadata": {},
     "output_type": "execute_result"
    }
   ],
   "source": [
    "data_2014[data_2014['platform'] == '3ds']['total_sales'].corr(\n",
    "    data_2014[data_2014['platform'] == '3ds']['critic_score'])"
   ]
  },
  {
   "cell_type": "code",
   "execution_count": 66,
   "metadata": {},
   "outputs": [
    {
     "data": {
      "text/plain": [
       "0.21461640035191556"
      ]
     },
     "execution_count": 66,
     "metadata": {},
     "output_type": "execute_result"
    }
   ],
   "source": [
    "data_2014[data_2014['platform'] == '3ds']['total_sales'].corr(\n",
    "    data_2014[data_2014['platform'] == '3ds']['user_score'])"
   ]
  },
  {
   "cell_type": "markdown",
   "metadata": {},
   "source": [
    "По коэффициентам корреляции можем сделать вывод, что линейной зависимости между отзывами и общими продажами нет."
   ]
  },
  {
   "cell_type": "markdown",
   "metadata": {},
   "source": [
    "Посмотрим на общее распределение игр по жанрам"
   ]
  },
  {
   "cell_type": "code",
   "execution_count": 67,
   "metadata": {},
   "outputs": [
    {
     "data": {
      "text/plain": [
       "array(['shooter', 'action', 'role-playing', 'sports', 'fighting',\n",
       "       'racing', 'misc', 'platform', 'simulation', 'adventure', 'puzzle',\n",
       "       'strategy'], dtype=object)"
      ]
     },
     "execution_count": 67,
     "metadata": {},
     "output_type": "execute_result"
    }
   ],
   "source": [
    "data_2014['genre'].unique()"
   ]
  },
  {
   "cell_type": "markdown",
   "metadata": {},
   "source": [
    "Дубликатов нет"
   ]
  },
  {
   "cell_type": "code",
   "execution_count": 68,
   "metadata": {},
   "outputs": [
    {
     "data": {
      "text/html": [
       "<div>\n",
       "<style scoped>\n",
       "    .dataframe tbody tr th:only-of-type {\n",
       "        vertical-align: middle;\n",
       "    }\n",
       "\n",
       "    .dataframe tbody tr th {\n",
       "        vertical-align: top;\n",
       "    }\n",
       "\n",
       "    .dataframe thead th {\n",
       "        text-align: right;\n",
       "    }\n",
       "</style>\n",
       "<table border=\"1\" class=\"dataframe\">\n",
       "  <thead>\n",
       "    <tr style=\"text-align: right;\">\n",
       "      <th></th>\n",
       "      <th>mean</th>\n",
       "      <th>count</th>\n",
       "      <th>sum</th>\n",
       "    </tr>\n",
       "    <tr>\n",
       "      <th>genre</th>\n",
       "      <th></th>\n",
       "      <th></th>\n",
       "      <th></th>\n",
       "    </tr>\n",
       "  </thead>\n",
       "  <tbody>\n",
       "    <tr>\n",
       "      <th>shooter</th>\n",
       "      <td>1.167266</td>\n",
       "      <td>128</td>\n",
       "      <td>149.41</td>\n",
       "    </tr>\n",
       "    <tr>\n",
       "      <th>sports</th>\n",
       "      <td>0.590807</td>\n",
       "      <td>161</td>\n",
       "      <td>95.12</td>\n",
       "    </tr>\n",
       "    <tr>\n",
       "      <th>platform</th>\n",
       "      <td>0.428421</td>\n",
       "      <td>38</td>\n",
       "      <td>16.28</td>\n",
       "    </tr>\n",
       "    <tr>\n",
       "      <th>fighting</th>\n",
       "      <td>0.424833</td>\n",
       "      <td>60</td>\n",
       "      <td>25.49</td>\n",
       "    </tr>\n",
       "    <tr>\n",
       "      <th>role-playing</th>\n",
       "      <td>0.419910</td>\n",
       "      <td>221</td>\n",
       "      <td>92.80</td>\n",
       "    </tr>\n",
       "    <tr>\n",
       "      <th>racing</th>\n",
       "      <td>0.356957</td>\n",
       "      <td>69</td>\n",
       "      <td>24.63</td>\n",
       "    </tr>\n",
       "    <tr>\n",
       "      <th>misc</th>\n",
       "      <td>0.296637</td>\n",
       "      <td>113</td>\n",
       "      <td>33.52</td>\n",
       "    </tr>\n",
       "    <tr>\n",
       "      <th>action</th>\n",
       "      <td>0.285606</td>\n",
       "      <td>619</td>\n",
       "      <td>176.79</td>\n",
       "    </tr>\n",
       "    <tr>\n",
       "      <th>simulation</th>\n",
       "      <td>0.278182</td>\n",
       "      <td>44</td>\n",
       "      <td>12.24</td>\n",
       "    </tr>\n",
       "    <tr>\n",
       "      <th>puzzle</th>\n",
       "      <td>0.150000</td>\n",
       "      <td>14</td>\n",
       "      <td>2.10</td>\n",
       "    </tr>\n",
       "    <tr>\n",
       "      <th>strategy</th>\n",
       "      <td>0.100541</td>\n",
       "      <td>37</td>\n",
       "      <td>3.72</td>\n",
       "    </tr>\n",
       "    <tr>\n",
       "      <th>adventure</th>\n",
       "      <td>0.085027</td>\n",
       "      <td>185</td>\n",
       "      <td>15.73</td>\n",
       "    </tr>\n",
       "  </tbody>\n",
       "</table>\n",
       "</div>"
      ],
      "text/plain": [
       "                  mean  count     sum\n",
       "genre                                \n",
       "shooter       1.167266    128  149.41\n",
       "sports        0.590807    161   95.12\n",
       "platform      0.428421     38   16.28\n",
       "fighting      0.424833     60   25.49\n",
       "role-playing  0.419910    221   92.80\n",
       "racing        0.356957     69   24.63\n",
       "misc          0.296637    113   33.52\n",
       "action        0.285606    619  176.79\n",
       "simulation    0.278182     44   12.24\n",
       "puzzle        0.150000     14    2.10\n",
       "strategy      0.100541     37    3.72\n",
       "adventure     0.085027    185   15.73"
      ]
     },
     "execution_count": 68,
     "metadata": {},
     "output_type": "execute_result"
    }
   ],
   "source": [
    "data_2014.groupby(by='genre', as_index=False)['total_sales'].agg(\n",
    "    ['mean','count','sum']).sort_values(by='mean', ascending=False)"
   ]
  },
  {
   "cell_type": "markdown",
   "metadata": {},
   "source": [
    "Наиболее прибыльные жанры: Shooter, Platform, Sports. Наименее прибыльные: Strategy и Adventure."
   ]
  },
  {
   "cell_type": "markdown",
   "metadata": {},
   "source": [
    "***Составим портер каждого региона***"
   ]
  },
  {
   "cell_type": "code",
   "execution_count": 69,
   "metadata": {},
   "outputs": [
    {
     "data": {
      "text/html": [
       "<div>\n",
       "<style scoped>\n",
       "    .dataframe tbody tr th:only-of-type {\n",
       "        vertical-align: middle;\n",
       "    }\n",
       "\n",
       "    .dataframe tbody tr th {\n",
       "        vertical-align: top;\n",
       "    }\n",
       "\n",
       "    .dataframe thead th {\n",
       "        text-align: right;\n",
       "    }\n",
       "</style>\n",
       "<table border=\"1\" class=\"dataframe\">\n",
       "  <thead>\n",
       "    <tr style=\"text-align: right;\">\n",
       "      <th></th>\n",
       "      <th>name</th>\n",
       "      <th>platform</th>\n",
       "      <th>year_of_release</th>\n",
       "      <th>genre</th>\n",
       "      <th>na_sales</th>\n",
       "      <th>eu_sales</th>\n",
       "      <th>jp_sales</th>\n",
       "      <th>other_sales</th>\n",
       "      <th>critic_score</th>\n",
       "      <th>user_score</th>\n",
       "      <th>rating</th>\n",
       "      <th>total_sales</th>\n",
       "    </tr>\n",
       "  </thead>\n",
       "  <tbody>\n",
       "    <tr>\n",
       "      <th>31</th>\n",
       "      <td>call of duty: black ops 3</td>\n",
       "      <td>ps4</td>\n",
       "      <td>2015.0</td>\n",
       "      <td>shooter</td>\n",
       "      <td>6.03</td>\n",
       "      <td>5.86</td>\n",
       "      <td>0.36</td>\n",
       "      <td>2.38</td>\n",
       "      <td>NaN</td>\n",
       "      <td>NaN</td>\n",
       "      <td>unknown</td>\n",
       "      <td>12.25</td>\n",
       "    </tr>\n",
       "    <tr>\n",
       "      <th>42</th>\n",
       "      <td>grand theft auto v</td>\n",
       "      <td>ps4</td>\n",
       "      <td>2014.0</td>\n",
       "      <td>action</td>\n",
       "      <td>3.96</td>\n",
       "      <td>6.31</td>\n",
       "      <td>0.38</td>\n",
       "      <td>1.97</td>\n",
       "      <td>97.0</td>\n",
       "      <td>8.3</td>\n",
       "      <td>M</td>\n",
       "      <td>10.65</td>\n",
       "    </tr>\n",
       "    <tr>\n",
       "      <th>47</th>\n",
       "      <td>pokemon omega ruby/pokemon alpha sapphire</td>\n",
       "      <td>3ds</td>\n",
       "      <td>2014.0</td>\n",
       "      <td>role-playing</td>\n",
       "      <td>4.35</td>\n",
       "      <td>3.49</td>\n",
       "      <td>3.10</td>\n",
       "      <td>0.74</td>\n",
       "      <td>NaN</td>\n",
       "      <td>NaN</td>\n",
       "      <td>unknown</td>\n",
       "      <td>10.94</td>\n",
       "    </tr>\n",
       "    <tr>\n",
       "      <th>77</th>\n",
       "      <td>fifa 16</td>\n",
       "      <td>ps4</td>\n",
       "      <td>2015.0</td>\n",
       "      <td>sports</td>\n",
       "      <td>1.12</td>\n",
       "      <td>6.12</td>\n",
       "      <td>0.06</td>\n",
       "      <td>1.28</td>\n",
       "      <td>82.0</td>\n",
       "      <td>4.3</td>\n",
       "      <td>E</td>\n",
       "      <td>7.30</td>\n",
       "    </tr>\n",
       "    <tr>\n",
       "      <th>87</th>\n",
       "      <td>star wars battlefront (2015)</td>\n",
       "      <td>ps4</td>\n",
       "      <td>2015.0</td>\n",
       "      <td>shooter</td>\n",
       "      <td>2.99</td>\n",
       "      <td>3.49</td>\n",
       "      <td>0.22</td>\n",
       "      <td>1.28</td>\n",
       "      <td>NaN</td>\n",
       "      <td>NaN</td>\n",
       "      <td>unknown</td>\n",
       "      <td>6.70</td>\n",
       "    </tr>\n",
       "  </tbody>\n",
       "</table>\n",
       "</div>"
      ],
      "text/plain": [
       "                                         name platform  year_of_release  \\\n",
       "31                  call of duty: black ops 3      ps4           2015.0   \n",
       "42                         grand theft auto v      ps4           2014.0   \n",
       "47  pokemon omega ruby/pokemon alpha sapphire      3ds           2014.0   \n",
       "77                                    fifa 16      ps4           2015.0   \n",
       "87               star wars battlefront (2015)      ps4           2015.0   \n",
       "\n",
       "           genre  na_sales  eu_sales  jp_sales  other_sales  critic_score  \\\n",
       "31       shooter      6.03      5.86      0.36         2.38           NaN   \n",
       "42        action      3.96      6.31      0.38         1.97          97.0   \n",
       "47  role-playing      4.35      3.49      3.10         0.74           NaN   \n",
       "77        sports      1.12      6.12      0.06         1.28          82.0   \n",
       "87       shooter      2.99      3.49      0.22         1.28           NaN   \n",
       "\n",
       "    user_score   rating  total_sales  \n",
       "31         NaN  unknown        12.25  \n",
       "42         8.3        M        10.65  \n",
       "47         NaN  unknown        10.94  \n",
       "77         4.3        E         7.30  \n",
       "87         NaN  unknown         6.70  "
      ]
     },
     "execution_count": 69,
     "metadata": {},
     "output_type": "execute_result"
    }
   ],
   "source": [
    "data_2014.head()"
   ]
  },
  {
   "cell_type": "markdown",
   "metadata": {},
   "source": [
    "Для каждого региона определим самые популярные платформы"
   ]
  },
  {
   "cell_type": "code",
   "execution_count": 70,
   "metadata": {},
   "outputs": [],
   "source": [
    "na_pivot =data_2014.groupby(by='platform', as_index=False)['na_sales'].sum().sort_values(\n",
    "    by='na_sales', ascending=False).reset_index(drop=True)"
   ]
  },
  {
   "cell_type": "code",
   "execution_count": 71,
   "metadata": {},
   "outputs": [
    {
     "data": {
      "text/html": [
       "<div>\n",
       "<style scoped>\n",
       "    .dataframe tbody tr th:only-of-type {\n",
       "        vertical-align: middle;\n",
       "    }\n",
       "\n",
       "    .dataframe tbody tr th {\n",
       "        vertical-align: top;\n",
       "    }\n",
       "\n",
       "    .dataframe thead th {\n",
       "        text-align: right;\n",
       "    }\n",
       "</style>\n",
       "<table border=\"1\" class=\"dataframe\">\n",
       "  <thead>\n",
       "    <tr style=\"text-align: right;\">\n",
       "      <th></th>\n",
       "      <th>platform</th>\n",
       "      <th>na_sales</th>\n",
       "    </tr>\n",
       "  </thead>\n",
       "  <tbody>\n",
       "    <tr>\n",
       "      <th>0</th>\n",
       "      <td>ps4</td>\n",
       "      <td>98.61</td>\n",
       "    </tr>\n",
       "    <tr>\n",
       "      <th>1</th>\n",
       "      <td>xone</td>\n",
       "      <td>81.27</td>\n",
       "    </tr>\n",
       "    <tr>\n",
       "      <th>2</th>\n",
       "      <td>x360</td>\n",
       "      <td>28.30</td>\n",
       "    </tr>\n",
       "    <tr>\n",
       "      <th>3</th>\n",
       "      <td>3ds</td>\n",
       "      <td>22.64</td>\n",
       "    </tr>\n",
       "    <tr>\n",
       "      <th>4</th>\n",
       "      <td>ps3</td>\n",
       "      <td>22.05</td>\n",
       "    </tr>\n",
       "    <tr>\n",
       "      <th>5</th>\n",
       "      <td>wiiu</td>\n",
       "      <td>19.36</td>\n",
       "    </tr>\n",
       "    <tr>\n",
       "      <th>6</th>\n",
       "      <td>pc</td>\n",
       "      <td>7.23</td>\n",
       "    </tr>\n",
       "    <tr>\n",
       "      <th>7</th>\n",
       "      <td>psv</td>\n",
       "      <td>2.52</td>\n",
       "    </tr>\n",
       "    <tr>\n",
       "      <th>8</th>\n",
       "      <td>wii</td>\n",
       "      <td>2.08</td>\n",
       "    </tr>\n",
       "    <tr>\n",
       "      <th>9</th>\n",
       "      <td>psp</td>\n",
       "      <td>0.00</td>\n",
       "    </tr>\n",
       "  </tbody>\n",
       "</table>\n",
       "</div>"
      ],
      "text/plain": [
       "  platform  na_sales\n",
       "0      ps4     98.61\n",
       "1     xone     81.27\n",
       "2     x360     28.30\n",
       "3      3ds     22.64\n",
       "4      ps3     22.05\n",
       "5     wiiu     19.36\n",
       "6       pc      7.23\n",
       "7      psv      2.52\n",
       "8      wii      2.08\n",
       "9      psp      0.00"
      ]
     },
     "execution_count": 71,
     "metadata": {},
     "output_type": "execute_result"
    }
   ],
   "source": [
    "na_pivot"
   ]
  },
  {
   "cell_type": "markdown",
   "metadata": {},
   "source": [
    "В Северной Америке наиболее популярны платформы:ps4 и xone"
   ]
  },
  {
   "cell_type": "code",
   "execution_count": 72,
   "metadata": {},
   "outputs": [],
   "source": [
    "na_pivot['percentage'] = na_pivot['na_sales']/na_pivot['na_sales'].sum()"
   ]
  },
  {
   "cell_type": "code",
   "execution_count": 73,
   "metadata": {},
   "outputs": [
    {
     "data": {
      "text/html": [
       "<div>\n",
       "<style scoped>\n",
       "    .dataframe tbody tr th:only-of-type {\n",
       "        vertical-align: middle;\n",
       "    }\n",
       "\n",
       "    .dataframe tbody tr th {\n",
       "        vertical-align: top;\n",
       "    }\n",
       "\n",
       "    .dataframe thead th {\n",
       "        text-align: right;\n",
       "    }\n",
       "</style>\n",
       "<table border=\"1\" class=\"dataframe\">\n",
       "  <thead>\n",
       "    <tr style=\"text-align: right;\">\n",
       "      <th></th>\n",
       "      <th>platform</th>\n",
       "      <th>na_sales</th>\n",
       "      <th>percentage</th>\n",
       "    </tr>\n",
       "  </thead>\n",
       "  <tbody>\n",
       "    <tr>\n",
       "      <th>0</th>\n",
       "      <td>ps4</td>\n",
       "      <td>98.61</td>\n",
       "      <td>0.347145</td>\n",
       "    </tr>\n",
       "    <tr>\n",
       "      <th>1</th>\n",
       "      <td>xone</td>\n",
       "      <td>81.27</td>\n",
       "      <td>0.286102</td>\n",
       "    </tr>\n",
       "    <tr>\n",
       "      <th>2</th>\n",
       "      <td>x360</td>\n",
       "      <td>28.30</td>\n",
       "      <td>0.099627</td>\n",
       "    </tr>\n",
       "    <tr>\n",
       "      <th>3</th>\n",
       "      <td>3ds</td>\n",
       "      <td>22.64</td>\n",
       "      <td>0.079701</td>\n",
       "    </tr>\n",
       "    <tr>\n",
       "      <th>4</th>\n",
       "      <td>ps3</td>\n",
       "      <td>22.05</td>\n",
       "      <td>0.077624</td>\n",
       "    </tr>\n",
       "    <tr>\n",
       "      <th>5</th>\n",
       "      <td>wiiu</td>\n",
       "      <td>19.36</td>\n",
       "      <td>0.068155</td>\n",
       "    </tr>\n",
       "    <tr>\n",
       "      <th>6</th>\n",
       "      <td>pc</td>\n",
       "      <td>7.23</td>\n",
       "      <td>0.025452</td>\n",
       "    </tr>\n",
       "    <tr>\n",
       "      <th>7</th>\n",
       "      <td>psv</td>\n",
       "      <td>2.52</td>\n",
       "      <td>0.008871</td>\n",
       "    </tr>\n",
       "    <tr>\n",
       "      <th>8</th>\n",
       "      <td>wii</td>\n",
       "      <td>2.08</td>\n",
       "      <td>0.007322</td>\n",
       "    </tr>\n",
       "    <tr>\n",
       "      <th>9</th>\n",
       "      <td>psp</td>\n",
       "      <td>0.00</td>\n",
       "      <td>0.000000</td>\n",
       "    </tr>\n",
       "  </tbody>\n",
       "</table>\n",
       "</div>"
      ],
      "text/plain": [
       "  platform  na_sales  percentage\n",
       "0      ps4     98.61    0.347145\n",
       "1     xone     81.27    0.286102\n",
       "2     x360     28.30    0.099627\n",
       "3      3ds     22.64    0.079701\n",
       "4      ps3     22.05    0.077624\n",
       "5     wiiu     19.36    0.068155\n",
       "6       pc      7.23    0.025452\n",
       "7      psv      2.52    0.008871\n",
       "8      wii      2.08    0.007322\n",
       "9      psp      0.00    0.000000"
      ]
     },
     "execution_count": 73,
     "metadata": {},
     "output_type": "execute_result"
    }
   ],
   "source": [
    "na_pivot"
   ]
  },
  {
   "cell_type": "markdown",
   "metadata": {},
   "source": [
    "В столбце percentage представлены доли продаж платформы от всех продаж"
   ]
  },
  {
   "cell_type": "code",
   "execution_count": 74,
   "metadata": {},
   "outputs": [],
   "source": [
    "eu_pivot =data_2014.groupby(by='platform', as_index=False)['eu_sales'].sum().sort_values(by='eu_sales', ascending=False).reset_index(drop=True)\n",
    "eu_pivot['percentage'] = eu_pivot['eu_sales']/eu_pivot['eu_sales'].sum()"
   ]
  },
  {
   "cell_type": "code",
   "execution_count": 75,
   "metadata": {},
   "outputs": [
    {
     "data": {
      "text/html": [
       "<div>\n",
       "<style scoped>\n",
       "    .dataframe tbody tr th:only-of-type {\n",
       "        vertical-align: middle;\n",
       "    }\n",
       "\n",
       "    .dataframe tbody tr th {\n",
       "        vertical-align: top;\n",
       "    }\n",
       "\n",
       "    .dataframe thead th {\n",
       "        text-align: right;\n",
       "    }\n",
       "</style>\n",
       "<table border=\"1\" class=\"dataframe\">\n",
       "  <thead>\n",
       "    <tr style=\"text-align: right;\">\n",
       "      <th></th>\n",
       "      <th>platform</th>\n",
       "      <th>eu_sales</th>\n",
       "      <th>percentage</th>\n",
       "    </tr>\n",
       "  </thead>\n",
       "  <tbody>\n",
       "    <tr>\n",
       "      <th>0</th>\n",
       "      <td>ps4</td>\n",
       "      <td>130.04</td>\n",
       "      <td>0.480420</td>\n",
       "    </tr>\n",
       "    <tr>\n",
       "      <th>1</th>\n",
       "      <td>xone</td>\n",
       "      <td>46.25</td>\n",
       "      <td>0.170866</td>\n",
       "    </tr>\n",
       "    <tr>\n",
       "      <th>2</th>\n",
       "      <td>ps3</td>\n",
       "      <td>25.54</td>\n",
       "      <td>0.094355</td>\n",
       "    </tr>\n",
       "    <tr>\n",
       "      <th>3</th>\n",
       "      <td>pc</td>\n",
       "      <td>17.97</td>\n",
       "      <td>0.066388</td>\n",
       "    </tr>\n",
       "    <tr>\n",
       "      <th>4</th>\n",
       "      <td>3ds</td>\n",
       "      <td>16.12</td>\n",
       "      <td>0.059554</td>\n",
       "    </tr>\n",
       "    <tr>\n",
       "      <th>5</th>\n",
       "      <td>x360</td>\n",
       "      <td>15.49</td>\n",
       "      <td>0.057226</td>\n",
       "    </tr>\n",
       "    <tr>\n",
       "      <th>6</th>\n",
       "      <td>wiiu</td>\n",
       "      <td>13.15</td>\n",
       "      <td>0.048581</td>\n",
       "    </tr>\n",
       "    <tr>\n",
       "      <th>7</th>\n",
       "      <td>psv</td>\n",
       "      <td>3.53</td>\n",
       "      <td>0.013041</td>\n",
       "    </tr>\n",
       "    <tr>\n",
       "      <th>8</th>\n",
       "      <td>wii</td>\n",
       "      <td>2.59</td>\n",
       "      <td>0.009568</td>\n",
       "    </tr>\n",
       "    <tr>\n",
       "      <th>9</th>\n",
       "      <td>psp</td>\n",
       "      <td>0.00</td>\n",
       "      <td>0.000000</td>\n",
       "    </tr>\n",
       "  </tbody>\n",
       "</table>\n",
       "</div>"
      ],
      "text/plain": [
       "  platform  eu_sales  percentage\n",
       "0      ps4    130.04    0.480420\n",
       "1     xone     46.25    0.170866\n",
       "2      ps3     25.54    0.094355\n",
       "3       pc     17.97    0.066388\n",
       "4      3ds     16.12    0.059554\n",
       "5     x360     15.49    0.057226\n",
       "6     wiiu     13.15    0.048581\n",
       "7      psv      3.53    0.013041\n",
       "8      wii      2.59    0.009568\n",
       "9      psp      0.00    0.000000"
      ]
     },
     "execution_count": 75,
     "metadata": {},
     "output_type": "execute_result"
    }
   ],
   "source": [
    "eu_pivot"
   ]
  },
  {
   "cell_type": "markdown",
   "metadata": {},
   "source": [
    "В Европе картина похожая. Самые популярные платформы также ps4 и xone"
   ]
  },
  {
   "cell_type": "code",
   "execution_count": 76,
   "metadata": {},
   "outputs": [],
   "source": [
    "jp_pivot =data_2014.groupby(by='platform', as_index=False)['jp_sales'].sum().sort_values(by='jp_sales', ascending=False).reset_index(drop=True)\n",
    "jp_pivot['percentage'] = jp_pivot['jp_sales']/jp_pivot['jp_sales'].sum()"
   ]
  },
  {
   "cell_type": "code",
   "execution_count": 77,
   "metadata": {},
   "outputs": [
    {
     "data": {
      "text/html": [
       "<div>\n",
       "<style scoped>\n",
       "    .dataframe tbody tr th:only-of-type {\n",
       "        vertical-align: middle;\n",
       "    }\n",
       "\n",
       "    .dataframe tbody tr th {\n",
       "        vertical-align: top;\n",
       "    }\n",
       "\n",
       "    .dataframe thead th {\n",
       "        text-align: right;\n",
       "    }\n",
       "</style>\n",
       "<table border=\"1\" class=\"dataframe\">\n",
       "  <thead>\n",
       "    <tr style=\"text-align: right;\">\n",
       "      <th></th>\n",
       "      <th>platform</th>\n",
       "      <th>jp_sales</th>\n",
       "      <th>percentage</th>\n",
       "    </tr>\n",
       "  </thead>\n",
       "  <tbody>\n",
       "    <tr>\n",
       "      <th>0</th>\n",
       "      <td>3ds</td>\n",
       "      <td>44.24</td>\n",
       "      <td>0.475239</td>\n",
       "    </tr>\n",
       "    <tr>\n",
       "      <th>1</th>\n",
       "      <td>ps4</td>\n",
       "      <td>15.02</td>\n",
       "      <td>0.161349</td>\n",
       "    </tr>\n",
       "    <tr>\n",
       "      <th>2</th>\n",
       "      <td>psv</td>\n",
       "      <td>14.54</td>\n",
       "      <td>0.156193</td>\n",
       "    </tr>\n",
       "    <tr>\n",
       "      <th>3</th>\n",
       "      <td>ps3</td>\n",
       "      <td>11.22</td>\n",
       "      <td>0.120529</td>\n",
       "    </tr>\n",
       "    <tr>\n",
       "      <th>4</th>\n",
       "      <td>wiiu</td>\n",
       "      <td>7.31</td>\n",
       "      <td>0.078526</td>\n",
       "    </tr>\n",
       "    <tr>\n",
       "      <th>5</th>\n",
       "      <td>psp</td>\n",
       "      <td>0.36</td>\n",
       "      <td>0.003867</td>\n",
       "    </tr>\n",
       "    <tr>\n",
       "      <th>6</th>\n",
       "      <td>xone</td>\n",
       "      <td>0.32</td>\n",
       "      <td>0.003438</td>\n",
       "    </tr>\n",
       "    <tr>\n",
       "      <th>7</th>\n",
       "      <td>x360</td>\n",
       "      <td>0.08</td>\n",
       "      <td>0.000859</td>\n",
       "    </tr>\n",
       "    <tr>\n",
       "      <th>8</th>\n",
       "      <td>pc</td>\n",
       "      <td>0.00</td>\n",
       "      <td>0.000000</td>\n",
       "    </tr>\n",
       "    <tr>\n",
       "      <th>9</th>\n",
       "      <td>wii</td>\n",
       "      <td>0.00</td>\n",
       "      <td>0.000000</td>\n",
       "    </tr>\n",
       "  </tbody>\n",
       "</table>\n",
       "</div>"
      ],
      "text/plain": [
       "  platform  jp_sales  percentage\n",
       "0      3ds     44.24    0.475239\n",
       "1      ps4     15.02    0.161349\n",
       "2      psv     14.54    0.156193\n",
       "3      ps3     11.22    0.120529\n",
       "4     wiiu      7.31    0.078526\n",
       "5      psp      0.36    0.003867\n",
       "6     xone      0.32    0.003438\n",
       "7     x360      0.08    0.000859\n",
       "8       pc      0.00    0.000000\n",
       "9      wii      0.00    0.000000"
      ]
     },
     "execution_count": 77,
     "metadata": {},
     "output_type": "execute_result"
    }
   ],
   "source": [
    "jp_pivot"
   ]
  },
  {
   "cell_type": "markdown",
   "metadata": {},
   "source": [
    "В Японии на платформу xone, одного из лидеров по продажам в Европе и Америке, приходится всего 0,3% продаж. В то же время абсолютным лидером является 3DS, занявшая 4-е и 5-е места в Америке и Европе соответственно. Стоит отметить, что и в Японии платформа ps4 н используется часто (16%). Также Японцы используют консоль psv, которая практически не встречается на американском и европейском рынках"
   ]
  },
  {
   "cell_type": "markdown",
   "metadata": {},
   "source": [
    "Картины долей продаж в Европе и Америке в целом схожи, чего нельзя сказать по отношению к Японии. Из этого можно сделать вывод о серьезном отлиии японского рынка игровых платформ от американского и европейского."
   ]
  },
  {
   "cell_type": "markdown",
   "metadata": {},
   "source": [
    "Для каждого региона определим самые популярные жанры"
   ]
  },
  {
   "cell_type": "code",
   "execution_count": 78,
   "metadata": {},
   "outputs": [],
   "source": [
    "na_pivot2 =data_2014.groupby(by='genre', as_index=False)['na_sales'].sum().sort_values(by='na_sales', ascending=False).reset_index(drop=True)\n",
    "na_pivot2['percentage'] = na_pivot2['na_sales']/na_pivot2['na_sales'].sum()"
   ]
  },
  {
   "cell_type": "code",
   "execution_count": 79,
   "metadata": {},
   "outputs": [
    {
     "data": {
      "text/html": [
       "<div>\n",
       "<style scoped>\n",
       "    .dataframe tbody tr th:only-of-type {\n",
       "        vertical-align: middle;\n",
       "    }\n",
       "\n",
       "    .dataframe tbody tr th {\n",
       "        vertical-align: top;\n",
       "    }\n",
       "\n",
       "    .dataframe thead th {\n",
       "        text-align: right;\n",
       "    }\n",
       "</style>\n",
       "<table border=\"1\" class=\"dataframe\">\n",
       "  <thead>\n",
       "    <tr style=\"text-align: right;\">\n",
       "      <th></th>\n",
       "      <th>genre</th>\n",
       "      <th>na_sales</th>\n",
       "      <th>percentage</th>\n",
       "    </tr>\n",
       "  </thead>\n",
       "  <tbody>\n",
       "    <tr>\n",
       "      <th>0</th>\n",
       "      <td>shooter</td>\n",
       "      <td>79.02</td>\n",
       "      <td>0.278181</td>\n",
       "    </tr>\n",
       "    <tr>\n",
       "      <th>1</th>\n",
       "      <td>action</td>\n",
       "      <td>72.53</td>\n",
       "      <td>0.255333</td>\n",
       "    </tr>\n",
       "    <tr>\n",
       "      <th>2</th>\n",
       "      <td>sports</td>\n",
       "      <td>46.13</td>\n",
       "      <td>0.162395</td>\n",
       "    </tr>\n",
       "    <tr>\n",
       "      <th>3</th>\n",
       "      <td>role-playing</td>\n",
       "      <td>33.47</td>\n",
       "      <td>0.117827</td>\n",
       "    </tr>\n",
       "    <tr>\n",
       "      <th>4</th>\n",
       "      <td>misc</td>\n",
       "      <td>15.05</td>\n",
       "      <td>0.052982</td>\n",
       "    </tr>\n",
       "    <tr>\n",
       "      <th>5</th>\n",
       "      <td>fighting</td>\n",
       "      <td>12.43</td>\n",
       "      <td>0.043758</td>\n",
       "    </tr>\n",
       "    <tr>\n",
       "      <th>6</th>\n",
       "      <td>racing</td>\n",
       "      <td>8.74</td>\n",
       "      <td>0.030768</td>\n",
       "    </tr>\n",
       "    <tr>\n",
       "      <th>7</th>\n",
       "      <td>platform</td>\n",
       "      <td>6.79</td>\n",
       "      <td>0.023903</td>\n",
       "    </tr>\n",
       "    <tr>\n",
       "      <th>8</th>\n",
       "      <td>adventure</td>\n",
       "      <td>5.64</td>\n",
       "      <td>0.019855</td>\n",
       "    </tr>\n",
       "    <tr>\n",
       "      <th>9</th>\n",
       "      <td>simulation</td>\n",
       "      <td>2.63</td>\n",
       "      <td>0.009259</td>\n",
       "    </tr>\n",
       "    <tr>\n",
       "      <th>10</th>\n",
       "      <td>strategy</td>\n",
       "      <td>0.98</td>\n",
       "      <td>0.003450</td>\n",
       "    </tr>\n",
       "    <tr>\n",
       "      <th>11</th>\n",
       "      <td>puzzle</td>\n",
       "      <td>0.65</td>\n",
       "      <td>0.002288</td>\n",
       "    </tr>\n",
       "  </tbody>\n",
       "</table>\n",
       "</div>"
      ],
      "text/plain": [
       "           genre  na_sales  percentage\n",
       "0        shooter     79.02    0.278181\n",
       "1         action     72.53    0.255333\n",
       "2         sports     46.13    0.162395\n",
       "3   role-playing     33.47    0.117827\n",
       "4           misc     15.05    0.052982\n",
       "5       fighting     12.43    0.043758\n",
       "6         racing      8.74    0.030768\n",
       "7       platform      6.79    0.023903\n",
       "8      adventure      5.64    0.019855\n",
       "9     simulation      2.63    0.009259\n",
       "10      strategy      0.98    0.003450\n",
       "11        puzzle      0.65    0.002288"
      ]
     },
     "execution_count": 79,
     "metadata": {},
     "output_type": "execute_result"
    }
   ],
   "source": [
    "na_pivot2"
   ]
  },
  {
   "cell_type": "markdown",
   "metadata": {},
   "source": [
    "В Северной Америке наиболее популярны жанры: Action, Sports и Shooter"
   ]
  },
  {
   "cell_type": "code",
   "execution_count": 80,
   "metadata": {},
   "outputs": [
    {
     "data": {
      "text/html": [
       "<div>\n",
       "<style scoped>\n",
       "    .dataframe tbody tr th:only-of-type {\n",
       "        vertical-align: middle;\n",
       "    }\n",
       "\n",
       "    .dataframe tbody tr th {\n",
       "        vertical-align: top;\n",
       "    }\n",
       "\n",
       "    .dataframe thead th {\n",
       "        text-align: right;\n",
       "    }\n",
       "</style>\n",
       "<table border=\"1\" class=\"dataframe\">\n",
       "  <thead>\n",
       "    <tr style=\"text-align: right;\">\n",
       "      <th></th>\n",
       "      <th>mean</th>\n",
       "      <th>count</th>\n",
       "      <th>sum</th>\n",
       "    </tr>\n",
       "    <tr>\n",
       "      <th>genre</th>\n",
       "      <th></th>\n",
       "      <th></th>\n",
       "      <th></th>\n",
       "    </tr>\n",
       "  </thead>\n",
       "  <tbody>\n",
       "    <tr>\n",
       "      <th>shooter</th>\n",
       "      <td>0.617344</td>\n",
       "      <td>128</td>\n",
       "      <td>79.02</td>\n",
       "    </tr>\n",
       "    <tr>\n",
       "      <th>sports</th>\n",
       "      <td>0.286522</td>\n",
       "      <td>161</td>\n",
       "      <td>46.13</td>\n",
       "    </tr>\n",
       "    <tr>\n",
       "      <th>fighting</th>\n",
       "      <td>0.207167</td>\n",
       "      <td>60</td>\n",
       "      <td>12.43</td>\n",
       "    </tr>\n",
       "    <tr>\n",
       "      <th>platform</th>\n",
       "      <td>0.178684</td>\n",
       "      <td>38</td>\n",
       "      <td>6.79</td>\n",
       "    </tr>\n",
       "    <tr>\n",
       "      <th>role-playing</th>\n",
       "      <td>0.151448</td>\n",
       "      <td>221</td>\n",
       "      <td>33.47</td>\n",
       "    </tr>\n",
       "    <tr>\n",
       "      <th>misc</th>\n",
       "      <td>0.133186</td>\n",
       "      <td>113</td>\n",
       "      <td>15.05</td>\n",
       "    </tr>\n",
       "    <tr>\n",
       "      <th>racing</th>\n",
       "      <td>0.126667</td>\n",
       "      <td>69</td>\n",
       "      <td>8.74</td>\n",
       "    </tr>\n",
       "    <tr>\n",
       "      <th>action</th>\n",
       "      <td>0.117173</td>\n",
       "      <td>619</td>\n",
       "      <td>72.53</td>\n",
       "    </tr>\n",
       "    <tr>\n",
       "      <th>simulation</th>\n",
       "      <td>0.059773</td>\n",
       "      <td>44</td>\n",
       "      <td>2.63</td>\n",
       "    </tr>\n",
       "    <tr>\n",
       "      <th>puzzle</th>\n",
       "      <td>0.046429</td>\n",
       "      <td>14</td>\n",
       "      <td>0.65</td>\n",
       "    </tr>\n",
       "    <tr>\n",
       "      <th>adventure</th>\n",
       "      <td>0.030486</td>\n",
       "      <td>185</td>\n",
       "      <td>5.64</td>\n",
       "    </tr>\n",
       "    <tr>\n",
       "      <th>strategy</th>\n",
       "      <td>0.026486</td>\n",
       "      <td>37</td>\n",
       "      <td>0.98</td>\n",
       "    </tr>\n",
       "  </tbody>\n",
       "</table>\n",
       "</div>"
      ],
      "text/plain": [
       "                  mean  count    sum\n",
       "genre                               \n",
       "shooter       0.617344    128  79.02\n",
       "sports        0.286522    161  46.13\n",
       "fighting      0.207167     60  12.43\n",
       "platform      0.178684     38   6.79\n",
       "role-playing  0.151448    221  33.47\n",
       "misc          0.133186    113  15.05\n",
       "racing        0.126667     69   8.74\n",
       "action        0.117173    619  72.53\n",
       "simulation    0.059773     44   2.63\n",
       "puzzle        0.046429     14   0.65\n",
       "adventure     0.030486    185   5.64\n",
       "strategy      0.026486     37   0.98"
      ]
     },
     "execution_count": 80,
     "metadata": {},
     "output_type": "execute_result"
    }
   ],
   "source": [
    "data_2014.groupby(by='genre', as_index=False)['na_sales'].agg(\n",
    "    ['mean','count','sum']).sort_values(by='mean', ascending=False)"
   ]
  },
  {
   "cell_type": "markdown",
   "metadata": {},
   "source": [
    "Для Америки наиболее прибыльны жанры shooter, sports и fighting."
   ]
  },
  {
   "cell_type": "code",
   "execution_count": 81,
   "metadata": {},
   "outputs": [],
   "source": [
    "eu_pivot2 =data_2014.groupby(by='genre', as_index=False)['eu_sales'].sum().sort_values(by='eu_sales', ascending=False).reset_index(drop=True)\n",
    "eu_pivot2['percentage'] = eu_pivot2['eu_sales']/eu_pivot2['eu_sales'].sum()"
   ]
  },
  {
   "cell_type": "code",
   "execution_count": 82,
   "metadata": {},
   "outputs": [
    {
     "data": {
      "text/html": [
       "<div>\n",
       "<style scoped>\n",
       "    .dataframe tbody tr th:only-of-type {\n",
       "        vertical-align: middle;\n",
       "    }\n",
       "\n",
       "    .dataframe tbody tr th {\n",
       "        vertical-align: top;\n",
       "    }\n",
       "\n",
       "    .dataframe thead th {\n",
       "        text-align: right;\n",
       "    }\n",
       "</style>\n",
       "<table border=\"1\" class=\"dataframe\">\n",
       "  <thead>\n",
       "    <tr style=\"text-align: right;\">\n",
       "      <th></th>\n",
       "      <th>genre</th>\n",
       "      <th>eu_sales</th>\n",
       "      <th>percentage</th>\n",
       "    </tr>\n",
       "  </thead>\n",
       "  <tbody>\n",
       "    <tr>\n",
       "      <th>0</th>\n",
       "      <td>action</td>\n",
       "      <td>74.68</td>\n",
       "      <td>0.275898</td>\n",
       "    </tr>\n",
       "    <tr>\n",
       "      <th>1</th>\n",
       "      <td>shooter</td>\n",
       "      <td>65.52</td>\n",
       "      <td>0.242057</td>\n",
       "    </tr>\n",
       "    <tr>\n",
       "      <th>2</th>\n",
       "      <td>sports</td>\n",
       "      <td>45.73</td>\n",
       "      <td>0.168945</td>\n",
       "    </tr>\n",
       "    <tr>\n",
       "      <th>3</th>\n",
       "      <td>role-playing</td>\n",
       "      <td>28.17</td>\n",
       "      <td>0.104071</td>\n",
       "    </tr>\n",
       "    <tr>\n",
       "      <th>4</th>\n",
       "      <td>racing</td>\n",
       "      <td>14.13</td>\n",
       "      <td>0.052202</td>\n",
       "    </tr>\n",
       "    <tr>\n",
       "      <th>5</th>\n",
       "      <td>misc</td>\n",
       "      <td>12.86</td>\n",
       "      <td>0.047510</td>\n",
       "    </tr>\n",
       "    <tr>\n",
       "      <th>6</th>\n",
       "      <td>simulation</td>\n",
       "      <td>7.30</td>\n",
       "      <td>0.026969</td>\n",
       "    </tr>\n",
       "    <tr>\n",
       "      <th>7</th>\n",
       "      <td>platform</td>\n",
       "      <td>6.80</td>\n",
       "      <td>0.025122</td>\n",
       "    </tr>\n",
       "    <tr>\n",
       "      <th>8</th>\n",
       "      <td>fighting</td>\n",
       "      <td>6.69</td>\n",
       "      <td>0.024716</td>\n",
       "    </tr>\n",
       "    <tr>\n",
       "      <th>9</th>\n",
       "      <td>adventure</td>\n",
       "      <td>6.49</td>\n",
       "      <td>0.023977</td>\n",
       "    </tr>\n",
       "    <tr>\n",
       "      <th>10</th>\n",
       "      <td>strategy</td>\n",
       "      <td>1.79</td>\n",
       "      <td>0.006613</td>\n",
       "    </tr>\n",
       "    <tr>\n",
       "      <th>11</th>\n",
       "      <td>puzzle</td>\n",
       "      <td>0.52</td>\n",
       "      <td>0.001921</td>\n",
       "    </tr>\n",
       "  </tbody>\n",
       "</table>\n",
       "</div>"
      ],
      "text/plain": [
       "           genre  eu_sales  percentage\n",
       "0         action     74.68    0.275898\n",
       "1        shooter     65.52    0.242057\n",
       "2         sports     45.73    0.168945\n",
       "3   role-playing     28.17    0.104071\n",
       "4         racing     14.13    0.052202\n",
       "5           misc     12.86    0.047510\n",
       "6     simulation      7.30    0.026969\n",
       "7       platform      6.80    0.025122\n",
       "8       fighting      6.69    0.024716\n",
       "9      adventure      6.49    0.023977\n",
       "10      strategy      1.79    0.006613\n",
       "11        puzzle      0.52    0.001921"
      ]
     },
     "execution_count": 82,
     "metadata": {},
     "output_type": "execute_result"
    }
   ],
   "source": [
    "eu_pivot2"
   ]
  },
  {
   "cell_type": "markdown",
   "metadata": {},
   "source": [
    "В Европе наиболее популярны жанры: Action, Sports и Shooter. Процентные соотношения схожи с американскими"
   ]
  },
  {
   "cell_type": "code",
   "execution_count": 83,
   "metadata": {},
   "outputs": [
    {
     "data": {
      "text/html": [
       "<div>\n",
       "<style scoped>\n",
       "    .dataframe tbody tr th:only-of-type {\n",
       "        vertical-align: middle;\n",
       "    }\n",
       "\n",
       "    .dataframe tbody tr th {\n",
       "        vertical-align: top;\n",
       "    }\n",
       "\n",
       "    .dataframe thead th {\n",
       "        text-align: right;\n",
       "    }\n",
       "</style>\n",
       "<table border=\"1\" class=\"dataframe\">\n",
       "  <thead>\n",
       "    <tr style=\"text-align: right;\">\n",
       "      <th></th>\n",
       "      <th>mean</th>\n",
       "      <th>count</th>\n",
       "      <th>sum</th>\n",
       "    </tr>\n",
       "    <tr>\n",
       "      <th>genre</th>\n",
       "      <th></th>\n",
       "      <th></th>\n",
       "      <th></th>\n",
       "    </tr>\n",
       "  </thead>\n",
       "  <tbody>\n",
       "    <tr>\n",
       "      <th>shooter</th>\n",
       "      <td>0.511875</td>\n",
       "      <td>128</td>\n",
       "      <td>65.52</td>\n",
       "    </tr>\n",
       "    <tr>\n",
       "      <th>sports</th>\n",
       "      <td>0.284037</td>\n",
       "      <td>161</td>\n",
       "      <td>45.73</td>\n",
       "    </tr>\n",
       "    <tr>\n",
       "      <th>racing</th>\n",
       "      <td>0.204783</td>\n",
       "      <td>69</td>\n",
       "      <td>14.13</td>\n",
       "    </tr>\n",
       "    <tr>\n",
       "      <th>platform</th>\n",
       "      <td>0.178947</td>\n",
       "      <td>38</td>\n",
       "      <td>6.80</td>\n",
       "    </tr>\n",
       "    <tr>\n",
       "      <th>simulation</th>\n",
       "      <td>0.165909</td>\n",
       "      <td>44</td>\n",
       "      <td>7.30</td>\n",
       "    </tr>\n",
       "    <tr>\n",
       "      <th>role-playing</th>\n",
       "      <td>0.127466</td>\n",
       "      <td>221</td>\n",
       "      <td>28.17</td>\n",
       "    </tr>\n",
       "    <tr>\n",
       "      <th>action</th>\n",
       "      <td>0.120646</td>\n",
       "      <td>619</td>\n",
       "      <td>74.68</td>\n",
       "    </tr>\n",
       "    <tr>\n",
       "      <th>misc</th>\n",
       "      <td>0.113805</td>\n",
       "      <td>113</td>\n",
       "      <td>12.86</td>\n",
       "    </tr>\n",
       "    <tr>\n",
       "      <th>fighting</th>\n",
       "      <td>0.111500</td>\n",
       "      <td>60</td>\n",
       "      <td>6.69</td>\n",
       "    </tr>\n",
       "    <tr>\n",
       "      <th>strategy</th>\n",
       "      <td>0.048378</td>\n",
       "      <td>37</td>\n",
       "      <td>1.79</td>\n",
       "    </tr>\n",
       "    <tr>\n",
       "      <th>puzzle</th>\n",
       "      <td>0.037143</td>\n",
       "      <td>14</td>\n",
       "      <td>0.52</td>\n",
       "    </tr>\n",
       "    <tr>\n",
       "      <th>adventure</th>\n",
       "      <td>0.035081</td>\n",
       "      <td>185</td>\n",
       "      <td>6.49</td>\n",
       "    </tr>\n",
       "  </tbody>\n",
       "</table>\n",
       "</div>"
      ],
      "text/plain": [
       "                  mean  count    sum\n",
       "genre                               \n",
       "shooter       0.511875    128  65.52\n",
       "sports        0.284037    161  45.73\n",
       "racing        0.204783     69  14.13\n",
       "platform      0.178947     38   6.80\n",
       "simulation    0.165909     44   7.30\n",
       "role-playing  0.127466    221  28.17\n",
       "action        0.120646    619  74.68\n",
       "misc          0.113805    113  12.86\n",
       "fighting      0.111500     60   6.69\n",
       "strategy      0.048378     37   1.79\n",
       "puzzle        0.037143     14   0.52\n",
       "adventure     0.035081    185   6.49"
      ]
     },
     "execution_count": 83,
     "metadata": {},
     "output_type": "execute_result"
    }
   ],
   "source": [
    "data_2014.groupby(by='genre', as_index=False)['eu_sales'].agg(\n",
    "    ['mean','count','sum']).sort_values(by='mean', ascending=False)"
   ]
  },
  {
   "cell_type": "markdown",
   "metadata": {},
   "source": [
    "Для Европы наиболее прибыльны жанры shooter, sports и racing."
   ]
  },
  {
   "cell_type": "code",
   "execution_count": 84,
   "metadata": {},
   "outputs": [],
   "source": [
    "jp_pivot2 =data_2014.groupby(by='genre', as_index=False)['jp_sales'].sum().sort_values(by='jp_sales', ascending=False).reset_index(drop=True)\n",
    "jp_pivot2['percentage'] = jp_pivot2['jp_sales']/jp_pivot2['jp_sales'].sum()"
   ]
  },
  {
   "cell_type": "code",
   "execution_count": 85,
   "metadata": {},
   "outputs": [
    {
     "data": {
      "text/html": [
       "<div>\n",
       "<style scoped>\n",
       "    .dataframe tbody tr th:only-of-type {\n",
       "        vertical-align: middle;\n",
       "    }\n",
       "\n",
       "    .dataframe tbody tr th {\n",
       "        vertical-align: top;\n",
       "    }\n",
       "\n",
       "    .dataframe thead th {\n",
       "        text-align: right;\n",
       "    }\n",
       "</style>\n",
       "<table border=\"1\" class=\"dataframe\">\n",
       "  <thead>\n",
       "    <tr style=\"text-align: right;\">\n",
       "      <th></th>\n",
       "      <th>genre</th>\n",
       "      <th>jp_sales</th>\n",
       "      <th>percentage</th>\n",
       "    </tr>\n",
       "  </thead>\n",
       "  <tbody>\n",
       "    <tr>\n",
       "      <th>0</th>\n",
       "      <td>role-playing</td>\n",
       "      <td>31.16</td>\n",
       "      <td>0.334730</td>\n",
       "    </tr>\n",
       "    <tr>\n",
       "      <th>1</th>\n",
       "      <td>action</td>\n",
       "      <td>29.58</td>\n",
       "      <td>0.317757</td>\n",
       "    </tr>\n",
       "    <tr>\n",
       "      <th>2</th>\n",
       "      <td>fighting</td>\n",
       "      <td>6.37</td>\n",
       "      <td>0.068428</td>\n",
       "    </tr>\n",
       "    <tr>\n",
       "      <th>3</th>\n",
       "      <td>misc</td>\n",
       "      <td>5.61</td>\n",
       "      <td>0.060264</td>\n",
       "    </tr>\n",
       "    <tr>\n",
       "      <th>4</th>\n",
       "      <td>shooter</td>\n",
       "      <td>4.87</td>\n",
       "      <td>0.052315</td>\n",
       "    </tr>\n",
       "    <tr>\n",
       "      <th>5</th>\n",
       "      <td>adventure</td>\n",
       "      <td>3.60</td>\n",
       "      <td>0.038672</td>\n",
       "    </tr>\n",
       "    <tr>\n",
       "      <th>6</th>\n",
       "      <td>sports</td>\n",
       "      <td>3.26</td>\n",
       "      <td>0.035020</td>\n",
       "    </tr>\n",
       "    <tr>\n",
       "      <th>7</th>\n",
       "      <td>platform</td>\n",
       "      <td>2.69</td>\n",
       "      <td>0.028897</td>\n",
       "    </tr>\n",
       "    <tr>\n",
       "      <th>8</th>\n",
       "      <td>simulation</td>\n",
       "      <td>2.31</td>\n",
       "      <td>0.024815</td>\n",
       "    </tr>\n",
       "    <tr>\n",
       "      <th>9</th>\n",
       "      <td>racing</td>\n",
       "      <td>1.76</td>\n",
       "      <td>0.018906</td>\n",
       "    </tr>\n",
       "    <tr>\n",
       "      <th>10</th>\n",
       "      <td>strategy</td>\n",
       "      <td>0.95</td>\n",
       "      <td>0.010205</td>\n",
       "    </tr>\n",
       "    <tr>\n",
       "      <th>11</th>\n",
       "      <td>puzzle</td>\n",
       "      <td>0.93</td>\n",
       "      <td>0.009990</td>\n",
       "    </tr>\n",
       "  </tbody>\n",
       "</table>\n",
       "</div>"
      ],
      "text/plain": [
       "           genre  jp_sales  percentage\n",
       "0   role-playing     31.16    0.334730\n",
       "1         action     29.58    0.317757\n",
       "2       fighting      6.37    0.068428\n",
       "3           misc      5.61    0.060264\n",
       "4        shooter      4.87    0.052315\n",
       "5      adventure      3.60    0.038672\n",
       "6         sports      3.26    0.035020\n",
       "7       platform      2.69    0.028897\n",
       "8     simulation      2.31    0.024815\n",
       "9         racing      1.76    0.018906\n",
       "10      strategy      0.95    0.010205\n",
       "11        puzzle      0.93    0.009990"
      ]
     },
     "execution_count": 85,
     "metadata": {},
     "output_type": "execute_result"
    }
   ],
   "source": [
    "jp_pivot2"
   ]
  },
  {
   "cell_type": "markdown",
   "metadata": {},
   "source": [
    "В Японии все снова по-другому. На первое место вышел role-playing. Action опустился на второе место. Третье место занял fighting. Sports опустился на 6-е. Shooter упал до 5-й позиции, его популярность в Японии крошечная по сравнению я Америкой и Европой."
   ]
  },
  {
   "cell_type": "code",
   "execution_count": 86,
   "metadata": {},
   "outputs": [
    {
     "data": {
      "text/html": [
       "<div>\n",
       "<style scoped>\n",
       "    .dataframe tbody tr th:only-of-type {\n",
       "        vertical-align: middle;\n",
       "    }\n",
       "\n",
       "    .dataframe tbody tr th {\n",
       "        vertical-align: top;\n",
       "    }\n",
       "\n",
       "    .dataframe thead th {\n",
       "        text-align: right;\n",
       "    }\n",
       "</style>\n",
       "<table border=\"1\" class=\"dataframe\">\n",
       "  <thead>\n",
       "    <tr style=\"text-align: right;\">\n",
       "      <th></th>\n",
       "      <th>mean</th>\n",
       "      <th>count</th>\n",
       "      <th>sum</th>\n",
       "    </tr>\n",
       "    <tr>\n",
       "      <th>genre</th>\n",
       "      <th></th>\n",
       "      <th></th>\n",
       "      <th></th>\n",
       "    </tr>\n",
       "  </thead>\n",
       "  <tbody>\n",
       "    <tr>\n",
       "      <th>role-playing</th>\n",
       "      <td>0.140995</td>\n",
       "      <td>221</td>\n",
       "      <td>31.16</td>\n",
       "    </tr>\n",
       "    <tr>\n",
       "      <th>fighting</th>\n",
       "      <td>0.106167</td>\n",
       "      <td>60</td>\n",
       "      <td>6.37</td>\n",
       "    </tr>\n",
       "    <tr>\n",
       "      <th>platform</th>\n",
       "      <td>0.070789</td>\n",
       "      <td>38</td>\n",
       "      <td>2.69</td>\n",
       "    </tr>\n",
       "    <tr>\n",
       "      <th>puzzle</th>\n",
       "      <td>0.066429</td>\n",
       "      <td>14</td>\n",
       "      <td>0.93</td>\n",
       "    </tr>\n",
       "    <tr>\n",
       "      <th>simulation</th>\n",
       "      <td>0.052500</td>\n",
       "      <td>44</td>\n",
       "      <td>2.31</td>\n",
       "    </tr>\n",
       "    <tr>\n",
       "      <th>misc</th>\n",
       "      <td>0.049646</td>\n",
       "      <td>113</td>\n",
       "      <td>5.61</td>\n",
       "    </tr>\n",
       "    <tr>\n",
       "      <th>action</th>\n",
       "      <td>0.047787</td>\n",
       "      <td>619</td>\n",
       "      <td>29.58</td>\n",
       "    </tr>\n",
       "    <tr>\n",
       "      <th>shooter</th>\n",
       "      <td>0.038047</td>\n",
       "      <td>128</td>\n",
       "      <td>4.87</td>\n",
       "    </tr>\n",
       "    <tr>\n",
       "      <th>strategy</th>\n",
       "      <td>0.025676</td>\n",
       "      <td>37</td>\n",
       "      <td>0.95</td>\n",
       "    </tr>\n",
       "    <tr>\n",
       "      <th>racing</th>\n",
       "      <td>0.025507</td>\n",
       "      <td>69</td>\n",
       "      <td>1.76</td>\n",
       "    </tr>\n",
       "    <tr>\n",
       "      <th>sports</th>\n",
       "      <td>0.020248</td>\n",
       "      <td>161</td>\n",
       "      <td>3.26</td>\n",
       "    </tr>\n",
       "    <tr>\n",
       "      <th>adventure</th>\n",
       "      <td>0.019459</td>\n",
       "      <td>185</td>\n",
       "      <td>3.60</td>\n",
       "    </tr>\n",
       "  </tbody>\n",
       "</table>\n",
       "</div>"
      ],
      "text/plain": [
       "                  mean  count    sum\n",
       "genre                               \n",
       "role-playing  0.140995    221  31.16\n",
       "fighting      0.106167     60   6.37\n",
       "platform      0.070789     38   2.69\n",
       "puzzle        0.066429     14   0.93\n",
       "simulation    0.052500     44   2.31\n",
       "misc          0.049646    113   5.61\n",
       "action        0.047787    619  29.58\n",
       "shooter       0.038047    128   4.87\n",
       "strategy      0.025676     37   0.95\n",
       "racing        0.025507     69   1.76\n",
       "sports        0.020248    161   3.26\n",
       "adventure     0.019459    185   3.60"
      ]
     },
     "execution_count": 86,
     "metadata": {},
     "output_type": "execute_result"
    }
   ],
   "source": [
    "data_2014.groupby(by='genre', as_index=False)['jp_sales'].agg(\n",
    "    ['mean','count','sum']).sort_values(by='mean', ascending=False)"
   ]
  },
  {
   "cell_type": "markdown",
   "metadata": {},
   "source": [
    "Для Японии наиболее прибыльны жанры playing, fighting и platform"
   ]
  },
  {
   "cell_type": "markdown",
   "metadata": {},
   "source": [
    "Рассмотрим, влияет ли рейтинг ESRB на продажи в отдельном регионе"
   ]
  },
  {
   "cell_type": "code",
   "execution_count": 87,
   "metadata": {},
   "outputs": [
    {
     "data": {
      "text/html": [
       "<div>\n",
       "<style scoped>\n",
       "    .dataframe tbody tr th:only-of-type {\n",
       "        vertical-align: middle;\n",
       "    }\n",
       "\n",
       "    .dataframe tbody tr th {\n",
       "        vertical-align: top;\n",
       "    }\n",
       "\n",
       "    .dataframe thead th {\n",
       "        text-align: right;\n",
       "    }\n",
       "</style>\n",
       "<table border=\"1\" class=\"dataframe\">\n",
       "  <thead>\n",
       "    <tr style=\"text-align: right;\">\n",
       "      <th></th>\n",
       "      <th>name</th>\n",
       "      <th>platform</th>\n",
       "      <th>year_of_release</th>\n",
       "      <th>genre</th>\n",
       "      <th>na_sales</th>\n",
       "      <th>eu_sales</th>\n",
       "      <th>jp_sales</th>\n",
       "      <th>other_sales</th>\n",
       "      <th>critic_score</th>\n",
       "      <th>user_score</th>\n",
       "      <th>rating</th>\n",
       "      <th>total_sales</th>\n",
       "    </tr>\n",
       "  </thead>\n",
       "  <tbody>\n",
       "    <tr>\n",
       "      <th>31</th>\n",
       "      <td>call of duty: black ops 3</td>\n",
       "      <td>ps4</td>\n",
       "      <td>2015.0</td>\n",
       "      <td>shooter</td>\n",
       "      <td>6.03</td>\n",
       "      <td>5.86</td>\n",
       "      <td>0.36</td>\n",
       "      <td>2.38</td>\n",
       "      <td>NaN</td>\n",
       "      <td>NaN</td>\n",
       "      <td>unknown</td>\n",
       "      <td>12.25</td>\n",
       "    </tr>\n",
       "    <tr>\n",
       "      <th>42</th>\n",
       "      <td>grand theft auto v</td>\n",
       "      <td>ps4</td>\n",
       "      <td>2014.0</td>\n",
       "      <td>action</td>\n",
       "      <td>3.96</td>\n",
       "      <td>6.31</td>\n",
       "      <td>0.38</td>\n",
       "      <td>1.97</td>\n",
       "      <td>97.0</td>\n",
       "      <td>8.3</td>\n",
       "      <td>M</td>\n",
       "      <td>10.65</td>\n",
       "    </tr>\n",
       "    <tr>\n",
       "      <th>47</th>\n",
       "      <td>pokemon omega ruby/pokemon alpha sapphire</td>\n",
       "      <td>3ds</td>\n",
       "      <td>2014.0</td>\n",
       "      <td>role-playing</td>\n",
       "      <td>4.35</td>\n",
       "      <td>3.49</td>\n",
       "      <td>3.10</td>\n",
       "      <td>0.74</td>\n",
       "      <td>NaN</td>\n",
       "      <td>NaN</td>\n",
       "      <td>unknown</td>\n",
       "      <td>10.94</td>\n",
       "    </tr>\n",
       "    <tr>\n",
       "      <th>77</th>\n",
       "      <td>fifa 16</td>\n",
       "      <td>ps4</td>\n",
       "      <td>2015.0</td>\n",
       "      <td>sports</td>\n",
       "      <td>1.12</td>\n",
       "      <td>6.12</td>\n",
       "      <td>0.06</td>\n",
       "      <td>1.28</td>\n",
       "      <td>82.0</td>\n",
       "      <td>4.3</td>\n",
       "      <td>E</td>\n",
       "      <td>7.30</td>\n",
       "    </tr>\n",
       "    <tr>\n",
       "      <th>87</th>\n",
       "      <td>star wars battlefront (2015)</td>\n",
       "      <td>ps4</td>\n",
       "      <td>2015.0</td>\n",
       "      <td>shooter</td>\n",
       "      <td>2.99</td>\n",
       "      <td>3.49</td>\n",
       "      <td>0.22</td>\n",
       "      <td>1.28</td>\n",
       "      <td>NaN</td>\n",
       "      <td>NaN</td>\n",
       "      <td>unknown</td>\n",
       "      <td>6.70</td>\n",
       "    </tr>\n",
       "  </tbody>\n",
       "</table>\n",
       "</div>"
      ],
      "text/plain": [
       "                                         name platform  year_of_release  \\\n",
       "31                  call of duty: black ops 3      ps4           2015.0   \n",
       "42                         grand theft auto v      ps4           2014.0   \n",
       "47  pokemon omega ruby/pokemon alpha sapphire      3ds           2014.0   \n",
       "77                                    fifa 16      ps4           2015.0   \n",
       "87               star wars battlefront (2015)      ps4           2015.0   \n",
       "\n",
       "           genre  na_sales  eu_sales  jp_sales  other_sales  critic_score  \\\n",
       "31       shooter      6.03      5.86      0.36         2.38           NaN   \n",
       "42        action      3.96      6.31      0.38         1.97          97.0   \n",
       "47  role-playing      4.35      3.49      3.10         0.74           NaN   \n",
       "77        sports      1.12      6.12      0.06         1.28          82.0   \n",
       "87       shooter      2.99      3.49      0.22         1.28           NaN   \n",
       "\n",
       "    user_score   rating  total_sales  \n",
       "31         NaN  unknown        12.25  \n",
       "42         8.3        M        10.65  \n",
       "47         NaN  unknown        10.94  \n",
       "77         4.3        E         7.30  \n",
       "87         NaN  unknown         6.70  "
      ]
     },
     "execution_count": 87,
     "metadata": {},
     "output_type": "execute_result"
    }
   ],
   "source": [
    "data_2014.head()"
   ]
  },
  {
   "cell_type": "code",
   "execution_count": 88,
   "metadata": {},
   "outputs": [
    {
     "data": {
      "text/html": [
       "<div>\n",
       "<style scoped>\n",
       "    .dataframe tbody tr th:only-of-type {\n",
       "        vertical-align: middle;\n",
       "    }\n",
       "\n",
       "    .dataframe tbody tr th {\n",
       "        vertical-align: top;\n",
       "    }\n",
       "\n",
       "    .dataframe thead th {\n",
       "        text-align: right;\n",
       "    }\n",
       "</style>\n",
       "<table border=\"1\" class=\"dataframe\">\n",
       "  <thead>\n",
       "    <tr style=\"text-align: right;\">\n",
       "      <th></th>\n",
       "      <th>rating</th>\n",
       "      <th>na_sales</th>\n",
       "      <th>eu_sales</th>\n",
       "      <th>jp_sales</th>\n",
       "    </tr>\n",
       "  </thead>\n",
       "  <tbody>\n",
       "    <tr>\n",
       "      <th>0</th>\n",
       "      <td>E</td>\n",
       "      <td>50.74</td>\n",
       "      <td>58.06</td>\n",
       "      <td>8.94</td>\n",
       "    </tr>\n",
       "    <tr>\n",
       "      <th>1</th>\n",
       "      <td>E10+</td>\n",
       "      <td>33.23</td>\n",
       "      <td>26.16</td>\n",
       "      <td>4.46</td>\n",
       "    </tr>\n",
       "    <tr>\n",
       "      <th>2</th>\n",
       "      <td>M</td>\n",
       "      <td>96.42</td>\n",
       "      <td>93.44</td>\n",
       "      <td>8.01</td>\n",
       "    </tr>\n",
       "    <tr>\n",
       "      <th>3</th>\n",
       "      <td>T</td>\n",
       "      <td>38.95</td>\n",
       "      <td>34.07</td>\n",
       "      <td>14.78</td>\n",
       "    </tr>\n",
       "    <tr>\n",
       "      <th>4</th>\n",
       "      <td>unknown</td>\n",
       "      <td>64.72</td>\n",
       "      <td>58.95</td>\n",
       "      <td>56.90</td>\n",
       "    </tr>\n",
       "  </tbody>\n",
       "</table>\n",
       "</div>"
      ],
      "text/plain": [
       "    rating  na_sales  eu_sales  jp_sales\n",
       "0        E     50.74     58.06      8.94\n",
       "1     E10+     33.23     26.16      4.46\n",
       "2        M     96.42     93.44      8.01\n",
       "3        T     38.95     34.07     14.78\n",
       "4  unknown     64.72     58.95     56.90"
      ]
     },
     "execution_count": 88,
     "metadata": {},
     "output_type": "execute_result"
    }
   ],
   "source": [
    "data_2014.groupby(by='rating', as_index=False)[['na_sales', 'eu_sales', 'jp_sales']].sum()"
   ]
  },
  {
   "cell_type": "code",
   "execution_count": 89,
   "metadata": {},
   "outputs": [
    {
     "data": {
      "text/html": [
       "<div>\n",
       "<style scoped>\n",
       "    .dataframe tbody tr th:only-of-type {\n",
       "        vertical-align: middle;\n",
       "    }\n",
       "\n",
       "    .dataframe tbody tr th {\n",
       "        vertical-align: top;\n",
       "    }\n",
       "\n",
       "    .dataframe thead th {\n",
       "        text-align: right;\n",
       "    }\n",
       "</style>\n",
       "<table border=\"1\" class=\"dataframe\">\n",
       "  <thead>\n",
       "    <tr style=\"text-align: right;\">\n",
       "      <th></th>\n",
       "      <th>rating</th>\n",
       "      <th>na_sales</th>\n",
       "      <th>percantage</th>\n",
       "    </tr>\n",
       "  </thead>\n",
       "  <tbody>\n",
       "    <tr>\n",
       "      <th>0</th>\n",
       "      <td>M</td>\n",
       "      <td>96.42</td>\n",
       "      <td>0.339435</td>\n",
       "    </tr>\n",
       "    <tr>\n",
       "      <th>1</th>\n",
       "      <td>unknown</td>\n",
       "      <td>64.72</td>\n",
       "      <td>0.227839</td>\n",
       "    </tr>\n",
       "    <tr>\n",
       "      <th>2</th>\n",
       "      <td>E</td>\n",
       "      <td>50.74</td>\n",
       "      <td>0.178624</td>\n",
       "    </tr>\n",
       "    <tr>\n",
       "      <th>3</th>\n",
       "      <td>T</td>\n",
       "      <td>38.95</td>\n",
       "      <td>0.137119</td>\n",
       "    </tr>\n",
       "    <tr>\n",
       "      <th>4</th>\n",
       "      <td>E10+</td>\n",
       "      <td>33.23</td>\n",
       "      <td>0.116982</td>\n",
       "    </tr>\n",
       "  </tbody>\n",
       "</table>\n",
       "</div>"
      ],
      "text/plain": [
       "    rating  na_sales  percantage\n",
       "0        M     96.42    0.339435\n",
       "1  unknown     64.72    0.227839\n",
       "2        E     50.74    0.178624\n",
       "3        T     38.95    0.137119\n",
       "4     E10+     33.23    0.116982"
      ]
     },
     "execution_count": 89,
     "metadata": {},
     "output_type": "execute_result"
    }
   ],
   "source": [
    "na_rating = data_2014.groupby(by='rating', as_index=False)['na_sales'].sum().sort_values(by='na_sales', ascending=False)\n",
    "na_rating['percantage'] = na_rating['na_sales']/na_rating['na_sales'].sum()\n",
    "na_rating.reset_index(drop=True)"
   ]
  },
  {
   "cell_type": "code",
   "execution_count": 90,
   "metadata": {},
   "outputs": [
    {
     "data": {
      "text/html": [
       "<div>\n",
       "<style scoped>\n",
       "    .dataframe tbody tr th:only-of-type {\n",
       "        vertical-align: middle;\n",
       "    }\n",
       "\n",
       "    .dataframe tbody tr th {\n",
       "        vertical-align: top;\n",
       "    }\n",
       "\n",
       "    .dataframe thead th {\n",
       "        text-align: right;\n",
       "    }\n",
       "</style>\n",
       "<table border=\"1\" class=\"dataframe\">\n",
       "  <thead>\n",
       "    <tr style=\"text-align: right;\">\n",
       "      <th></th>\n",
       "      <th>rating</th>\n",
       "      <th>eu_sales</th>\n",
       "      <th>percantage</th>\n",
       "    </tr>\n",
       "  </thead>\n",
       "  <tbody>\n",
       "    <tr>\n",
       "      <th>0</th>\n",
       "      <td>M</td>\n",
       "      <td>93.44</td>\n",
       "      <td>0.345205</td>\n",
       "    </tr>\n",
       "    <tr>\n",
       "      <th>1</th>\n",
       "      <td>unknown</td>\n",
       "      <td>58.95</td>\n",
       "      <td>0.217785</td>\n",
       "    </tr>\n",
       "    <tr>\n",
       "      <th>2</th>\n",
       "      <td>E</td>\n",
       "      <td>58.06</td>\n",
       "      <td>0.214497</td>\n",
       "    </tr>\n",
       "    <tr>\n",
       "      <th>3</th>\n",
       "      <td>T</td>\n",
       "      <td>34.07</td>\n",
       "      <td>0.125868</td>\n",
       "    </tr>\n",
       "    <tr>\n",
       "      <th>4</th>\n",
       "      <td>E10+</td>\n",
       "      <td>26.16</td>\n",
       "      <td>0.096645</td>\n",
       "    </tr>\n",
       "  </tbody>\n",
       "</table>\n",
       "</div>"
      ],
      "text/plain": [
       "    rating  eu_sales  percantage\n",
       "0        M     93.44    0.345205\n",
       "1  unknown     58.95    0.217785\n",
       "2        E     58.06    0.214497\n",
       "3        T     34.07    0.125868\n",
       "4     E10+     26.16    0.096645"
      ]
     },
     "execution_count": 90,
     "metadata": {},
     "output_type": "execute_result"
    }
   ],
   "source": [
    "eu_rating = data_2014.groupby(by='rating', as_index=False)['eu_sales'].sum().sort_values(by='eu_sales', ascending=False)\n",
    "eu_rating['percantage'] = eu_rating['eu_sales']/eu_rating['eu_sales'].sum()\n",
    "eu_rating.reset_index(drop=True)"
   ]
  },
  {
   "cell_type": "code",
   "execution_count": 91,
   "metadata": {},
   "outputs": [
    {
     "data": {
      "text/html": [
       "<div>\n",
       "<style scoped>\n",
       "    .dataframe tbody tr th:only-of-type {\n",
       "        vertical-align: middle;\n",
       "    }\n",
       "\n",
       "    .dataframe tbody tr th {\n",
       "        vertical-align: top;\n",
       "    }\n",
       "\n",
       "    .dataframe thead th {\n",
       "        text-align: right;\n",
       "    }\n",
       "</style>\n",
       "<table border=\"1\" class=\"dataframe\">\n",
       "  <thead>\n",
       "    <tr style=\"text-align: right;\">\n",
       "      <th></th>\n",
       "      <th>rating</th>\n",
       "      <th>jp_sales</th>\n",
       "      <th>percantage</th>\n",
       "    </tr>\n",
       "  </thead>\n",
       "  <tbody>\n",
       "    <tr>\n",
       "      <th>4</th>\n",
       "      <td>unknown</td>\n",
       "      <td>56.90</td>\n",
       "      <td>0.611236</td>\n",
       "    </tr>\n",
       "    <tr>\n",
       "      <th>3</th>\n",
       "      <td>T</td>\n",
       "      <td>14.78</td>\n",
       "      <td>0.158771</td>\n",
       "    </tr>\n",
       "    <tr>\n",
       "      <th>0</th>\n",
       "      <td>E</td>\n",
       "      <td>8.94</td>\n",
       "      <td>0.096036</td>\n",
       "    </tr>\n",
       "    <tr>\n",
       "      <th>2</th>\n",
       "      <td>M</td>\n",
       "      <td>8.01</td>\n",
       "      <td>0.086046</td>\n",
       "    </tr>\n",
       "    <tr>\n",
       "      <th>1</th>\n",
       "      <td>E10+</td>\n",
       "      <td>4.46</td>\n",
       "      <td>0.047911</td>\n",
       "    </tr>\n",
       "  </tbody>\n",
       "</table>\n",
       "</div>"
      ],
      "text/plain": [
       "    rating  jp_sales  percantage\n",
       "4  unknown     56.90    0.611236\n",
       "3        T     14.78    0.158771\n",
       "0        E      8.94    0.096036\n",
       "2        M      8.01    0.086046\n",
       "1     E10+      4.46    0.047911"
      ]
     },
     "execution_count": 91,
     "metadata": {},
     "output_type": "execute_result"
    }
   ],
   "source": [
    "jp_rating = data_2014.groupby(by='rating', as_index=False)['jp_sales'].sum().sort_values(by='jp_sales', ascending=False)\n",
    "jp_rating['percantage'] = jp_rating['jp_sales']/jp_rating['jp_sales'].sum()\n",
    "jp_rating"
   ]
  },
  {
   "cell_type": "markdown",
   "metadata": {},
   "source": [
    "Видим, что серьезно отличаются масштабы продаж для данных регионов, поэтому для сравнения влияния рейтинга на продажи будем использовать доли.\n",
    "Для Америки и Европы опять наблюдаем сходство основных показателей. Первое место забрал M, второе - игры с неопределенным рейтингом, третье - E, четвертое - T, пятое - E10+. Доли для этих регионов также примерно одинаковые. "
   ]
  },
  {
   "cell_type": "markdown",
   "metadata": {},
   "source": [
    "В Японии больше половины всех игр не имеют рейтинга. Да и определенные рейтинги поменялись местами: T - 15%, E - 10%, M - 8%, E10+ - 5%. Большое количество игр без рейтинга в Японии, возможно, объясняется тем, что японские игры не всегда проходят оценку в этой американской компании."
   ]
  },
  {
   "cell_type": "markdown",
   "metadata": {},
   "source": [
    "***Проверка гипотез***"
   ]
  },
  {
   "cell_type": "code",
   "execution_count": 92,
   "metadata": {},
   "outputs": [
    {
     "data": {
      "text/plain": [
       "1689"
      ]
     },
     "execution_count": 92,
     "metadata": {},
     "output_type": "execute_result"
    }
   ],
   "source": [
    "data_2014.shape[0]"
   ]
  },
  {
   "cell_type": "markdown",
   "metadata": {},
   "source": [
    "Данных не слишком много, поэтому можем посчитать средние поьзовательские ретинги по генеральной совокупности"
   ]
  },
  {
   "cell_type": "code",
   "execution_count": 93,
   "metadata": {},
   "outputs": [
    {
     "data": {
      "text/html": [
       "<div>\n",
       "<style scoped>\n",
       "    .dataframe tbody tr th:only-of-type {\n",
       "        vertical-align: middle;\n",
       "    }\n",
       "\n",
       "    .dataframe tbody tr th {\n",
       "        vertical-align: top;\n",
       "    }\n",
       "\n",
       "    .dataframe thead th {\n",
       "        text-align: right;\n",
       "    }\n",
       "</style>\n",
       "<table border=\"1\" class=\"dataframe\">\n",
       "  <thead>\n",
       "    <tr style=\"text-align: right;\">\n",
       "      <th></th>\n",
       "      <th>name</th>\n",
       "      <th>platform</th>\n",
       "      <th>year_of_release</th>\n",
       "      <th>genre</th>\n",
       "      <th>na_sales</th>\n",
       "      <th>eu_sales</th>\n",
       "      <th>jp_sales</th>\n",
       "      <th>other_sales</th>\n",
       "      <th>critic_score</th>\n",
       "      <th>user_score</th>\n",
       "      <th>rating</th>\n",
       "      <th>total_sales</th>\n",
       "    </tr>\n",
       "  </thead>\n",
       "  <tbody>\n",
       "    <tr>\n",
       "      <th>31</th>\n",
       "      <td>call of duty: black ops 3</td>\n",
       "      <td>ps4</td>\n",
       "      <td>2015.0</td>\n",
       "      <td>shooter</td>\n",
       "      <td>6.03</td>\n",
       "      <td>5.86</td>\n",
       "      <td>0.36</td>\n",
       "      <td>2.38</td>\n",
       "      <td>NaN</td>\n",
       "      <td>NaN</td>\n",
       "      <td>unknown</td>\n",
       "      <td>12.25</td>\n",
       "    </tr>\n",
       "    <tr>\n",
       "      <th>42</th>\n",
       "      <td>grand theft auto v</td>\n",
       "      <td>ps4</td>\n",
       "      <td>2014.0</td>\n",
       "      <td>action</td>\n",
       "      <td>3.96</td>\n",
       "      <td>6.31</td>\n",
       "      <td>0.38</td>\n",
       "      <td>1.97</td>\n",
       "      <td>97.0</td>\n",
       "      <td>8.3</td>\n",
       "      <td>M</td>\n",
       "      <td>10.65</td>\n",
       "    </tr>\n",
       "    <tr>\n",
       "      <th>47</th>\n",
       "      <td>pokemon omega ruby/pokemon alpha sapphire</td>\n",
       "      <td>3ds</td>\n",
       "      <td>2014.0</td>\n",
       "      <td>role-playing</td>\n",
       "      <td>4.35</td>\n",
       "      <td>3.49</td>\n",
       "      <td>3.10</td>\n",
       "      <td>0.74</td>\n",
       "      <td>NaN</td>\n",
       "      <td>NaN</td>\n",
       "      <td>unknown</td>\n",
       "      <td>10.94</td>\n",
       "    </tr>\n",
       "    <tr>\n",
       "      <th>77</th>\n",
       "      <td>fifa 16</td>\n",
       "      <td>ps4</td>\n",
       "      <td>2015.0</td>\n",
       "      <td>sports</td>\n",
       "      <td>1.12</td>\n",
       "      <td>6.12</td>\n",
       "      <td>0.06</td>\n",
       "      <td>1.28</td>\n",
       "      <td>82.0</td>\n",
       "      <td>4.3</td>\n",
       "      <td>E</td>\n",
       "      <td>7.30</td>\n",
       "    </tr>\n",
       "    <tr>\n",
       "      <th>87</th>\n",
       "      <td>star wars battlefront (2015)</td>\n",
       "      <td>ps4</td>\n",
       "      <td>2015.0</td>\n",
       "      <td>shooter</td>\n",
       "      <td>2.99</td>\n",
       "      <td>3.49</td>\n",
       "      <td>0.22</td>\n",
       "      <td>1.28</td>\n",
       "      <td>NaN</td>\n",
       "      <td>NaN</td>\n",
       "      <td>unknown</td>\n",
       "      <td>6.70</td>\n",
       "    </tr>\n",
       "  </tbody>\n",
       "</table>\n",
       "</div>"
      ],
      "text/plain": [
       "                                         name platform  year_of_release  \\\n",
       "31                  call of duty: black ops 3      ps4           2015.0   \n",
       "42                         grand theft auto v      ps4           2014.0   \n",
       "47  pokemon omega ruby/pokemon alpha sapphire      3ds           2014.0   \n",
       "77                                    fifa 16      ps4           2015.0   \n",
       "87               star wars battlefront (2015)      ps4           2015.0   \n",
       "\n",
       "           genre  na_sales  eu_sales  jp_sales  other_sales  critic_score  \\\n",
       "31       shooter      6.03      5.86      0.36         2.38           NaN   \n",
       "42        action      3.96      6.31      0.38         1.97          97.0   \n",
       "47  role-playing      4.35      3.49      3.10         0.74           NaN   \n",
       "77        sports      1.12      6.12      0.06         1.28          82.0   \n",
       "87       shooter      2.99      3.49      0.22         1.28           NaN   \n",
       "\n",
       "    user_score   rating  total_sales  \n",
       "31         NaN  unknown        12.25  \n",
       "42         8.3        M        10.65  \n",
       "47         NaN  unknown        10.94  \n",
       "77         4.3        E         7.30  \n",
       "87         NaN  unknown         6.70  "
      ]
     },
     "execution_count": 93,
     "metadata": {},
     "output_type": "execute_result"
    }
   ],
   "source": [
    "data_2014.head()"
   ]
  },
  {
   "cell_type": "markdown",
   "metadata": {},
   "source": [
    "Проверим гипотезу о равенстве средних пользовательских рейтингов платформ XOne и PC"
   ]
  },
  {
   "cell_type": "code",
   "execution_count": 94,
   "metadata": {},
   "outputs": [],
   "source": [
    "xone = data_2014[(data_2014['platform'] == 'xone') & (data_2014['user_score'] >= 0)]['user_score']"
   ]
  },
  {
   "cell_type": "code",
   "execution_count": 95,
   "metadata": {},
   "outputs": [],
   "source": [
    "pc = data_2014[(data_2014['platform'] == 'pc') & (data_2014['user_score'] >= 0)]['user_score']"
   ]
  },
  {
   "cell_type": "markdown",
   "metadata": {},
   "source": [
    "Нулевая гипотеза: средние пользовательские рейтинги платформ Xbox One и PC одинаковые. Альтернативная гипотеза: средние пользовательские рейтинги платформ Xbox One и PC разные. "
   ]
  },
  {
   "cell_type": "code",
   "execution_count": 96,
   "metadata": {},
   "outputs": [],
   "source": [
    "results1 = st.ttest_ind(xone, pc)"
   ]
  },
  {
   "cell_type": "code",
   "execution_count": 97,
   "metadata": {},
   "outputs": [
    {
     "name": "stdout",
     "output_type": "stream",
     "text": [
      "p-значение: 0.10450507919348415\n",
      "Не получилось отвергнуть нулевую гипотезу\n"
     ]
    }
   ],
   "source": [
    "alpha = .05 #уровень значимости\n",
    "print('p-значение:', results1.pvalue)\n",
    "\n",
    "if results1.pvalue < alpha:\n",
    "    print(\"Отвергаем нулевую гипотезу\")\n",
    "else:\n",
    "    print(\"Не получилось отвергнуть нулевую гипотезу\") "
   ]
  },
  {
   "cell_type": "markdown",
   "metadata": {},
   "source": [
    "pvalue получилось 0,1, что выше выбранного уровня значимости, поэтому гипотезу о равенстве средних пользовательских рейтингов платформ XOne и PC отвергнуть нельзя"
   ]
  },
  {
   "cell_type": "markdown",
   "metadata": {},
   "source": [
    "Проверим гипотезу, что средние пользовательские рейтинги жанров Action и Sports разные"
   ]
  },
  {
   "cell_type": "code",
   "execution_count": 98,
   "metadata": {},
   "outputs": [],
   "source": [
    "action = data_2014[(data_2014['genre'] == 'action') & (data_2014['user_score'] >= 0)]['user_score']"
   ]
  },
  {
   "cell_type": "code",
   "execution_count": 99,
   "metadata": {},
   "outputs": [],
   "source": [
    "sports = data_2014[(data_2014['genre'] == 'sports') & (data_2014['user_score'] >= 0)]['user_score']"
   ]
  },
  {
   "cell_type": "code",
   "execution_count": 100,
   "metadata": {},
   "outputs": [],
   "source": [
    "results2 = st.ttest_ind(action, sports)"
   ]
  },
  {
   "cell_type": "markdown",
   "metadata": {},
   "source": [
    "Нулевая гипотеза: средние пользовательские рейтинги жанров Action и Sports одинаковые. Альтернативная гипотеза: средние пользовательские рейтинги жанров Action и Sports разные."
   ]
  },
  {
   "cell_type": "code",
   "execution_count": 101,
   "metadata": {},
   "outputs": [
    {
     "name": "stdout",
     "output_type": "stream",
     "text": [
      "p-значение: 2.8711147985105864e-19\n",
      "Отвергаем нулевую гипотезу\n"
     ]
    }
   ],
   "source": [
    "alpha = .05 #уровень значимости\n",
    "print('p-значение:', results2.pvalue)\n",
    "\n",
    "if results2.pvalue < alpha:\n",
    "    print(\"Отвергаем нулевую гипотезу\")\n",
    "else:\n",
    "    print(\"Не получилось отвергнуть нулевую гипотезу\") "
   ]
  },
  {
   "cell_type": "markdown",
   "metadata": {},
   "source": [
    "Значение pvalue ниже выбранного уровня значимости, поэтому можем отвергнуть гипотезу, что средние пользовательские рейтинги жанров Action и Sports одинаковые."
   ]
  },
  {
   "cell_type": "markdown",
   "metadata": {},
   "source": [
    "\n",
    "<b>Общий вывод</b> \n",
    "    \n",
    "Нам были доступны исторические данные о продажах игр, оценках пользователей и экспертов, жанрах и платформах. С помощью этих данных были найдены определяющие успешность игры закономерности. \n",
    "    \n",
    "Рынок игр быстро меняется, поэтому при аналализе использовались данные только за последние 3 года.\n",
    "    \n",
    "Следует отметить, что для Японии данные отличаются. Ввиду ограниченности ресурсов компании сконцентрируемся на Европе и Америке.\n",
    "\n",
    "К потенциально прибыльным платформам можем отнести PS4 и XOne. Эти консоли останутся востребованы в 2017 году. \n",
    "    \n",
    "К потенциально прибыльным жанрам относятся  Shooter и Sports.\n",
    "    \n",
    "Прямой зависимости между отзывами критиков и пользователей и продажами нет, можно игнорировать этот параметр.\n",
    "    \n",
    "Среди игр с известным рейтингом ESRB по продажам лидируют игры с рейтингами M и E. Также следует отметить, что примерно пятая часть продаж в Европе и Америке прходится на игры без определенного жанра ESRB.\n",
    "    \n",
    "\n",
    "    \n",
    "Можно руководствоваться этими данными при составлении рекламной компании на 2017 год для европейского и американского рынков.\n",
    "    \n",
    "\n",
    "\n",
    "\n",
    "    \n",
    "\n",
    "    \n",
    "    "
   ]
  }
 ],
 "metadata": {
  "ExecuteTimeLog": [
   {
    "duration": 404,
    "start_time": "2022-12-04T13:04:35.688Z"
   },
   {
    "duration": 52,
    "start_time": "2022-12-04T13:04:36.094Z"
   },
   {
    "duration": 16,
    "start_time": "2022-12-04T13:04:36.148Z"
   },
   {
    "duration": 25,
    "start_time": "2022-12-04T13:04:36.166Z"
   },
   {
    "duration": 4,
    "start_time": "2022-12-04T13:04:36.193Z"
   },
   {
    "duration": 22,
    "start_time": "2022-12-04T13:04:36.199Z"
   },
   {
    "duration": 8,
    "start_time": "2022-12-04T13:04:36.223Z"
   },
   {
    "duration": 7,
    "start_time": "2022-12-04T13:04:36.233Z"
   },
   {
    "duration": 9,
    "start_time": "2022-12-04T13:04:36.242Z"
   },
   {
    "duration": 25,
    "start_time": "2022-12-04T13:04:36.254Z"
   },
   {
    "duration": 16,
    "start_time": "2022-12-04T13:04:36.280Z"
   },
   {
    "duration": 7,
    "start_time": "2022-12-04T13:04:36.298Z"
   },
   {
    "duration": 17,
    "start_time": "2022-12-04T13:04:36.307Z"
   },
   {
    "duration": 14,
    "start_time": "2022-12-04T13:04:36.325Z"
   },
   {
    "duration": 47,
    "start_time": "2022-12-04T13:04:36.341Z"
   },
   {
    "duration": 380,
    "start_time": "2022-12-04T13:04:36.390Z"
   },
   {
    "duration": 142,
    "start_time": "2022-12-04T13:04:36.772Z"
   },
   {
    "duration": 181,
    "start_time": "2022-12-04T13:04:36.916Z"
   },
   {
    "duration": 148,
    "start_time": "2022-12-04T13:04:37.099Z"
   },
   {
    "duration": 186,
    "start_time": "2022-12-04T13:04:37.249Z"
   },
   {
    "duration": 185,
    "start_time": "2022-12-04T13:04:37.437Z"
   },
   {
    "duration": 6,
    "start_time": "2022-12-04T13:04:37.623Z"
   },
   {
    "duration": 22,
    "start_time": "2022-12-04T13:04:37.631Z"
   },
   {
    "duration": 2203,
    "start_time": "2022-12-04T13:04:37.654Z"
   },
   {
    "duration": 306,
    "start_time": "2022-12-04T13:04:39.859Z"
   },
   {
    "duration": 242,
    "start_time": "2022-12-04T13:04:40.166Z"
   },
   {
    "duration": 16,
    "start_time": "2022-12-04T13:04:40.410Z"
   },
   {
    "duration": 239,
    "start_time": "2022-12-04T13:04:40.431Z"
   },
   {
    "duration": 12,
    "start_time": "2022-12-04T13:04:40.671Z"
   },
   {
    "duration": 10,
    "start_time": "2022-12-04T13:04:40.684Z"
   },
   {
    "duration": 13,
    "start_time": "2022-12-04T13:04:40.696Z"
   },
   {
    "duration": 11,
    "start_time": "2022-12-04T13:04:40.710Z"
   },
   {
    "duration": 8,
    "start_time": "2022-12-04T13:04:40.722Z"
   },
   {
    "duration": 9,
    "start_time": "2022-12-04T13:04:40.732Z"
   },
   {
    "duration": 4,
    "start_time": "2022-12-04T13:04:40.743Z"
   },
   {
    "duration": 13,
    "start_time": "2022-12-04T13:04:40.778Z"
   },
   {
    "duration": 14,
    "start_time": "2022-12-04T13:04:40.792Z"
   },
   {
    "duration": 8,
    "start_time": "2022-12-04T13:04:40.807Z"
   },
   {
    "duration": 9,
    "start_time": "2022-12-04T13:04:40.816Z"
   },
   {
    "duration": 8,
    "start_time": "2022-12-04T13:04:40.827Z"
   },
   {
    "duration": 10,
    "start_time": "2022-12-04T13:04:40.837Z"
   },
   {
    "duration": 34,
    "start_time": "2022-12-04T13:04:40.848Z"
   },
   {
    "duration": 8,
    "start_time": "2022-12-04T13:04:40.884Z"
   },
   {
    "duration": 11,
    "start_time": "2022-12-04T13:04:40.894Z"
   },
   {
    "duration": 11,
    "start_time": "2022-12-04T13:04:40.907Z"
   },
   {
    "duration": 11,
    "start_time": "2022-12-04T13:04:40.920Z"
   },
   {
    "duration": 19,
    "start_time": "2022-12-04T13:04:40.933Z"
   },
   {
    "duration": 28,
    "start_time": "2022-12-04T13:04:40.954Z"
   },
   {
    "duration": 9,
    "start_time": "2022-12-04T13:04:40.983Z"
   },
   {
    "duration": 13,
    "start_time": "2022-12-04T13:04:40.994Z"
   },
   {
    "duration": 12,
    "start_time": "2022-12-04T13:04:41.009Z"
   },
   {
    "duration": 28,
    "start_time": "2022-12-04T13:04:41.023Z"
   },
   {
    "duration": 36,
    "start_time": "2022-12-04T13:04:41.053Z"
   },
   {
    "duration": 24,
    "start_time": "2022-12-04T13:04:41.090Z"
   },
   {
    "duration": 16,
    "start_time": "2022-12-04T13:04:41.116Z"
   },
   {
    "duration": 17,
    "start_time": "2022-12-04T13:04:41.133Z"
   },
   {
    "duration": 4,
    "start_time": "2022-12-04T13:04:41.152Z"
   },
   {
    "duration": 36,
    "start_time": "2022-12-04T13:04:41.157Z"
   },
   {
    "duration": 419,
    "start_time": "2022-12-04T13:04:41.195Z"
   },
   {
    "duration": 5,
    "start_time": "2022-12-04T13:04:41.615Z"
   },
   {
    "duration": 10,
    "start_time": "2022-12-04T13:04:41.621Z"
   },
   {
    "duration": 6,
    "start_time": "2022-12-04T13:04:41.632Z"
   },
   {
    "duration": 6,
    "start_time": "2022-12-04T13:04:41.640Z"
   },
   {
    "duration": 30,
    "start_time": "2022-12-04T13:04:41.648Z"
   },
   {
    "duration": 5,
    "start_time": "2022-12-04T13:04:41.680Z"
   },
   {
    "duration": 10,
    "start_time": "2022-12-04T13:04:41.687Z"
   },
   {
    "duration": 6,
    "start_time": "2022-12-04T13:04:41.698Z"
   },
   {
    "duration": 393,
    "start_time": "2022-12-04T13:05:55.995Z"
   },
   {
    "duration": 51,
    "start_time": "2022-12-04T13:05:56.390Z"
   },
   {
    "duration": 14,
    "start_time": "2022-12-04T13:05:56.443Z"
   },
   {
    "duration": 20,
    "start_time": "2022-12-04T13:05:56.459Z"
   },
   {
    "duration": 3,
    "start_time": "2022-12-04T13:05:56.481Z"
   },
   {
    "duration": 15,
    "start_time": "2022-12-04T13:05:56.485Z"
   },
   {
    "duration": 7,
    "start_time": "2022-12-04T13:05:56.502Z"
   },
   {
    "duration": 8,
    "start_time": "2022-12-04T13:05:56.511Z"
   },
   {
    "duration": 7,
    "start_time": "2022-12-04T13:05:56.521Z"
   },
   {
    "duration": 6,
    "start_time": "2022-12-04T13:05:56.530Z"
   },
   {
    "duration": 15,
    "start_time": "2022-12-04T13:05:56.538Z"
   },
   {
    "duration": 28,
    "start_time": "2022-12-04T13:05:56.555Z"
   },
   {
    "duration": 16,
    "start_time": "2022-12-04T13:05:56.585Z"
   },
   {
    "duration": 13,
    "start_time": "2022-12-04T13:05:56.604Z"
   },
   {
    "duration": 15,
    "start_time": "2022-12-04T13:05:56.618Z"
   },
   {
    "duration": 382,
    "start_time": "2022-12-04T13:05:56.634Z"
   },
   {
    "duration": 158,
    "start_time": "2022-12-04T13:05:57.017Z"
   },
   {
    "duration": 132,
    "start_time": "2022-12-04T13:05:57.177Z"
   },
   {
    "duration": 135,
    "start_time": "2022-12-04T13:05:57.311Z"
   },
   {
    "duration": 171,
    "start_time": "2022-12-04T13:05:57.448Z"
   },
   {
    "duration": 184,
    "start_time": "2022-12-04T13:05:57.621Z"
   },
   {
    "duration": 7,
    "start_time": "2022-12-04T13:05:57.806Z"
   },
   {
    "duration": 19,
    "start_time": "2022-12-04T13:05:57.814Z"
   },
   {
    "duration": 2351,
    "start_time": "2022-12-04T13:05:57.835Z"
   },
   {
    "duration": 280,
    "start_time": "2022-12-04T13:06:00.188Z"
   },
   {
    "duration": 247,
    "start_time": "2022-12-04T13:06:00.470Z"
   },
   {
    "duration": 14,
    "start_time": "2022-12-04T13:06:00.719Z"
   },
   {
    "duration": 241,
    "start_time": "2022-12-04T13:06:00.735Z"
   },
   {
    "duration": 8,
    "start_time": "2022-12-04T13:06:00.978Z"
   },
   {
    "duration": 15,
    "start_time": "2022-12-04T13:06:00.988Z"
   },
   {
    "duration": 9,
    "start_time": "2022-12-04T13:06:01.004Z"
   },
   {
    "duration": 10,
    "start_time": "2022-12-04T13:06:01.015Z"
   },
   {
    "duration": 17,
    "start_time": "2022-12-04T13:06:01.027Z"
   },
   {
    "duration": 15,
    "start_time": "2022-12-04T13:06:01.045Z"
   },
   {
    "duration": 20,
    "start_time": "2022-12-04T13:06:01.062Z"
   },
   {
    "duration": 23,
    "start_time": "2022-12-04T13:06:01.083Z"
   },
   {
    "duration": 15,
    "start_time": "2022-12-04T13:06:01.108Z"
   },
   {
    "duration": 19,
    "start_time": "2022-12-04T13:06:01.125Z"
   },
   {
    "duration": 11,
    "start_time": "2022-12-04T13:06:01.146Z"
   },
   {
    "duration": 6,
    "start_time": "2022-12-04T13:06:01.159Z"
   },
   {
    "duration": 13,
    "start_time": "2022-12-04T13:06:01.169Z"
   },
   {
    "duration": 19,
    "start_time": "2022-12-04T13:06:01.183Z"
   },
   {
    "duration": 21,
    "start_time": "2022-12-04T13:06:01.203Z"
   },
   {
    "duration": 10,
    "start_time": "2022-12-04T13:06:01.225Z"
   },
   {
    "duration": 17,
    "start_time": "2022-12-04T13:06:01.237Z"
   },
   {
    "duration": 15,
    "start_time": "2022-12-04T13:06:01.256Z"
   },
   {
    "duration": 12,
    "start_time": "2022-12-04T13:06:01.273Z"
   },
   {
    "duration": 12,
    "start_time": "2022-12-04T13:06:01.287Z"
   },
   {
    "duration": 13,
    "start_time": "2022-12-04T13:06:01.301Z"
   },
   {
    "duration": 34,
    "start_time": "2022-12-04T13:06:01.316Z"
   },
   {
    "duration": 15,
    "start_time": "2022-12-04T13:06:01.352Z"
   },
   {
    "duration": 37,
    "start_time": "2022-12-04T13:06:01.368Z"
   },
   {
    "duration": 24,
    "start_time": "2022-12-04T13:06:01.406Z"
   },
   {
    "duration": 14,
    "start_time": "2022-12-04T13:06:01.431Z"
   },
   {
    "duration": 14,
    "start_time": "2022-12-04T13:06:01.446Z"
   },
   {
    "duration": 22,
    "start_time": "2022-12-04T13:06:01.461Z"
   },
   {
    "duration": 17,
    "start_time": "2022-12-04T13:06:01.485Z"
   },
   {
    "duration": 32,
    "start_time": "2022-12-04T13:06:01.504Z"
   },
   {
    "duration": 428,
    "start_time": "2022-12-04T13:06:01.538Z"
   },
   {
    "duration": 5,
    "start_time": "2022-12-04T13:06:01.968Z"
   },
   {
    "duration": 6,
    "start_time": "2022-12-04T13:06:01.977Z"
   },
   {
    "duration": 4,
    "start_time": "2022-12-04T13:06:01.985Z"
   },
   {
    "duration": 6,
    "start_time": "2022-12-04T13:06:01.992Z"
   },
   {
    "duration": 11,
    "start_time": "2022-12-04T13:06:02.000Z"
   },
   {
    "duration": 8,
    "start_time": "2022-12-04T13:06:02.013Z"
   },
   {
    "duration": 11,
    "start_time": "2022-12-04T13:06:02.023Z"
   },
   {
    "duration": 8,
    "start_time": "2022-12-04T13:06:02.036Z"
   },
   {
    "duration": 453,
    "start_time": "2022-12-04T13:06:42.372Z"
   },
   {
    "duration": 51,
    "start_time": "2022-12-04T13:06:42.827Z"
   },
   {
    "duration": 21,
    "start_time": "2022-12-04T13:06:42.879Z"
   },
   {
    "duration": 71,
    "start_time": "2022-12-04T13:06:42.902Z"
   },
   {
    "duration": 42,
    "start_time": "2022-12-04T13:06:42.975Z"
   },
   {
    "duration": 60,
    "start_time": "2022-12-04T13:06:43.019Z"
   },
   {
    "duration": 44,
    "start_time": "2022-12-04T13:06:43.080Z"
   },
   {
    "duration": 48,
    "start_time": "2022-12-04T13:06:43.126Z"
   },
   {
    "duration": 30,
    "start_time": "2022-12-04T13:06:43.176Z"
   },
   {
    "duration": 43,
    "start_time": "2022-12-04T13:06:43.209Z"
   },
   {
    "duration": 44,
    "start_time": "2022-12-04T13:06:43.254Z"
   },
   {
    "duration": 30,
    "start_time": "2022-12-04T13:06:43.300Z"
   },
   {
    "duration": 38,
    "start_time": "2022-12-04T13:06:43.331Z"
   },
   {
    "duration": 31,
    "start_time": "2022-12-04T13:06:43.370Z"
   },
   {
    "duration": 59,
    "start_time": "2022-12-04T13:06:43.403Z"
   },
   {
    "duration": 401,
    "start_time": "2022-12-04T13:06:43.464Z"
   },
   {
    "duration": 196,
    "start_time": "2022-12-04T13:06:43.867Z"
   },
   {
    "duration": 163,
    "start_time": "2022-12-04T13:06:44.065Z"
   },
   {
    "duration": 148,
    "start_time": "2022-12-04T13:06:44.230Z"
   },
   {
    "duration": 192,
    "start_time": "2022-12-04T13:06:44.380Z"
   },
   {
    "duration": 187,
    "start_time": "2022-12-04T13:06:44.573Z"
   },
   {
    "duration": 18,
    "start_time": "2022-12-04T13:06:44.762Z"
   },
   {
    "duration": 64,
    "start_time": "2022-12-04T13:06:44.782Z"
   },
   {
    "duration": 2449,
    "start_time": "2022-12-04T13:06:44.848Z"
   },
   {
    "duration": 311,
    "start_time": "2022-12-04T13:06:47.299Z"
   },
   {
    "duration": 262,
    "start_time": "2022-12-04T13:06:47.611Z"
   },
   {
    "duration": 17,
    "start_time": "2022-12-04T13:06:47.874Z"
   },
   {
    "duration": 260,
    "start_time": "2022-12-04T13:06:47.895Z"
   },
   {
    "duration": 8,
    "start_time": "2022-12-04T13:06:48.157Z"
   },
   {
    "duration": 29,
    "start_time": "2022-12-04T13:06:48.177Z"
   },
   {
    "duration": 21,
    "start_time": "2022-12-04T13:06:48.208Z"
   },
   {
    "duration": 33,
    "start_time": "2022-12-04T13:06:48.230Z"
   },
   {
    "duration": 38,
    "start_time": "2022-12-04T13:06:48.264Z"
   },
   {
    "duration": 26,
    "start_time": "2022-12-04T13:06:48.304Z"
   },
   {
    "duration": 26,
    "start_time": "2022-12-04T13:06:48.332Z"
   },
   {
    "duration": 45,
    "start_time": "2022-12-04T13:06:48.359Z"
   },
   {
    "duration": 32,
    "start_time": "2022-12-04T13:06:48.406Z"
   },
   {
    "duration": 15,
    "start_time": "2022-12-04T13:06:48.440Z"
   },
   {
    "duration": 18,
    "start_time": "2022-12-04T13:06:48.457Z"
   },
   {
    "duration": 28,
    "start_time": "2022-12-04T13:06:48.477Z"
   },
   {
    "duration": 42,
    "start_time": "2022-12-04T13:06:48.506Z"
   },
   {
    "duration": 32,
    "start_time": "2022-12-04T13:06:48.550Z"
   },
   {
    "duration": 51,
    "start_time": "2022-12-04T13:06:48.584Z"
   },
   {
    "duration": 26,
    "start_time": "2022-12-04T13:06:48.636Z"
   },
   {
    "duration": 61,
    "start_time": "2022-12-04T13:06:48.665Z"
   },
   {
    "duration": 41,
    "start_time": "2022-12-04T13:06:48.728Z"
   },
   {
    "duration": 28,
    "start_time": "2022-12-04T13:06:48.771Z"
   },
   {
    "duration": 34,
    "start_time": "2022-12-04T13:06:48.801Z"
   },
   {
    "duration": 18,
    "start_time": "2022-12-04T13:06:48.837Z"
   },
   {
    "duration": 13,
    "start_time": "2022-12-04T13:06:48.857Z"
   },
   {
    "duration": 12,
    "start_time": "2022-12-04T13:06:48.872Z"
   },
   {
    "duration": 19,
    "start_time": "2022-12-04T13:06:48.886Z"
   },
   {
    "duration": 19,
    "start_time": "2022-12-04T13:06:48.907Z"
   },
   {
    "duration": 21,
    "start_time": "2022-12-04T13:06:48.927Z"
   },
   {
    "duration": 19,
    "start_time": "2022-12-04T13:06:48.951Z"
   },
   {
    "duration": 17,
    "start_time": "2022-12-04T13:06:48.979Z"
   },
   {
    "duration": 5,
    "start_time": "2022-12-04T13:06:48.998Z"
   },
   {
    "duration": 24,
    "start_time": "2022-12-04T13:06:49.005Z"
   },
   {
    "duration": 453,
    "start_time": "2022-12-04T13:06:49.031Z"
   },
   {
    "duration": 5,
    "start_time": "2022-12-04T13:06:49.486Z"
   },
   {
    "duration": 12,
    "start_time": "2022-12-04T13:06:49.493Z"
   },
   {
    "duration": 4,
    "start_time": "2022-12-04T13:06:49.507Z"
   },
   {
    "duration": 15,
    "start_time": "2022-12-04T13:06:49.513Z"
   },
   {
    "duration": 12,
    "start_time": "2022-12-04T13:06:49.530Z"
   },
   {
    "duration": 10,
    "start_time": "2022-12-04T13:06:49.544Z"
   },
   {
    "duration": 7,
    "start_time": "2022-12-04T13:06:49.556Z"
   },
   {
    "duration": 11,
    "start_time": "2022-12-04T13:06:49.565Z"
   },
   {
    "duration": 54,
    "start_time": "2022-12-05T16:32:09.496Z"
   },
   {
    "duration": 374,
    "start_time": "2022-12-05T16:32:16.606Z"
   },
   {
    "duration": 201,
    "start_time": "2022-12-05T16:32:16.982Z"
   },
   {
    "duration": 17,
    "start_time": "2022-12-05T16:32:17.184Z"
   },
   {
    "duration": 26,
    "start_time": "2022-12-05T16:32:17.202Z"
   },
   {
    "duration": 4,
    "start_time": "2022-12-05T16:32:17.231Z"
   },
   {
    "duration": 25,
    "start_time": "2022-12-05T16:32:17.237Z"
   },
   {
    "duration": 6,
    "start_time": "2022-12-05T16:32:17.264Z"
   },
   {
    "duration": 5,
    "start_time": "2022-12-05T16:32:21.616Z"
   },
   {
    "duration": 4,
    "start_time": "2022-12-05T16:37:02.416Z"
   },
   {
    "duration": 7,
    "start_time": "2022-12-05T16:37:08.166Z"
   },
   {
    "duration": 5,
    "start_time": "2022-12-05T16:37:13.866Z"
   },
   {
    "duration": 2,
    "start_time": "2022-12-05T16:37:36.753Z"
   },
   {
    "duration": 66,
    "start_time": "2022-12-05T16:37:36.757Z"
   },
   {
    "duration": 15,
    "start_time": "2022-12-05T16:37:36.825Z"
   },
   {
    "duration": 15,
    "start_time": "2022-12-05T16:37:36.841Z"
   },
   {
    "duration": 8,
    "start_time": "2022-12-05T16:37:36.859Z"
   },
   {
    "duration": 19,
    "start_time": "2022-12-05T16:37:36.869Z"
   },
   {
    "duration": 9,
    "start_time": "2022-12-05T16:37:36.890Z"
   },
   {
    "duration": 10,
    "start_time": "2022-12-05T16:37:36.901Z"
   },
   {
    "duration": 6,
    "start_time": "2022-12-05T16:37:36.913Z"
   },
   {
    "duration": 6,
    "start_time": "2022-12-05T16:37:41.016Z"
   },
   {
    "duration": 6,
    "start_time": "2022-12-05T16:37:48.196Z"
   },
   {
    "duration": 9,
    "start_time": "2022-12-05T16:38:28.676Z"
   },
   {
    "duration": 7,
    "start_time": "2022-12-05T16:38:44.566Z"
   },
   {
    "duration": 9,
    "start_time": "2022-12-05T16:39:23.938Z"
   },
   {
    "duration": 8,
    "start_time": "2022-12-05T16:39:31.296Z"
   },
   {
    "duration": 5,
    "start_time": "2022-12-05T16:40:13.116Z"
   },
   {
    "duration": 6,
    "start_time": "2022-12-05T16:40:14.496Z"
   },
   {
    "duration": 5,
    "start_time": "2022-12-05T16:50:13.078Z"
   },
   {
    "duration": 76,
    "start_time": "2022-12-05T16:51:10.991Z"
   },
   {
    "duration": 1173,
    "start_time": "2022-12-05T16:51:23.638Z"
   },
   {
    "duration": 1051,
    "start_time": "2022-12-05T16:51:35.788Z"
   },
   {
    "duration": 15,
    "start_time": "2022-12-05T16:51:43.918Z"
   },
   {
    "duration": 7,
    "start_time": "2022-12-05T16:51:52.169Z"
   },
   {
    "duration": 10,
    "start_time": "2022-12-05T16:54:47.558Z"
   },
   {
    "duration": 5,
    "start_time": "2022-12-05T16:54:56.209Z"
   },
   {
    "duration": 69,
    "start_time": "2022-12-05T16:56:53.341Z"
   },
   {
    "duration": 7,
    "start_time": "2022-12-05T16:58:18.480Z"
   },
   {
    "duration": 5,
    "start_time": "2022-12-05T16:58:30.009Z"
   },
   {
    "duration": 15,
    "start_time": "2022-12-05T16:58:45.029Z"
   },
   {
    "duration": 7,
    "start_time": "2022-12-05T16:58:55.199Z"
   },
   {
    "duration": 47,
    "start_time": "2022-12-05T20:16:36.716Z"
   },
   {
    "duration": 374,
    "start_time": "2022-12-05T20:16:41.825Z"
   },
   {
    "duration": 107,
    "start_time": "2022-12-05T20:16:42.201Z"
   },
   {
    "duration": 17,
    "start_time": "2022-12-05T20:16:42.309Z"
   },
   {
    "duration": 20,
    "start_time": "2022-12-05T20:16:42.329Z"
   },
   {
    "duration": 4,
    "start_time": "2022-12-05T20:16:42.350Z"
   },
   {
    "duration": 17,
    "start_time": "2022-12-05T20:16:42.355Z"
   },
   {
    "duration": 12,
    "start_time": "2022-12-05T20:16:42.374Z"
   },
   {
    "duration": 5,
    "start_time": "2022-12-05T20:16:42.396Z"
   },
   {
    "duration": 6,
    "start_time": "2022-12-05T20:16:42.403Z"
   },
   {
    "duration": 10,
    "start_time": "2022-12-05T20:16:42.412Z"
   },
   {
    "duration": 11,
    "start_time": "2022-12-05T20:16:42.423Z"
   },
   {
    "duration": 6,
    "start_time": "2022-12-05T20:16:42.436Z"
   },
   {
    "duration": 7,
    "start_time": "2022-12-05T20:16:42.443Z"
   },
   {
    "duration": 9,
    "start_time": "2022-12-05T20:16:42.451Z"
   },
   {
    "duration": 8,
    "start_time": "2022-12-05T20:16:42.461Z"
   },
   {
    "duration": 25,
    "start_time": "2022-12-05T20:16:42.471Z"
   },
   {
    "duration": 8,
    "start_time": "2022-12-05T20:16:42.498Z"
   },
   {
    "duration": 7,
    "start_time": "2022-12-05T20:16:42.507Z"
   },
   {
    "duration": 15,
    "start_time": "2022-12-05T20:16:42.515Z"
   },
   {
    "duration": 7,
    "start_time": "2022-12-05T20:16:42.532Z"
   },
   {
    "duration": 10,
    "start_time": "2022-12-05T20:16:42.540Z"
   },
   {
    "duration": 23,
    "start_time": "2022-12-05T20:16:46.796Z"
   },
   {
    "duration": 10,
    "start_time": "2022-12-05T20:17:31.095Z"
   },
   {
    "duration": 9,
    "start_time": "2022-12-05T20:17:57.335Z"
   },
   {
    "duration": 8,
    "start_time": "2022-12-05T20:18:26.199Z"
   },
   {
    "duration": 15,
    "start_time": "2022-12-05T20:20:38.635Z"
   },
   {
    "duration": 18,
    "start_time": "2022-12-05T20:20:59.626Z"
   },
   {
    "duration": 65,
    "start_time": "2022-12-05T20:21:06.036Z"
   },
   {
    "duration": 6,
    "start_time": "2022-12-05T20:22:28.026Z"
   },
   {
    "duration": 2,
    "start_time": "2022-12-05T20:22:53.597Z"
   },
   {
    "duration": 72,
    "start_time": "2022-12-05T20:22:53.601Z"
   },
   {
    "duration": 13,
    "start_time": "2022-12-05T20:22:53.674Z"
   },
   {
    "duration": 17,
    "start_time": "2022-12-05T20:22:53.689Z"
   },
   {
    "duration": 10,
    "start_time": "2022-12-05T20:22:53.708Z"
   },
   {
    "duration": 16,
    "start_time": "2022-12-05T20:22:53.720Z"
   },
   {
    "duration": 10,
    "start_time": "2022-12-05T20:22:53.738Z"
   },
   {
    "duration": 6,
    "start_time": "2022-12-05T20:22:53.749Z"
   },
   {
    "duration": 4,
    "start_time": "2022-12-05T20:22:53.757Z"
   },
   {
    "duration": 10,
    "start_time": "2022-12-05T20:22:53.763Z"
   },
   {
    "duration": 22,
    "start_time": "2022-12-05T20:22:53.775Z"
   },
   {
    "duration": 6,
    "start_time": "2022-12-05T20:22:53.799Z"
   },
   {
    "duration": 10,
    "start_time": "2022-12-05T20:22:53.808Z"
   },
   {
    "duration": 7,
    "start_time": "2022-12-05T20:22:53.819Z"
   },
   {
    "duration": 8,
    "start_time": "2022-12-05T20:22:53.827Z"
   },
   {
    "duration": 7,
    "start_time": "2022-12-05T20:22:53.837Z"
   },
   {
    "duration": 6,
    "start_time": "2022-12-05T20:22:53.845Z"
   },
   {
    "duration": 6,
    "start_time": "2022-12-05T20:22:53.852Z"
   },
   {
    "duration": 14,
    "start_time": "2022-12-05T20:22:53.859Z"
   },
   {
    "duration": 6,
    "start_time": "2022-12-05T20:22:53.897Z"
   },
   {
    "duration": 10,
    "start_time": "2022-12-05T20:22:53.904Z"
   },
   {
    "duration": 18,
    "start_time": "2022-12-05T20:22:53.916Z"
   },
   {
    "duration": 10,
    "start_time": "2022-12-05T20:22:53.936Z"
   },
   {
    "duration": 10,
    "start_time": "2022-12-05T20:22:53.947Z"
   },
   {
    "duration": 9,
    "start_time": "2022-12-05T20:22:53.958Z"
   },
   {
    "duration": 8,
    "start_time": "2022-12-05T20:22:57.077Z"
   },
   {
    "duration": 5,
    "start_time": "2022-12-05T20:22:58.526Z"
   },
   {
    "duration": 21,
    "start_time": "2022-12-05T20:23:01.107Z"
   },
   {
    "duration": 21,
    "start_time": "2022-12-05T20:23:37.196Z"
   },
   {
    "duration": 18,
    "start_time": "2022-12-05T20:31:26.488Z"
   },
   {
    "duration": 4,
    "start_time": "2022-12-05T20:31:43.008Z"
   },
   {
    "duration": 21,
    "start_time": "2022-12-05T20:31:55.518Z"
   },
   {
    "duration": 24,
    "start_time": "2022-12-05T20:32:30.628Z"
   },
   {
    "duration": 26,
    "start_time": "2022-12-05T20:32:44.979Z"
   },
   {
    "duration": 26,
    "start_time": "2022-12-05T20:34:13.788Z"
   },
   {
    "duration": 20,
    "start_time": "2022-12-05T20:34:22.479Z"
   },
   {
    "duration": 10,
    "start_time": "2022-12-05T20:35:43.999Z"
   },
   {
    "duration": 18,
    "start_time": "2022-12-05T20:35:47.599Z"
   },
   {
    "duration": 20,
    "start_time": "2022-12-05T20:36:53.929Z"
   },
   {
    "duration": 16,
    "start_time": "2022-12-05T20:38:15.819Z"
   },
   {
    "duration": 19,
    "start_time": "2022-12-05T20:40:14.962Z"
   },
   {
    "duration": 5,
    "start_time": "2022-12-05T20:45:42.070Z"
   },
   {
    "duration": 19,
    "start_time": "2022-12-05T20:45:45.731Z"
   },
   {
    "duration": 6,
    "start_time": "2022-12-05T20:46:07.330Z"
   },
   {
    "duration": 10,
    "start_time": "2022-12-05T20:46:41.741Z"
   },
   {
    "duration": 26,
    "start_time": "2022-12-05T20:46:48.041Z"
   },
   {
    "duration": 8,
    "start_time": "2022-12-05T20:46:55.370Z"
   },
   {
    "duration": 12,
    "start_time": "2022-12-05T20:47:13.631Z"
   },
   {
    "duration": 11,
    "start_time": "2022-12-05T20:47:22.851Z"
   },
   {
    "duration": 5,
    "start_time": "2022-12-05T20:48:26.936Z"
   },
   {
    "duration": 20,
    "start_time": "2022-12-05T20:48:29.219Z"
   },
   {
    "duration": 3,
    "start_time": "2022-12-05T20:48:45.961Z"
   },
   {
    "duration": 58,
    "start_time": "2022-12-05T20:48:45.966Z"
   },
   {
    "duration": 15,
    "start_time": "2022-12-05T20:48:46.026Z"
   },
   {
    "duration": 16,
    "start_time": "2022-12-05T20:48:46.043Z"
   },
   {
    "duration": 7,
    "start_time": "2022-12-05T20:48:46.062Z"
   },
   {
    "duration": 47,
    "start_time": "2022-12-05T20:48:46.070Z"
   },
   {
    "duration": 10,
    "start_time": "2022-12-05T20:48:46.119Z"
   },
   {
    "duration": 10,
    "start_time": "2022-12-05T20:48:46.131Z"
   },
   {
    "duration": 6,
    "start_time": "2022-12-05T20:48:46.142Z"
   },
   {
    "duration": 8,
    "start_time": "2022-12-05T20:48:46.150Z"
   },
   {
    "duration": 7,
    "start_time": "2022-12-05T20:48:46.161Z"
   },
   {
    "duration": 30,
    "start_time": "2022-12-05T20:48:46.169Z"
   },
   {
    "duration": 6,
    "start_time": "2022-12-05T20:48:46.201Z"
   },
   {
    "duration": 8,
    "start_time": "2022-12-05T20:48:46.210Z"
   },
   {
    "duration": 11,
    "start_time": "2022-12-05T20:48:46.219Z"
   },
   {
    "duration": 22,
    "start_time": "2022-12-05T20:48:46.231Z"
   },
   {
    "duration": 27,
    "start_time": "2022-12-05T20:48:46.256Z"
   },
   {
    "duration": 16,
    "start_time": "2022-12-05T20:48:46.284Z"
   },
   {
    "duration": 30,
    "start_time": "2022-12-05T20:48:46.302Z"
   },
   {
    "duration": 9,
    "start_time": "2022-12-05T20:48:46.333Z"
   },
   {
    "duration": 12,
    "start_time": "2022-12-05T20:48:46.343Z"
   },
   {
    "duration": 22,
    "start_time": "2022-12-05T20:48:46.357Z"
   },
   {
    "duration": 19,
    "start_time": "2022-12-05T20:48:46.381Z"
   },
   {
    "duration": 13,
    "start_time": "2022-12-05T20:48:46.402Z"
   },
   {
    "duration": 13,
    "start_time": "2022-12-05T20:48:46.417Z"
   },
   {
    "duration": 7,
    "start_time": "2022-12-05T20:48:46.431Z"
   },
   {
    "duration": 33,
    "start_time": "2022-12-05T20:48:46.440Z"
   },
   {
    "duration": 33,
    "start_time": "2022-12-05T20:48:46.475Z"
   },
   {
    "duration": 20,
    "start_time": "2022-12-05T20:48:59.571Z"
   },
   {
    "duration": 18,
    "start_time": "2022-12-05T20:49:42.181Z"
   },
   {
    "duration": 6,
    "start_time": "2022-12-05T20:49:51.451Z"
   },
   {
    "duration": 11,
    "start_time": "2022-12-05T20:50:09.891Z"
   },
   {
    "duration": 14,
    "start_time": "2022-12-05T20:50:16.461Z"
   },
   {
    "duration": 7,
    "start_time": "2022-12-05T20:50:36.511Z"
   },
   {
    "duration": 16,
    "start_time": "2022-12-05T20:50:46.991Z"
   },
   {
    "duration": 5,
    "start_time": "2022-12-05T20:52:01.201Z"
   },
   {
    "duration": 11,
    "start_time": "2022-12-05T20:52:02.271Z"
   },
   {
    "duration": 17,
    "start_time": "2022-12-05T20:52:46.641Z"
   },
   {
    "duration": 6,
    "start_time": "2022-12-05T20:55:20.382Z"
   },
   {
    "duration": 17,
    "start_time": "2022-12-05T20:56:02.772Z"
   },
   {
    "duration": 14,
    "start_time": "2022-12-05T20:56:08.262Z"
   },
   {
    "duration": 358,
    "start_time": "2022-12-05T20:56:23.342Z"
   },
   {
    "duration": 52,
    "start_time": "2022-12-05T20:56:23.702Z"
   },
   {
    "duration": 15,
    "start_time": "2022-12-05T20:56:23.755Z"
   },
   {
    "duration": 24,
    "start_time": "2022-12-05T20:56:23.771Z"
   },
   {
    "duration": 3,
    "start_time": "2022-12-05T20:56:23.797Z"
   },
   {
    "duration": 15,
    "start_time": "2022-12-05T20:56:23.802Z"
   },
   {
    "duration": 8,
    "start_time": "2022-12-05T20:56:23.820Z"
   },
   {
    "duration": 7,
    "start_time": "2022-12-05T20:56:23.830Z"
   },
   {
    "duration": 6,
    "start_time": "2022-12-05T20:56:23.839Z"
   },
   {
    "duration": 8,
    "start_time": "2022-12-05T20:56:23.847Z"
   },
   {
    "duration": 9,
    "start_time": "2022-12-05T20:56:23.857Z"
   },
   {
    "duration": 32,
    "start_time": "2022-12-05T20:56:23.868Z"
   },
   {
    "duration": 9,
    "start_time": "2022-12-05T20:56:23.902Z"
   },
   {
    "duration": 10,
    "start_time": "2022-12-05T20:56:23.914Z"
   },
   {
    "duration": 24,
    "start_time": "2022-12-05T20:56:23.926Z"
   },
   {
    "duration": 24,
    "start_time": "2022-12-05T20:56:23.952Z"
   },
   {
    "duration": 7,
    "start_time": "2022-12-05T20:56:23.978Z"
   },
   {
    "duration": 7,
    "start_time": "2022-12-05T20:56:23.987Z"
   },
   {
    "duration": 17,
    "start_time": "2022-12-05T20:56:23.996Z"
   },
   {
    "duration": 7,
    "start_time": "2022-12-05T20:56:24.015Z"
   },
   {
    "duration": 6,
    "start_time": "2022-12-05T20:56:24.024Z"
   },
   {
    "duration": 15,
    "start_time": "2022-12-05T20:56:24.032Z"
   },
   {
    "duration": 13,
    "start_time": "2022-12-05T20:56:24.049Z"
   },
   {
    "duration": 33,
    "start_time": "2022-12-05T20:56:24.064Z"
   },
   {
    "duration": 24,
    "start_time": "2022-12-05T20:56:24.098Z"
   },
   {
    "duration": 14,
    "start_time": "2022-12-05T20:56:24.124Z"
   },
   {
    "duration": 19,
    "start_time": "2022-12-05T20:56:26.531Z"
   },
   {
    "duration": 46,
    "start_time": "2022-12-05T20:59:31.252Z"
   },
   {
    "duration": 52,
    "start_time": "2022-12-06T15:19:58.365Z"
   },
   {
    "duration": 40,
    "start_time": "2022-12-06T15:23:08.294Z"
   },
   {
    "duration": 382,
    "start_time": "2022-12-06T15:23:13.414Z"
   },
   {
    "duration": 99,
    "start_time": "2022-12-06T15:23:13.798Z"
   },
   {
    "duration": 13,
    "start_time": "2022-12-06T15:23:13.899Z"
   },
   {
    "duration": 26,
    "start_time": "2022-12-06T15:23:13.914Z"
   },
   {
    "duration": 4,
    "start_time": "2022-12-06T15:23:13.943Z"
   },
   {
    "duration": 27,
    "start_time": "2022-12-06T15:23:13.948Z"
   },
   {
    "duration": 13,
    "start_time": "2022-12-06T15:23:13.977Z"
   },
   {
    "duration": 5,
    "start_time": "2022-12-06T15:23:13.997Z"
   },
   {
    "duration": 17,
    "start_time": "2022-12-06T15:23:14.004Z"
   },
   {
    "duration": 8,
    "start_time": "2022-12-06T15:23:14.023Z"
   },
   {
    "duration": 10,
    "start_time": "2022-12-06T15:23:14.033Z"
   },
   {
    "duration": 13,
    "start_time": "2022-12-06T15:23:14.044Z"
   },
   {
    "duration": 8,
    "start_time": "2022-12-06T15:23:14.058Z"
   },
   {
    "duration": 5,
    "start_time": "2022-12-06T15:23:14.071Z"
   },
   {
    "duration": 9,
    "start_time": "2022-12-06T15:23:14.078Z"
   },
   {
    "duration": 11,
    "start_time": "2022-12-06T15:23:14.088Z"
   },
   {
    "duration": 10,
    "start_time": "2022-12-06T15:23:14.101Z"
   },
   {
    "duration": 12,
    "start_time": "2022-12-06T15:23:14.113Z"
   },
   {
    "duration": 20,
    "start_time": "2022-12-06T15:23:14.126Z"
   },
   {
    "duration": 8,
    "start_time": "2022-12-06T15:23:14.148Z"
   },
   {
    "duration": 9,
    "start_time": "2022-12-06T15:23:14.158Z"
   },
   {
    "duration": 36,
    "start_time": "2022-12-06T15:23:14.169Z"
   },
   {
    "duration": 14,
    "start_time": "2022-12-06T15:23:14.207Z"
   },
   {
    "duration": 19,
    "start_time": "2022-12-06T15:23:14.223Z"
   },
   {
    "duration": 14,
    "start_time": "2022-12-06T15:23:14.244Z"
   },
   {
    "duration": 8,
    "start_time": "2022-12-06T15:23:14.260Z"
   },
   {
    "duration": 28,
    "start_time": "2022-12-06T15:23:14.270Z"
   },
   {
    "duration": 21,
    "start_time": "2022-12-06T15:23:14.300Z"
   },
   {
    "duration": 15,
    "start_time": "2022-12-06T15:23:14.323Z"
   },
   {
    "duration": 11,
    "start_time": "2022-12-06T15:23:14.340Z"
   },
   {
    "duration": 18,
    "start_time": "2022-12-06T15:23:14.352Z"
   },
   {
    "duration": 25,
    "start_time": "2022-12-06T15:23:14.372Z"
   },
   {
    "duration": 17,
    "start_time": "2022-12-06T15:23:14.399Z"
   },
   {
    "duration": 26,
    "start_time": "2022-12-06T15:23:14.417Z"
   },
   {
    "duration": 24,
    "start_time": "2022-12-06T15:23:14.445Z"
   },
   {
    "duration": 8,
    "start_time": "2022-12-06T15:23:17.254Z"
   },
   {
    "duration": 8,
    "start_time": "2022-12-06T15:23:24.344Z"
   },
   {
    "duration": 9,
    "start_time": "2022-12-06T15:23:28.324Z"
   },
   {
    "duration": 9,
    "start_time": "2022-12-06T15:25:11.594Z"
   },
   {
    "duration": 4,
    "start_time": "2022-12-06T15:25:16.714Z"
   },
   {
    "duration": 30,
    "start_time": "2022-12-06T15:25:35.535Z"
   },
   {
    "duration": 10,
    "start_time": "2022-12-06T15:25:44.164Z"
   },
   {
    "duration": 51,
    "start_time": "2022-12-06T15:26:36.325Z"
   },
   {
    "duration": 16,
    "start_time": "2022-12-06T15:26:39.304Z"
   },
   {
    "duration": 48,
    "start_time": "2022-12-06T15:26:42.534Z"
   },
   {
    "duration": 43,
    "start_time": "2022-12-06T15:26:47.555Z"
   },
   {
    "duration": 48,
    "start_time": "2022-12-06T15:26:50.065Z"
   },
   {
    "duration": 50,
    "start_time": "2022-12-06T15:26:54.385Z"
   },
   {
    "duration": 15,
    "start_time": "2022-12-06T15:27:01.875Z"
   },
   {
    "duration": 16,
    "start_time": "2022-12-06T15:27:04.514Z"
   },
   {
    "duration": 47,
    "start_time": "2022-12-06T15:27:38.774Z"
   },
   {
    "duration": 19,
    "start_time": "2022-12-06T15:27:47.273Z"
   },
   {
    "duration": 18,
    "start_time": "2022-12-06T15:28:08.334Z"
   },
   {
    "duration": 18,
    "start_time": "2022-12-06T15:28:22.405Z"
   },
   {
    "duration": 14,
    "start_time": "2022-12-06T15:28:27.925Z"
   },
   {
    "duration": 20,
    "start_time": "2022-12-06T15:28:36.535Z"
   },
   {
    "duration": 64,
    "start_time": "2022-12-06T15:29:47.944Z"
   },
   {
    "duration": 493,
    "start_time": "2022-12-06T15:30:14.185Z"
   },
   {
    "duration": 33,
    "start_time": "2022-12-06T15:30:47.225Z"
   },
   {
    "duration": 148,
    "start_time": "2022-12-06T15:30:55.545Z"
   },
   {
    "duration": 304,
    "start_time": "2022-12-06T15:31:05.195Z"
   },
   {
    "duration": 347,
    "start_time": "2022-12-06T15:31:18.505Z"
   },
   {
    "duration": 16,
    "start_time": "2022-12-06T15:32:21.475Z"
   },
   {
    "duration": 155,
    "start_time": "2022-12-06T15:32:34.966Z"
   },
   {
    "duration": 117,
    "start_time": "2022-12-06T15:32:56.745Z"
   },
   {
    "duration": 128,
    "start_time": "2022-12-06T15:32:58.215Z"
   },
   {
    "duration": 109,
    "start_time": "2022-12-06T15:33:01.645Z"
   },
   {
    "duration": 127,
    "start_time": "2022-12-06T15:33:05.476Z"
   },
   {
    "duration": 152,
    "start_time": "2022-12-06T15:33:08.985Z"
   },
   {
    "duration": 113,
    "start_time": "2022-12-06T15:33:11.945Z"
   },
   {
    "duration": 17,
    "start_time": "2022-12-06T16:05:49.215Z"
   },
   {
    "duration": 16,
    "start_time": "2022-12-06T16:06:05.309Z"
   },
   {
    "duration": 13,
    "start_time": "2022-12-06T16:06:32.909Z"
   },
   {
    "duration": 12,
    "start_time": "2022-12-06T16:06:41.235Z"
   },
   {
    "duration": 12,
    "start_time": "2022-12-06T16:07:00.715Z"
   },
   {
    "duration": 14,
    "start_time": "2022-12-06T16:07:09.135Z"
   },
   {
    "duration": 60,
    "start_time": "2022-12-06T16:07:59.817Z"
   },
   {
    "duration": 52,
    "start_time": "2022-12-06T16:08:18.255Z"
   },
   {
    "duration": 11,
    "start_time": "2022-12-06T16:08:24.106Z"
   },
   {
    "duration": 11,
    "start_time": "2022-12-06T16:08:39.805Z"
   },
   {
    "duration": 10,
    "start_time": "2022-12-06T16:08:45.225Z"
   },
   {
    "duration": 11,
    "start_time": "2022-12-06T16:09:06.095Z"
   },
   {
    "duration": 3,
    "start_time": "2022-12-06T16:09:10.515Z"
   },
   {
    "duration": 3,
    "start_time": "2022-12-06T16:09:31.706Z"
   },
   {
    "duration": 10,
    "start_time": "2022-12-06T16:11:57.216Z"
   },
   {
    "duration": 4,
    "start_time": "2022-12-06T16:11:58.526Z"
   },
   {
    "duration": 26,
    "start_time": "2022-12-06T16:12:23.695Z"
   },
   {
    "duration": 207,
    "start_time": "2022-12-06T16:12:33.456Z"
   },
   {
    "duration": 289,
    "start_time": "2022-12-06T16:13:49.335Z"
   },
   {
    "duration": 50,
    "start_time": "2022-12-06T16:14:49.066Z"
   },
   {
    "duration": 232,
    "start_time": "2022-12-06T16:14:53.507Z"
   },
   {
    "duration": 24938,
    "start_time": "2022-12-06T16:15:00.346Z"
   },
   {
    "duration": 239,
    "start_time": "2022-12-06T16:16:01.361Z"
   },
   {
    "duration": 2200,
    "start_time": "2022-12-06T16:16:24.961Z"
   },
   {
    "duration": 40,
    "start_time": "2022-12-06T16:17:24.436Z"
   },
   {
    "duration": 957,
    "start_time": "2022-12-06T16:18:27.817Z"
   },
   {
    "duration": 4,
    "start_time": "2022-12-06T16:18:41.796Z"
   },
   {
    "duration": 1034,
    "start_time": "2022-12-06T16:18:43.147Z"
   },
   {
    "duration": 48,
    "start_time": "2022-12-06T16:19:16.657Z"
   },
   {
    "duration": 15,
    "start_time": "2022-12-06T16:19:22.627Z"
   },
   {
    "duration": 1273,
    "start_time": "2022-12-06T16:19:48.647Z"
   },
   {
    "duration": 949,
    "start_time": "2022-12-06T16:19:57.198Z"
   },
   {
    "duration": 1021,
    "start_time": "2022-12-06T16:21:26.258Z"
   },
   {
    "duration": 904,
    "start_time": "2022-12-06T16:21:47.047Z"
   },
   {
    "duration": 862,
    "start_time": "2022-12-06T16:21:52.567Z"
   },
   {
    "duration": 1010,
    "start_time": "2022-12-06T16:22:57.597Z"
   },
   {
    "duration": 981,
    "start_time": "2022-12-06T16:23:05.567Z"
   },
   {
    "duration": 819,
    "start_time": "2022-12-06T16:23:13.317Z"
   },
   {
    "duration": 46,
    "start_time": "2022-12-06T16:28:18.109Z"
   },
   {
    "duration": 7,
    "start_time": "2022-12-06T16:33:18.339Z"
   },
   {
    "duration": 3,
    "start_time": "2022-12-06T16:33:22.279Z"
   },
   {
    "duration": 59,
    "start_time": "2022-12-06T16:33:22.283Z"
   },
   {
    "duration": 15,
    "start_time": "2022-12-06T16:33:22.344Z"
   },
   {
    "duration": 27,
    "start_time": "2022-12-06T16:33:22.364Z"
   },
   {
    "duration": 8,
    "start_time": "2022-12-06T16:33:22.393Z"
   },
   {
    "duration": 14,
    "start_time": "2022-12-06T16:33:22.404Z"
   },
   {
    "duration": 7,
    "start_time": "2022-12-06T16:33:22.419Z"
   },
   {
    "duration": 7,
    "start_time": "2022-12-06T16:33:22.427Z"
   },
   {
    "duration": 4,
    "start_time": "2022-12-06T16:33:22.436Z"
   },
   {
    "duration": 8,
    "start_time": "2022-12-06T16:33:22.441Z"
   },
   {
    "duration": 6,
    "start_time": "2022-12-06T16:33:22.451Z"
   },
   {
    "duration": 6,
    "start_time": "2022-12-06T16:33:22.458Z"
   },
   {
    "duration": 5,
    "start_time": "2022-12-06T16:33:22.497Z"
   },
   {
    "duration": 7,
    "start_time": "2022-12-06T16:33:22.503Z"
   },
   {
    "duration": 9,
    "start_time": "2022-12-06T16:33:22.512Z"
   },
   {
    "duration": 7,
    "start_time": "2022-12-06T16:33:22.522Z"
   },
   {
    "duration": 6,
    "start_time": "2022-12-06T16:33:22.531Z"
   },
   {
    "duration": 6,
    "start_time": "2022-12-06T16:33:22.539Z"
   },
   {
    "duration": 14,
    "start_time": "2022-12-06T16:33:22.546Z"
   },
   {
    "duration": 37,
    "start_time": "2022-12-06T16:33:22.562Z"
   },
   {
    "duration": 5,
    "start_time": "2022-12-06T16:33:22.601Z"
   },
   {
    "duration": 15,
    "start_time": "2022-12-06T16:33:22.608Z"
   },
   {
    "duration": 12,
    "start_time": "2022-12-06T16:33:22.625Z"
   },
   {
    "duration": 9,
    "start_time": "2022-12-06T16:33:22.638Z"
   },
   {
    "duration": 7,
    "start_time": "2022-12-06T16:33:22.649Z"
   },
   {
    "duration": 12,
    "start_time": "2022-12-06T16:33:22.657Z"
   },
   {
    "duration": 34,
    "start_time": "2022-12-06T16:33:22.673Z"
   },
   {
    "duration": 19,
    "start_time": "2022-12-06T16:33:22.708Z"
   },
   {
    "duration": 15,
    "start_time": "2022-12-06T16:33:22.728Z"
   },
   {
    "duration": 7,
    "start_time": "2022-12-06T16:33:22.745Z"
   },
   {
    "duration": 50,
    "start_time": "2022-12-06T16:33:22.753Z"
   },
   {
    "duration": 6,
    "start_time": "2022-12-06T16:33:22.805Z"
   },
   {
    "duration": 21,
    "start_time": "2022-12-06T16:33:22.812Z"
   },
   {
    "duration": 7,
    "start_time": "2022-12-06T16:33:22.835Z"
   },
   {
    "duration": 19,
    "start_time": "2022-12-06T16:33:22.844Z"
   },
   {
    "duration": 34,
    "start_time": "2022-12-06T16:33:22.865Z"
   },
   {
    "duration": 26,
    "start_time": "2022-12-06T16:33:22.901Z"
   },
   {
    "duration": 299,
    "start_time": "2022-12-06T16:33:22.929Z"
   },
   {
    "duration": 14,
    "start_time": "2022-12-06T16:33:23.229Z"
   },
   {
    "duration": 13,
    "start_time": "2022-12-06T16:33:23.245Z"
   },
   {
    "duration": 143,
    "start_time": "2022-12-06T16:33:23.259Z"
   },
   {
    "duration": 249,
    "start_time": "2022-12-06T16:33:23.403Z"
   },
   {
    "duration": 120,
    "start_time": "2022-12-06T16:33:23.653Z"
   },
   {
    "duration": 129,
    "start_time": "2022-12-06T16:33:23.774Z"
   },
   {
    "duration": 173,
    "start_time": "2022-12-06T16:33:23.904Z"
   },
   {
    "duration": 118,
    "start_time": "2022-12-06T16:33:24.079Z"
   },
   {
    "duration": 11,
    "start_time": "2022-12-06T16:33:24.199Z"
   },
   {
    "duration": 5,
    "start_time": "2022-12-06T16:33:24.212Z"
   },
   {
    "duration": 892,
    "start_time": "2022-12-06T16:33:24.219Z"
   },
   {
    "duration": 6,
    "start_time": "2022-12-06T16:33:25.113Z"
   },
   {
    "duration": 12,
    "start_time": "2022-12-06T16:33:27.249Z"
   },
   {
    "duration": 1398,
    "start_time": "2022-12-06T16:33:47.170Z"
   },
   {
    "duration": 201,
    "start_time": "2022-12-06T16:35:43.539Z"
   },
   {
    "duration": 195,
    "start_time": "2022-12-06T16:43:53.670Z"
   },
   {
    "duration": 118,
    "start_time": "2022-12-06T16:44:25.061Z"
   },
   {
    "duration": 117,
    "start_time": "2022-12-06T16:46:09.491Z"
   },
   {
    "duration": 23,
    "start_time": "2022-12-06T16:47:37.043Z"
   },
   {
    "duration": 114,
    "start_time": "2022-12-06T16:47:44.921Z"
   },
   {
    "duration": 2,
    "start_time": "2022-12-06T16:49:02.812Z"
   },
   {
    "duration": 189,
    "start_time": "2022-12-06T16:49:17.712Z"
   },
   {
    "duration": 166,
    "start_time": "2022-12-06T16:50:28.372Z"
   },
   {
    "duration": 244,
    "start_time": "2022-12-06T16:50:44.592Z"
   },
   {
    "duration": 174,
    "start_time": "2022-12-06T16:51:12.191Z"
   },
   {
    "duration": 306,
    "start_time": "2022-12-06T16:53:37.522Z"
   },
   {
    "duration": 247,
    "start_time": "2022-12-06T16:54:00.420Z"
   },
   {
    "duration": 210,
    "start_time": "2022-12-06T16:54:42.392Z"
   },
   {
    "duration": 228,
    "start_time": "2022-12-06T16:55:51.503Z"
   },
   {
    "duration": 119,
    "start_time": "2022-12-06T17:00:55.824Z"
   },
   {
    "duration": 6,
    "start_time": "2022-12-06T17:01:02.282Z"
   },
   {
    "duration": 442,
    "start_time": "2022-12-06T17:01:10.533Z"
   },
   {
    "duration": 10,
    "start_time": "2022-12-06T17:02:02.392Z"
   },
   {
    "duration": 112,
    "start_time": "2022-12-06T17:02:19.542Z"
   },
   {
    "duration": 120,
    "start_time": "2022-12-06T17:02:42.632Z"
   },
   {
    "duration": 209,
    "start_time": "2022-12-06T17:03:58.813Z"
   },
   {
    "duration": 305,
    "start_time": "2022-12-06T17:04:10.853Z"
   },
   {
    "duration": 232,
    "start_time": "2022-12-06T17:04:31.914Z"
   },
   {
    "duration": 217,
    "start_time": "2022-12-06T17:04:37.344Z"
   },
   {
    "duration": 214,
    "start_time": "2022-12-06T17:04:53.174Z"
   },
   {
    "duration": 193,
    "start_time": "2022-12-06T17:05:49.743Z"
   },
   {
    "duration": 215,
    "start_time": "2022-12-06T17:05:57.883Z"
   },
   {
    "duration": 282,
    "start_time": "2022-12-06T17:06:05.563Z"
   },
   {
    "duration": 322,
    "start_time": "2022-12-06T17:06:12.443Z"
   },
   {
    "duration": 274,
    "start_time": "2022-12-06T17:06:23.054Z"
   },
   {
    "duration": 263,
    "start_time": "2022-12-06T17:06:30.573Z"
   },
   {
    "duration": 140,
    "start_time": "2022-12-06T17:09:25.334Z"
   },
   {
    "duration": 189,
    "start_time": "2022-12-06T17:09:48.474Z"
   },
   {
    "duration": 19,
    "start_time": "2022-12-06T17:16:21.774Z"
   },
   {
    "duration": 18,
    "start_time": "2022-12-06T17:17:32.124Z"
   },
   {
    "duration": 19,
    "start_time": "2022-12-06T17:17:44.225Z"
   },
   {
    "duration": 19,
    "start_time": "2022-12-06T17:17:52.315Z"
   },
   {
    "duration": 195,
    "start_time": "2022-12-06T17:23:50.746Z"
   },
   {
    "duration": 168,
    "start_time": "2022-12-06T17:24:00.695Z"
   },
   {
    "duration": 8,
    "start_time": "2022-12-06T17:24:16.966Z"
   },
   {
    "duration": 8,
    "start_time": "2022-12-06T17:24:28.715Z"
   },
   {
    "duration": 4,
    "start_time": "2022-12-06T17:24:35.026Z"
   },
   {
    "duration": 4,
    "start_time": "2022-12-06T17:24:40.486Z"
   },
   {
    "duration": 154,
    "start_time": "2022-12-06T17:24:49.645Z"
   },
   {
    "duration": 8,
    "start_time": "2022-12-06T17:24:52.926Z"
   },
   {
    "duration": 8,
    "start_time": "2022-12-06T17:24:55.026Z"
   },
   {
    "duration": 3,
    "start_time": "2022-12-06T17:24:56.876Z"
   },
   {
    "duration": 4,
    "start_time": "2022-12-06T17:24:58.675Z"
   },
   {
    "duration": 204,
    "start_time": "2022-12-06T17:25:01.826Z"
   },
   {
    "duration": 8,
    "start_time": "2022-12-06T17:25:21.786Z"
   },
   {
    "duration": 159,
    "start_time": "2022-12-06T17:25:24.006Z"
   },
   {
    "duration": 9,
    "start_time": "2022-12-06T17:25:28.356Z"
   },
   {
    "duration": 216,
    "start_time": "2022-12-06T17:25:45.946Z"
   },
   {
    "duration": 212,
    "start_time": "2022-12-06T17:26:11.766Z"
   },
   {
    "duration": 268,
    "start_time": "2022-12-06T17:26:20.006Z"
   },
   {
    "duration": 340,
    "start_time": "2022-12-06T17:26:25.796Z"
   },
   {
    "duration": 6,
    "start_time": "2022-12-06T17:26:34.936Z"
   },
   {
    "duration": 7,
    "start_time": "2022-12-06T18:01:33.772Z"
   },
   {
    "duration": 8,
    "start_time": "2022-12-06T18:01:47.881Z"
   },
   {
    "duration": 7,
    "start_time": "2022-12-06T18:01:50.332Z"
   },
   {
    "duration": 7,
    "start_time": "2022-12-06T18:05:38.552Z"
   },
   {
    "duration": 6,
    "start_time": "2022-12-06T18:07:10.465Z"
   },
   {
    "duration": 7,
    "start_time": "2022-12-06T18:07:23.604Z"
   },
   {
    "duration": 7,
    "start_time": "2022-12-06T18:07:31.036Z"
   },
   {
    "duration": 7,
    "start_time": "2022-12-06T18:07:41.242Z"
   },
   {
    "duration": 7,
    "start_time": "2022-12-06T18:07:48.662Z"
   },
   {
    "duration": 4,
    "start_time": "2022-12-06T18:07:58.273Z"
   },
   {
    "duration": 13,
    "start_time": "2022-12-06T18:08:03.262Z"
   },
   {
    "duration": 12,
    "start_time": "2022-12-06T18:08:48.492Z"
   },
   {
    "duration": 14,
    "start_time": "2022-12-06T18:09:51.833Z"
   },
   {
    "duration": 8,
    "start_time": "2022-12-06T18:10:12.442Z"
   },
   {
    "duration": 9,
    "start_time": "2022-12-06T18:10:22.302Z"
   },
   {
    "duration": 4,
    "start_time": "2022-12-06T18:10:45.043Z"
   },
   {
    "duration": 8,
    "start_time": "2022-12-06T18:10:46.606Z"
   },
   {
    "duration": 7,
    "start_time": "2022-12-06T18:10:58.913Z"
   },
   {
    "duration": 11,
    "start_time": "2022-12-06T18:11:00.840Z"
   },
   {
    "duration": 8,
    "start_time": "2022-12-06T18:11:18.043Z"
   },
   {
    "duration": 8,
    "start_time": "2022-12-06T18:11:19.783Z"
   },
   {
    "duration": 8,
    "start_time": "2022-12-06T18:12:00.953Z"
   },
   {
    "duration": 7,
    "start_time": "2022-12-06T18:12:07.103Z"
   },
   {
    "duration": 9,
    "start_time": "2022-12-06T18:12:08.676Z"
   },
   {
    "duration": 9,
    "start_time": "2022-12-06T18:12:18.073Z"
   },
   {
    "duration": 13,
    "start_time": "2022-12-06T18:12:19.311Z"
   },
   {
    "duration": 10,
    "start_time": "2022-12-06T18:12:30.103Z"
   },
   {
    "duration": 9,
    "start_time": "2022-12-06T18:12:32.902Z"
   },
   {
    "duration": 9,
    "start_time": "2022-12-06T18:16:27.583Z"
   },
   {
    "duration": 9,
    "start_time": "2022-12-06T18:16:29.294Z"
   },
   {
    "duration": 8,
    "start_time": "2022-12-06T18:16:45.073Z"
   },
   {
    "duration": 10,
    "start_time": "2022-12-06T18:16:46.704Z"
   },
   {
    "duration": 8,
    "start_time": "2022-12-06T18:17:04.463Z"
   },
   {
    "duration": 11,
    "start_time": "2022-12-06T18:17:05.803Z"
   },
   {
    "duration": 15,
    "start_time": "2022-12-06T18:19:32.054Z"
   },
   {
    "duration": 7,
    "start_time": "2022-12-06T18:19:36.354Z"
   },
   {
    "duration": 7,
    "start_time": "2022-12-06T18:19:40.814Z"
   },
   {
    "duration": 11,
    "start_time": "2022-12-06T18:19:44.534Z"
   },
   {
    "duration": 12,
    "start_time": "2022-12-06T18:20:24.414Z"
   },
   {
    "duration": 15,
    "start_time": "2022-12-06T18:21:37.924Z"
   },
   {
    "duration": 15,
    "start_time": "2022-12-06T18:22:12.514Z"
   },
   {
    "duration": 13,
    "start_time": "2022-12-06T18:22:15.274Z"
   },
   {
    "duration": 12,
    "start_time": "2022-12-06T18:22:26.404Z"
   },
   {
    "duration": 13,
    "start_time": "2022-12-06T18:22:59.164Z"
   },
   {
    "duration": 12,
    "start_time": "2022-12-06T18:23:03.535Z"
   },
   {
    "duration": 22,
    "start_time": "2022-12-06T18:43:42.048Z"
   },
   {
    "duration": 10,
    "start_time": "2022-12-06T18:44:21.657Z"
   },
   {
    "duration": 4,
    "start_time": "2022-12-06T18:48:48.766Z"
   },
   {
    "duration": 25,
    "start_time": "2022-12-06T18:48:56.428Z"
   },
   {
    "duration": 394,
    "start_time": "2022-12-06T18:49:05.607Z"
   },
   {
    "duration": 2,
    "start_time": "2022-12-06T18:49:48.038Z"
   },
   {
    "duration": 5,
    "start_time": "2022-12-06T18:50:13.498Z"
   },
   {
    "duration": 6,
    "start_time": "2022-12-06T18:50:18.407Z"
   },
   {
    "duration": 5,
    "start_time": "2022-12-06T18:50:27.447Z"
   },
   {
    "duration": 4,
    "start_time": "2022-12-06T18:50:29.028Z"
   },
   {
    "duration": 4,
    "start_time": "2022-12-06T18:50:36.717Z"
   },
   {
    "duration": 3,
    "start_time": "2022-12-06T18:50:41.198Z"
   },
   {
    "duration": 4,
    "start_time": "2022-12-06T18:53:35.468Z"
   },
   {
    "duration": 5,
    "start_time": "2022-12-06T18:53:38.998Z"
   },
   {
    "duration": 5,
    "start_time": "2022-12-06T18:54:16.598Z"
   },
   {
    "duration": 5,
    "start_time": "2022-12-06T18:54:18.517Z"
   },
   {
    "duration": 3,
    "start_time": "2022-12-06T18:54:21.418Z"
   },
   {
    "duration": 4,
    "start_time": "2022-12-06T18:54:24.387Z"
   },
   {
    "duration": 4,
    "start_time": "2022-12-06T18:54:27.008Z"
   },
   {
    "duration": 19,
    "start_time": "2022-12-06T19:31:05.754Z"
   },
   {
    "duration": 17,
    "start_time": "2022-12-06T19:32:52.004Z"
   },
   {
    "duration": 24,
    "start_time": "2022-12-06T19:33:43.925Z"
   },
   {
    "duration": 1132,
    "start_time": "2022-12-06T19:50:07.848Z"
   },
   {
    "duration": 88,
    "start_time": "2022-12-06T19:50:08.982Z"
   },
   {
    "duration": 16,
    "start_time": "2022-12-06T19:50:09.072Z"
   },
   {
    "duration": 18,
    "start_time": "2022-12-06T19:50:09.090Z"
   },
   {
    "duration": 4,
    "start_time": "2022-12-06T19:50:09.111Z"
   },
   {
    "duration": 37,
    "start_time": "2022-12-06T19:50:09.117Z"
   },
   {
    "duration": 16,
    "start_time": "2022-12-06T19:50:09.156Z"
   },
   {
    "duration": 8,
    "start_time": "2022-12-06T19:50:09.199Z"
   },
   {
    "duration": 7,
    "start_time": "2022-12-06T19:50:09.210Z"
   },
   {
    "duration": 13,
    "start_time": "2022-12-06T19:50:09.219Z"
   },
   {
    "duration": 13,
    "start_time": "2022-12-06T19:50:09.234Z"
   },
   {
    "duration": 16,
    "start_time": "2022-12-06T19:50:09.250Z"
   },
   {
    "duration": 30,
    "start_time": "2022-12-06T19:50:09.269Z"
   },
   {
    "duration": 8,
    "start_time": "2022-12-06T19:50:09.303Z"
   },
   {
    "duration": 11,
    "start_time": "2022-12-06T19:50:09.312Z"
   },
   {
    "duration": 8,
    "start_time": "2022-12-06T19:50:09.325Z"
   },
   {
    "duration": 10,
    "start_time": "2022-12-06T19:50:09.335Z"
   },
   {
    "duration": 8,
    "start_time": "2022-12-06T19:50:09.346Z"
   },
   {
    "duration": 53,
    "start_time": "2022-12-06T19:50:09.356Z"
   },
   {
    "duration": 8,
    "start_time": "2022-12-06T19:50:09.411Z"
   },
   {
    "duration": 20,
    "start_time": "2022-12-06T19:50:09.421Z"
   },
   {
    "duration": 25,
    "start_time": "2022-12-06T19:50:09.443Z"
   },
   {
    "duration": 9,
    "start_time": "2022-12-06T19:50:09.498Z"
   },
   {
    "duration": 23,
    "start_time": "2022-12-06T19:50:09.509Z"
   },
   {
    "duration": 19,
    "start_time": "2022-12-06T19:50:09.534Z"
   },
   {
    "duration": 17,
    "start_time": "2022-12-06T19:50:09.556Z"
   },
   {
    "duration": 40,
    "start_time": "2022-12-06T19:50:09.576Z"
   },
   {
    "duration": 31,
    "start_time": "2022-12-06T19:50:09.618Z"
   },
   {
    "duration": 25,
    "start_time": "2022-12-06T19:50:09.651Z"
   },
   {
    "duration": 20,
    "start_time": "2022-12-06T19:50:09.678Z"
   },
   {
    "duration": 25,
    "start_time": "2022-12-06T19:50:09.700Z"
   },
   {
    "duration": 12,
    "start_time": "2022-12-06T19:50:09.726Z"
   },
   {
    "duration": 21,
    "start_time": "2022-12-06T19:50:09.740Z"
   },
   {
    "duration": 11,
    "start_time": "2022-12-06T19:50:09.763Z"
   },
   {
    "duration": 20,
    "start_time": "2022-12-06T19:50:09.801Z"
   },
   {
    "duration": 9,
    "start_time": "2022-12-06T19:50:09.823Z"
   },
   {
    "duration": 22,
    "start_time": "2022-12-06T19:50:09.833Z"
   },
   {
    "duration": 450,
    "start_time": "2022-12-06T19:50:09.857Z"
   },
   {
    "duration": 22,
    "start_time": "2022-12-06T19:50:10.309Z"
   },
   {
    "duration": 46,
    "start_time": "2022-12-06T19:50:10.333Z"
   },
   {
    "duration": 138,
    "start_time": "2022-12-06T19:50:10.385Z"
   },
   {
    "duration": 166,
    "start_time": "2022-12-06T19:50:10.525Z"
   },
   {
    "duration": 163,
    "start_time": "2022-12-06T19:50:10.697Z"
   },
   {
    "duration": 148,
    "start_time": "2022-12-06T19:50:10.862Z"
   },
   {
    "duration": 191,
    "start_time": "2022-12-06T19:50:11.012Z"
   },
   {
    "duration": 145,
    "start_time": "2022-12-06T19:50:11.205Z"
   },
   {
    "duration": 15,
    "start_time": "2022-12-06T19:50:11.352Z"
   },
   {
    "duration": 5,
    "start_time": "2022-12-06T19:50:11.369Z"
   },
   {
    "duration": 1130,
    "start_time": "2022-12-06T19:50:11.399Z"
   },
   {
    "duration": 6,
    "start_time": "2022-12-06T19:50:12.531Z"
   },
   {
    "duration": 20,
    "start_time": "2022-12-06T19:50:12.539Z"
   },
   {
    "duration": 1599,
    "start_time": "2022-12-06T19:50:12.561Z"
   },
   {
    "duration": 313,
    "start_time": "2022-12-06T19:50:14.163Z"
   },
   {
    "duration": 269,
    "start_time": "2022-12-06T19:50:14.478Z"
   },
   {
    "duration": 448,
    "start_time": "2022-12-06T19:50:14.749Z"
   },
   {
    "duration": 21,
    "start_time": "2022-12-06T19:50:15.199Z"
   },
   {
    "duration": 27,
    "start_time": "2022-12-06T19:50:15.222Z"
   },
   {
    "duration": 64,
    "start_time": "2022-12-06T19:50:15.251Z"
   },
   {
    "duration": 21,
    "start_time": "2022-12-06T19:50:15.317Z"
   },
   {
    "duration": 291,
    "start_time": "2022-12-06T19:50:15.340Z"
   },
   {
    "duration": 10,
    "start_time": "2022-12-06T19:50:15.633Z"
   },
   {
    "duration": 16,
    "start_time": "2022-12-06T19:50:15.645Z"
   },
   {
    "duration": 38,
    "start_time": "2022-12-06T19:50:15.664Z"
   },
   {
    "duration": 20,
    "start_time": "2022-12-06T19:50:15.704Z"
   },
   {
    "duration": 13,
    "start_time": "2022-12-06T19:50:15.726Z"
   },
   {
    "duration": 12,
    "start_time": "2022-12-06T19:50:15.741Z"
   },
   {
    "duration": 12,
    "start_time": "2022-12-06T19:50:15.755Z"
   },
   {
    "duration": 40,
    "start_time": "2022-12-06T19:50:15.769Z"
   },
   {
    "duration": 18,
    "start_time": "2022-12-06T19:50:15.811Z"
   },
   {
    "duration": 18,
    "start_time": "2022-12-06T19:50:15.831Z"
   },
   {
    "duration": 16,
    "start_time": "2022-12-06T19:50:15.851Z"
   },
   {
    "duration": 32,
    "start_time": "2022-12-06T19:50:15.869Z"
   },
   {
    "duration": 29,
    "start_time": "2022-12-06T19:50:15.904Z"
   },
   {
    "duration": 16,
    "start_time": "2022-12-06T19:50:15.938Z"
   },
   {
    "duration": 24,
    "start_time": "2022-12-06T19:50:15.957Z"
   },
   {
    "duration": 18,
    "start_time": "2022-12-06T19:50:15.983Z"
   },
   {
    "duration": 9,
    "start_time": "2022-12-06T19:50:16.003Z"
   },
   {
    "duration": 13,
    "start_time": "2022-12-06T19:50:16.013Z"
   },
   {
    "duration": 12,
    "start_time": "2022-12-06T19:50:16.028Z"
   },
   {
    "duration": 58,
    "start_time": "2022-12-06T19:50:16.042Z"
   },
   {
    "duration": 12,
    "start_time": "2022-12-06T19:50:16.103Z"
   },
   {
    "duration": 16,
    "start_time": "2022-12-06T19:50:16.117Z"
   },
   {
    "duration": 26,
    "start_time": "2022-12-06T19:50:16.136Z"
   },
   {
    "duration": 15,
    "start_time": "2022-12-06T19:50:16.197Z"
   },
   {
    "duration": 17,
    "start_time": "2022-12-06T19:50:16.214Z"
   },
   {
    "duration": 24,
    "start_time": "2022-12-06T19:50:16.233Z"
   },
   {
    "duration": 16,
    "start_time": "2022-12-06T19:50:16.261Z"
   },
   {
    "duration": 17,
    "start_time": "2022-12-06T19:50:16.299Z"
   },
   {
    "duration": 19,
    "start_time": "2022-12-06T19:50:16.318Z"
   },
   {
    "duration": 18,
    "start_time": "2022-12-06T19:50:16.338Z"
   },
   {
    "duration": 55,
    "start_time": "2022-12-06T19:50:16.359Z"
   },
   {
    "duration": 7,
    "start_time": "2022-12-06T19:50:16.417Z"
   },
   {
    "duration": 24,
    "start_time": "2022-12-06T19:50:16.427Z"
   },
   {
    "duration": 44,
    "start_time": "2022-12-06T19:50:16.454Z"
   },
   {
    "duration": 7,
    "start_time": "2022-12-06T19:50:16.501Z"
   },
   {
    "duration": 8,
    "start_time": "2022-12-06T19:50:16.510Z"
   },
   {
    "duration": 8,
    "start_time": "2022-12-06T19:50:16.520Z"
   },
   {
    "duration": 19,
    "start_time": "2022-12-06T19:50:16.530Z"
   },
   {
    "duration": 12,
    "start_time": "2022-12-06T19:50:16.551Z"
   },
   {
    "duration": 34,
    "start_time": "2022-12-06T19:50:16.566Z"
   },
   {
    "duration": 8,
    "start_time": "2022-12-06T19:50:16.603Z"
   },
   {
    "duration": 1227,
    "start_time": "2022-12-07T13:54:56.219Z"
   },
   {
    "duration": 58,
    "start_time": "2022-12-07T13:54:57.448Z"
   },
   {
    "duration": 23,
    "start_time": "2022-12-07T13:54:57.508Z"
   },
   {
    "duration": 18,
    "start_time": "2022-12-07T13:54:57.534Z"
   },
   {
    "duration": 4,
    "start_time": "2022-12-07T13:54:57.553Z"
   },
   {
    "duration": 17,
    "start_time": "2022-12-07T13:54:57.558Z"
   },
   {
    "duration": 24,
    "start_time": "2022-12-07T13:54:57.577Z"
   },
   {
    "duration": 16,
    "start_time": "2022-12-07T13:54:57.602Z"
   },
   {
    "duration": 5,
    "start_time": "2022-12-07T13:54:57.619Z"
   },
   {
    "duration": 8,
    "start_time": "2022-12-07T13:54:57.627Z"
   },
   {
    "duration": 8,
    "start_time": "2022-12-07T13:54:57.636Z"
   },
   {
    "duration": 7,
    "start_time": "2022-12-07T13:54:57.645Z"
   },
   {
    "duration": 7,
    "start_time": "2022-12-07T13:54:57.653Z"
   },
   {
    "duration": 43,
    "start_time": "2022-12-07T13:54:57.662Z"
   },
   {
    "duration": 9,
    "start_time": "2022-12-07T13:54:57.712Z"
   },
   {
    "duration": 7,
    "start_time": "2022-12-07T13:54:57.723Z"
   },
   {
    "duration": 7,
    "start_time": "2022-12-07T13:54:57.732Z"
   },
   {
    "duration": 6,
    "start_time": "2022-12-07T13:54:57.740Z"
   },
   {
    "duration": 17,
    "start_time": "2022-12-07T13:54:57.747Z"
   },
   {
    "duration": 9,
    "start_time": "2022-12-07T13:54:57.766Z"
   },
   {
    "duration": 30,
    "start_time": "2022-12-07T13:54:57.776Z"
   },
   {
    "duration": 21,
    "start_time": "2022-12-07T13:54:57.807Z"
   },
   {
    "duration": 17,
    "start_time": "2022-12-07T13:54:57.830Z"
   },
   {
    "duration": 11,
    "start_time": "2022-12-07T13:54:57.850Z"
   },
   {
    "duration": 9,
    "start_time": "2022-12-07T13:54:57.864Z"
   },
   {
    "duration": 27,
    "start_time": "2022-12-07T13:54:57.875Z"
   },
   {
    "duration": 31,
    "start_time": "2022-12-07T13:54:57.910Z"
   },
   {
    "duration": 23,
    "start_time": "2022-12-07T13:54:57.945Z"
   },
   {
    "duration": 17,
    "start_time": "2022-12-07T13:54:57.970Z"
   },
   {
    "duration": 17,
    "start_time": "2022-12-07T13:54:57.998Z"
   },
   {
    "duration": 28,
    "start_time": "2022-12-07T13:54:58.017Z"
   },
   {
    "duration": 8,
    "start_time": "2022-12-07T13:54:58.047Z"
   },
   {
    "duration": 16,
    "start_time": "2022-12-07T13:54:58.057Z"
   },
   {
    "duration": 13,
    "start_time": "2022-12-07T13:54:58.075Z"
   },
   {
    "duration": 21,
    "start_time": "2022-12-07T13:54:58.090Z"
   },
   {
    "duration": 22,
    "start_time": "2022-12-07T13:54:58.112Z"
   },
   {
    "duration": 20,
    "start_time": "2022-12-07T13:54:58.136Z"
   },
   {
    "duration": 362,
    "start_time": "2022-12-07T13:54:58.157Z"
   },
   {
    "duration": 15,
    "start_time": "2022-12-07T13:54:58.521Z"
   },
   {
    "duration": 20,
    "start_time": "2022-12-07T13:54:58.538Z"
   },
   {
    "duration": 165,
    "start_time": "2022-12-07T13:54:58.560Z"
   },
   {
    "duration": 165,
    "start_time": "2022-12-07T13:54:58.727Z"
   },
   {
    "duration": 145,
    "start_time": "2022-12-07T13:54:58.894Z"
   },
   {
    "duration": 154,
    "start_time": "2022-12-07T13:54:59.040Z"
   },
   {
    "duration": 200,
    "start_time": "2022-12-07T13:54:59.195Z"
   },
   {
    "duration": 137,
    "start_time": "2022-12-07T13:54:59.396Z"
   },
   {
    "duration": 12,
    "start_time": "2022-12-07T13:54:59.534Z"
   },
   {
    "duration": 4,
    "start_time": "2022-12-07T13:54:59.547Z"
   },
   {
    "duration": 1101,
    "start_time": "2022-12-07T13:54:59.552Z"
   },
   {
    "duration": 7,
    "start_time": "2022-12-07T13:55:00.655Z"
   },
   {
    "duration": 33,
    "start_time": "2022-12-07T13:55:00.664Z"
   },
   {
    "duration": 1573,
    "start_time": "2022-12-07T13:55:00.705Z"
   },
   {
    "duration": 329,
    "start_time": "2022-12-07T13:55:02.280Z"
   },
   {
    "duration": 242,
    "start_time": "2022-12-07T13:55:02.611Z"
   },
   {
    "duration": 327,
    "start_time": "2022-12-07T13:55:02.855Z"
   },
   {
    "duration": 35,
    "start_time": "2022-12-07T13:55:03.184Z"
   },
   {
    "duration": 22,
    "start_time": "2022-12-07T13:55:03.221Z"
   },
   {
    "duration": 22,
    "start_time": "2022-12-07T13:55:03.245Z"
   },
   {
    "duration": 44,
    "start_time": "2022-12-07T13:55:03.269Z"
   },
   {
    "duration": 244,
    "start_time": "2022-12-07T13:55:03.315Z"
   },
   {
    "duration": 8,
    "start_time": "2022-12-07T13:55:03.560Z"
   },
   {
    "duration": 8,
    "start_time": "2022-12-07T13:55:03.569Z"
   },
   {
    "duration": 35,
    "start_time": "2022-12-07T13:55:03.578Z"
   },
   {
    "duration": 11,
    "start_time": "2022-12-07T13:55:03.615Z"
   },
   {
    "duration": 10,
    "start_time": "2022-12-07T13:55:03.628Z"
   },
   {
    "duration": 10,
    "start_time": "2022-12-07T13:55:03.641Z"
   },
   {
    "duration": 20,
    "start_time": "2022-12-07T13:55:03.653Z"
   },
   {
    "duration": 18,
    "start_time": "2022-12-07T13:55:03.676Z"
   },
   {
    "duration": 27,
    "start_time": "2022-12-07T13:55:03.696Z"
   },
   {
    "duration": 8,
    "start_time": "2022-12-07T13:55:03.725Z"
   },
   {
    "duration": 13,
    "start_time": "2022-12-07T13:55:03.735Z"
   },
   {
    "duration": 7,
    "start_time": "2022-12-07T13:55:03.750Z"
   },
   {
    "duration": 11,
    "start_time": "2022-12-07T13:55:03.758Z"
   },
   {
    "duration": 35,
    "start_time": "2022-12-07T13:55:03.771Z"
   },
   {
    "duration": 16,
    "start_time": "2022-12-07T13:55:03.808Z"
   },
   {
    "duration": 10,
    "start_time": "2022-12-07T13:55:03.826Z"
   },
   {
    "duration": 12,
    "start_time": "2022-12-07T13:55:03.837Z"
   },
   {
    "duration": 11,
    "start_time": "2022-12-07T13:55:03.851Z"
   },
   {
    "duration": 11,
    "start_time": "2022-12-07T13:55:03.863Z"
   },
   {
    "duration": 36,
    "start_time": "2022-12-07T13:55:03.875Z"
   },
   {
    "duration": 15,
    "start_time": "2022-12-07T13:55:03.913Z"
   },
   {
    "duration": 31,
    "start_time": "2022-12-07T13:55:03.936Z"
   },
   {
    "duration": 14,
    "start_time": "2022-12-07T13:55:03.969Z"
   },
   {
    "duration": 15,
    "start_time": "2022-12-07T13:55:03.985Z"
   },
   {
    "duration": 26,
    "start_time": "2022-12-07T13:55:04.001Z"
   },
   {
    "duration": 20,
    "start_time": "2022-12-07T13:55:04.028Z"
   },
   {
    "duration": 14,
    "start_time": "2022-12-07T13:55:04.050Z"
   },
   {
    "duration": 16,
    "start_time": "2022-12-07T13:55:04.066Z"
   },
   {
    "duration": 27,
    "start_time": "2022-12-07T13:55:04.084Z"
   },
   {
    "duration": 22,
    "start_time": "2022-12-07T13:55:04.113Z"
   },
   {
    "duration": 18,
    "start_time": "2022-12-07T13:55:04.137Z"
   },
   {
    "duration": 3,
    "start_time": "2022-12-07T13:55:04.157Z"
   },
   {
    "duration": 21,
    "start_time": "2022-12-07T13:55:04.162Z"
   },
   {
    "duration": 21,
    "start_time": "2022-12-07T13:55:04.197Z"
   },
   {
    "duration": 15,
    "start_time": "2022-12-07T13:55:04.220Z"
   },
   {
    "duration": 6,
    "start_time": "2022-12-07T13:55:04.237Z"
   },
   {
    "duration": 14,
    "start_time": "2022-12-07T13:55:04.245Z"
   },
   {
    "duration": 9,
    "start_time": "2022-12-07T13:55:04.261Z"
   },
   {
    "duration": 17,
    "start_time": "2022-12-07T13:55:04.272Z"
   },
   {
    "duration": 23,
    "start_time": "2022-12-07T13:55:04.290Z"
   },
   {
    "duration": 5,
    "start_time": "2022-12-07T13:55:04.316Z"
   },
   {
    "duration": 1352,
    "start_time": "2022-12-07T15:14:30.847Z"
   },
   {
    "duration": 196,
    "start_time": "2022-12-07T15:14:32.201Z"
   },
   {
    "duration": 17,
    "start_time": "2022-12-07T15:14:32.399Z"
   },
   {
    "duration": 18,
    "start_time": "2022-12-07T15:14:32.417Z"
   },
   {
    "duration": 3,
    "start_time": "2022-12-07T15:14:32.437Z"
   },
   {
    "duration": 24,
    "start_time": "2022-12-07T15:14:32.442Z"
   },
   {
    "duration": 8,
    "start_time": "2022-12-07T15:14:32.468Z"
   },
   {
    "duration": 7,
    "start_time": "2022-12-07T15:14:32.478Z"
   },
   {
    "duration": 5,
    "start_time": "2022-12-07T15:14:32.487Z"
   },
   {
    "duration": 10,
    "start_time": "2022-12-07T15:14:32.494Z"
   },
   {
    "duration": 10,
    "start_time": "2022-12-07T15:14:32.506Z"
   },
   {
    "duration": 6,
    "start_time": "2022-12-07T15:14:32.538Z"
   },
   {
    "duration": 8,
    "start_time": "2022-12-07T15:14:32.546Z"
   },
   {
    "duration": 8,
    "start_time": "2022-12-07T15:14:32.556Z"
   },
   {
    "duration": 8,
    "start_time": "2022-12-07T15:14:32.565Z"
   },
   {
    "duration": 8,
    "start_time": "2022-12-07T15:14:32.574Z"
   },
   {
    "duration": 7,
    "start_time": "2022-12-07T15:14:32.584Z"
   },
   {
    "duration": 6,
    "start_time": "2022-12-07T15:14:32.593Z"
   },
   {
    "duration": 41,
    "start_time": "2022-12-07T15:14:32.600Z"
   },
   {
    "duration": 8,
    "start_time": "2022-12-07T15:14:32.642Z"
   },
   {
    "duration": 7,
    "start_time": "2022-12-07T15:14:32.651Z"
   },
   {
    "duration": 15,
    "start_time": "2022-12-07T15:14:32.660Z"
   },
   {
    "duration": 16,
    "start_time": "2022-12-07T15:14:32.676Z"
   },
   {
    "duration": 14,
    "start_time": "2022-12-07T15:14:32.694Z"
   },
   {
    "duration": 32,
    "start_time": "2022-12-07T15:14:32.710Z"
   },
   {
    "duration": 7,
    "start_time": "2022-12-07T15:14:32.744Z"
   },
   {
    "duration": 20,
    "start_time": "2022-12-07T15:14:32.753Z"
   },
   {
    "duration": 142,
    "start_time": "2022-12-07T15:14:35.535Z"
   },
   {
    "duration": 31,
    "start_time": "2022-12-07T15:14:53.635Z"
   },
   {
    "duration": 3,
    "start_time": "2022-12-07T15:15:18.655Z"
   },
   {
    "duration": 22,
    "start_time": "2022-12-07T15:15:30.795Z"
   }
  ],
  "kernelspec": {
   "display_name": "Python 3 (ipykernel)",
   "language": "python",
   "name": "python3"
  },
  "language_info": {
   "codemirror_mode": {
    "name": "ipython",
    "version": 3
   },
   "file_extension": ".py",
   "mimetype": "text/x-python",
   "name": "python",
   "nbconvert_exporter": "python",
   "pygments_lexer": "ipython3",
   "version": "3.8.4"
  },
  "toc": {
   "base_numbering": 1,
   "nav_menu": {},
   "number_sections": true,
   "sideBar": true,
   "skip_h1_title": true,
   "title_cell": "Table of Contents",
   "title_sidebar": "Contents",
   "toc_cell": false,
   "toc_position": {},
   "toc_section_display": true,
   "toc_window_display": true
  },
  "vscode": {
   "interpreter": {
    "hash": "f4d859c29dcda1f6b41201e2bb084fb39761e241349ec07bd905079c72993dad"
   }
  }
 },
 "nbformat": 4,
 "nbformat_minor": 2
}
